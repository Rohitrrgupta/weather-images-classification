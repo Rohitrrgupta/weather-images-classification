{
 "cells": [
  {
   "cell_type": "markdown",
   "metadata": {
    "id": "KEk36hiNTbfE"
   },
   "source": [
    "# Introduction\n",
    "Accurate and timely weather prediction can provide critical information for businesses in fields such as agriculture and transportation. This information can be used to make informed decisions and take necessary actions to mitigate potential risks. However, traditional weather forecasting methods can be limited in their accuracy and efficiency. They also require massive models which perform predictions using complex physical relationships and a large number of independent variables. By leveraging the power of deep learning techniques such as convolutional neural networks (CNNs), the accuracy of weather prediction can be improved and businesses can be equipped with more reliable and real time forecasts."
   ]
  },
  {
   "cell_type": "markdown",
   "metadata": {
    "id": "_bIkNbC2z8oL"
   },
   "source": [
    "## Problem Statement\n",
    "Your task is to develop a CNN model that can accurately classify landscape images based on the weather in the captured image."
   ]
  },
  {
   "cell_type": "markdown",
   "metadata": {
    "id": "TCi_8EQ_SKh2"
   },
   "source": [
    "## Outline\n",
    "The overall objective of this assignment is to build a CNN model to classify landscape images based on the weather captured in an image. The different stages involved in the process are outlined below:\n",
    "\n",
    "- Stage 1 - Setup\n",
    "  - Task 1 - Import required modules\n",
    "  - Task 2 - Load the data\n",
    "  - Task 3 - Explore the data\n",
    "- Stage 2 - Data preparation\n",
    "  - Task 4 - Resize all images to the same dimensions\n",
    "  - Task 5 - Prepare the data for feeding into CNNs\n",
    "- Stage 3 - Simple model\n",
    "  - Task 6 - Define a function to build a CNN model\n",
    "  - Task 7 - Create a simple CNN model and analyze its performance\n",
    "- Stage 4 - Data augmentation\n",
    "  - Task 8 - Create a transformed image\n",
    "  - Task 9 - Divide the data by class\n",
    "  - Task 10 - Augment the training data\n",
    "  - Task 11 - Create a simple CNN model using the augmented data and analyze its performance\n",
    "- Stage 5 - Optimal model\n",
    "  - Task 12 - Tune the CNN model\n",
    "- Stage 6 - Testing\n",
    "  - Task 13 - Train your optimal model satisfactorily\n",
    "\n",
    "\n"
   ]
  },
  {
   "cell_type": "markdown",
   "metadata": {
    "id": "nSDjItPDapX4"
   },
   "source": [
    "# Stage 1 - Setup\n",
    "In this stage, you will set up the environment for this assignment by loading the required methods and the data required to train your model. You will explore the data set by displaying some images and examining attributes of different variables. You will achieve all of this by completing the following three tasks:\n",
    "- Task 1 - Import required modules\n",
    "- Task 2 - Load the data\n",
    "- Task 3 - Explore the data"
   ]
  },
  {
   "cell_type": "markdown",
   "metadata": {
    "id": "7fwAly7Kc9ei"
   },
   "source": [
    "## Task 1 - Import required modules"
   ]
  },
  {
   "cell_type": "markdown",
   "metadata": {
    "id": "mWz3KDiuotgp"
   },
   "source": [
    "### Description\n",
    "In this task, you will load all the methods and packages required to perform the various tasks in this assignment."
   ]
  },
  {
   "cell_type": "markdown",
   "metadata": {
    "id": "1IfJUOrG0JBZ"
   },
   "source": [
    "\n",
    "### Requirements\n",
    "Write code that can be used to import the following list of methods and packages that are required in this assignment:\n",
    "\n",
    "- Handling raw data files: *os*\n",
    "- Working with numbers and data frames: *numpy* and *pandas*\n",
    "- Visualizing data: *pyplot* (from *matplotlib*) and *seaborn*\n",
    "- Utilities for handling images (from *tensorflow.keras.utils*): \n",
    " - *img_to_array*\n",
    " - *array_to_img*\n",
    " - *load_img* \n",
    "- Augmenting image data: *tensorflow.image*\n",
    "- Processing data:\n",
    "  - *LabelEncoder* (from *sklearn.preprocessing*)\n",
    "  - *to_categorical* (from *tensorflow.keras.utils*)\n",
    "  - *train_test_split* (from *sklearn.model_selection*)\n",
    "\n",
    "- Creating CNN models:\n",
    " - *Sequential* (from *tensorflow.keras.models*)\n",
    " - *Input*, *Dense*, *Conv2D*, *MaxPooling2D*, *Flatten* (from *tensorflow.keras.layers*)\n",
    " - *Adam* (from *tensorflow.keras.optimizers*)\n",
    "\n",
    "- Suppressing warnings:\n",
    " - *warnings*"
   ]
  },
  {
   "cell_type": "markdown",
   "metadata": {
    "id": "tDTVcD_V0WVh"
   },
   "source": [
    "### Recommendations\n",
    "- You may want to use the *as* keyword to give shorter names to libraries. For example, you can *import numpy as np*.\n",
    "- If you want to import a submodule or a method, you may use the *from* keyword to specify the parent module from which the import the submodule or method. For example, *from matplotlib*, you can *import pyplot as plt*.\n",
    "- As some functions return warnings in their output, you may want to use the *filterwarnings* method from the *warnings* library to suppress warnings."
   ]
  },
  {
   "cell_type": "markdown",
   "metadata": {
    "id": "3hjXLR-lwERP"
   },
   "source": [
    "First, import the required packages and modules."
   ]
  },
  {
   "cell_type": "code",
   "execution_count": 1,
   "metadata": {
    "id": "uKKJxfEj6o1C"
   },
   "outputs": [],
   "source": [
    "# Use this cell to import all the required packages and methods\n",
    "import os\n",
    "\n",
    "import numpy as np \n",
    "import pandas as pd\n",
    "\n",
    "from matplotlib import pyplot as plt\n",
    "import seaborn as sns\n",
    "\n",
    "from tensorflow.keras.utils import img_to_array, array_to_img, load_img\n",
    "\n",
    "import tensorflow.image\n",
    "\n",
    "from sklearn.preprocessing import OneHotEncoder\n",
    "from tensorflow.keras.utils import to_categorical\n",
    "from sklearn.model_selection import train_test_split\n",
    "\n",
    "from tensorflow.keras.models import Sequential\n",
    "from tensorflow.keras.layers import Input, Dense, Conv2D, MaxPooling2D, Flatten\n",
    "from tensorflow.keras.optimizers import Adam"
   ]
  },
  {
   "cell_type": "markdown",
   "metadata": {
    "id": "hAiLME5nwIVb"
   },
   "source": [
    "Now write code to suppress warnings."
   ]
  },
  {
   "cell_type": "code",
   "execution_count": 2,
   "metadata": {
    "id": "1TRhX8p81jZZ"
   },
   "outputs": [],
   "source": [
    "# Use this cell to write your code for suppressing warnings\n",
    "\n",
    "import warnings\n",
    "warnings.filterwarnings('ignore')"
   ]
  },
  {
   "cell_type": "markdown",
   "metadata": {
    "id": "CK1NbJlcow44"
   },
   "source": [
    "### Checklist\n",
    "\n",
    "- Imported the required packages\n",
    "- Suppressed warnings\n"
   ]
  },
  {
   "cell_type": "markdown",
   "metadata": {
    "id": "BOLRp-Ydph2X"
   },
   "source": [
    "## Task 2 - Load the data"
   ]
  },
  {
   "cell_type": "markdown",
   "metadata": {
    "id": "n3LqSPrspl8b"
   },
   "source": [
    "### Description\n",
    "\n",
    "In this task, you will ensure that data is available in the environment at the right place and write a function to load the data into memory. We recommend that you either use Jupyter Notebook or Google Colab to build and execute your code.\n",
    "\n",
    "If you are using Google Colab to execute your code, you can simply the upload the zip file containing the data to your Google Drive and mount your Google Drive in your Colab VM to access the data."
   ]
  },
  {
   "cell_type": "markdown",
   "metadata": {
    "id": "x1pJXGbJqeIy"
   },
   "source": [
    "### Requirements\n",
    "- In case you are using Google Colab, import *drive* from *google.colab* and mount your Google Drive.\n",
    "- In case you are using Jupyter Notebook, please make sure that your files and folders are all in the right place.\n",
    "- Define a function *load_data()*:\n",
    " - The function must read all the images and their corresponding labels from the appropriate folders and store them in two lists, one for the images, and the other one for the labels.\n",
    " - It should have the following keyword argument:\n",
    "   - *mainfolder*: A string that describes the address of the parent data folder in the memory.\n",
    " - It should have the following return values:\n",
    "   - *list_of_images*: A list containing PIL image instances for each image.\n",
    "   - *image_labels*: A list containing their respective labels in the form of a string."
   ]
  },
  {
   "cell_type": "markdown",
   "metadata": {
    "id": "5lfU3Pq-67sn"
   },
   "source": [
    "### Recommendations\n",
    "- If you are using Google Colab:\n",
    "  - Upload the zip file containing the data in Google Drive and then unzip it using *unzip* shell command which you can access using the *!* (exclamation mark) character. \n",
    "  - Once you have mounted Google Drive into your Google Colab VM, you can use the Files section on the left to access the filesystem. You can right click on a file or folder to copy its path. This will be useful while specifying the source file in the *unzip* shell command.\n",
    "  - To specify the target path, you can create a new folder in the folder where your zip file is located.\n",
    "  - Similarly, you can copy the exact location of the *train* and *test* folders. You will need to pass the locations into the *load_data()* function to load the training and test data respectively.\n",
    "- If you are running this code locally, you can unzip the zip folder locally into a folder on your system and copy the path of the parent folder from there.\n",
    "- Inside the *load_data()* function, you can:\n",
    " - use the *os.listdir()* method to obtain the names of the files and folders within a particular folder.\n",
    " - use the *load_img()* method that you imported earlier to read and store images in a variable in the PIL Image format."
   ]
  },
  {
   "cell_type": "markdown",
   "metadata": {
    "id": "lti4qtwCwM0X"
   },
   "source": [
    "First, if you are using Google Colab, mount Google Drive to your VM. If not, skip and comment out this cell."
   ]
  },
  {
   "cell_type": "code",
   "execution_count": 3,
   "metadata": {
    "id": "SKYzyofLO8KU"
   },
   "outputs": [],
   "source": [
    "# Use this cell to write your code for mounting your Google Drive\n",
    "# Note: If you are not using Google Colab, please skip this cell\n",
    "\n",
    "# In case you are using Google Colab, mount your Google Drive before moving on\n",
    "\n",
    "##### CODE HERE #####"
   ]
  },
  {
   "cell_type": "markdown",
   "metadata": {
    "id": "pIHcbMmf-hEv"
   },
   "source": [
    "If you are using Colab, after mounting the drive you need to unzip the files to extract all the images inside it. Note that you don't need to perform this step more than once, so we recommend that you comment out your code for this step once it has executed."
   ]
  },
  {
   "cell_type": "code",
   "execution_count": 4,
   "metadata": {
    "id": "-6mxIHoPO7Um"
   },
   "outputs": [],
   "source": [
    "# Use this cell to write your code for unzipping the data and storing it in Google Drive\n",
    "# Note: If you are not using Google Colab, please skip this cell\n",
    "# Note: You can comment out this cell after running it once\n",
    "\n",
    "# Unzip your image files and store them in your drive\n",
    "\n",
    "##### CODE HERE #####"
   ]
  },
  {
   "cell_type": "markdown",
   "metadata": {
    "id": "DiYKN_QJlRBE"
   },
   "source": [
    "Now define the *load_data()* function."
   ]
  },
  {
   "cell_type": "code",
   "execution_count": 5,
   "metadata": {
    "id": "lh8skyqy7Qb6"
   },
   "outputs": [],
   "source": [
    "# Use this cell to define a function that loads images and their labels\n",
    "\n",
    "# Define a function that loads images and their labels\n",
    "\n",
    "train_dir = r'C:\\Users\\rohit\\OneDrive\\Documents\\CNN assignment\\Files\\weatherdata\\weather\\train'\n",
    "test_dir = r'C:\\Users\\rohit\\OneDrive\\Documents\\CNN assignment\\Files\\weatherdata\\weather\\test'\n",
    "\n",
    "def load_data(mainfolder):\n",
    "    '''\n",
    "    Loads the images from the main folder in a list and creates a list\n",
    "    containing labels for the images\n",
    "\n",
    "    Args:\n",
    "        mainfolder: A string that describes the address of the parent data\n",
    "            folder in the memory\n",
    "    \n",
    "    Returns:\n",
    "        list_of_images: A list containing PIL Image instances for each image\n",
    "        image_labels: A list containing their respective labels in the form \n",
    "            of a string\n",
    "    '''\n",
    "    list_of_images = []\n",
    "    image_labels = []\n",
    "    for file in os.listdir(mainfolder):\n",
    "        img_path = os.path.join(mainfolder, file)\n",
    "        img = load_img(img_path, target_size=(image_width, image_height))\n",
    "        img_array = img_to_array(img)\n",
    "        list_of_images.append(img_array)\n",
    "        \n",
    "        image_label = mainfolder.split('\\\\')[-1]  # Extract the label from the folder name\n",
    "        image_labels.append(image_label)\n",
    "        \n",
    "    return list_of_images, image_labels"
   ]
  },
  {
   "cell_type": "markdown",
   "metadata": {
    "id": "bRjwNJj67LP_"
   },
   "source": [
    "Finally, use the *load_data()* function to load the training and testing data."
   ]
  },
  {
   "cell_type": "code",
   "execution_count": 61,
   "metadata": {
    "id": "mkeH5Ba17Qmv"
   },
   "outputs": [],
   "source": [
    "# Use this cell to load the training and testing data sets and store them in the appropriate variables\n",
    "\n",
    "image_width = 224\n",
    "image_height = 224\n",
    "\n",
    "# Load the training data\n",
    "X_train = []\n",
    "y_train = []\n",
    "\n",
    "# Load the testing data\n",
    "X_test = []\n",
    "y_test = []\n",
    "\n",
    "for folder_name in ['sunny', 'cloudy', 'rainy']:\n",
    "    folder_path = os.path.join(train_dir, folder_name)\n",
    "    images, labels = load_data(folder_path)\n",
    "    X_train.extend(images)\n",
    "    y_train.extend(labels)\n",
    "\n",
    "X_train = np.array(X_train)\n",
    "y_train = np.array(y_train)\n",
    "\n",
    "for folder_name in ['sunny', 'cloudy', 'rainy']:\n",
    "    folder_path = os.path.join(test_dir, folder_name)\n",
    "    images, labels = load_data(folder_path)\n",
    "    X_test.extend(images)\n",
    "    y_test.extend(labels)\n",
    "\n",
    "X_test = np.array(X_test)\n",
    "y_test = np.array(y_test)\n"
   ]
  },
  {
   "cell_type": "code",
   "execution_count": 62,
   "metadata": {},
   "outputs": [
    {
     "name": "stdout",
     "output_type": "stream",
     "text": [
      "(505, 224, 224, 3)\n",
      "(45, 224, 224, 3)\n",
      "(505,)\n",
      "(45,)\n"
     ]
    }
   ],
   "source": [
    "print(X_train.shape)\n",
    "print(X_test.shape)\n",
    "print(y_train.shape)\n",
    "print(y_test.shape)"
   ]
  },
  {
   "cell_type": "markdown",
   "metadata": {
    "id": "Rf3FIRGg_G2b"
   },
   "source": [
    "### Checklist\n",
    "- Defined the *load_data()* function which takes in the given keyword arguments and returns the given variables\n",
    "- Used the *load_data()* function to load *X_train, y_train, X_test,* and *y_test*\n",
    "- *X_train, y_train, X_test,* and *y_test* are of the type *list*\n",
    "- Items in *X_train* and *X_test* are of the type *PIL.JpegImagePlugin.JpegImageFile*\n",
    "- Items in *y_train* and *y_test* are of the type *str*\n"
   ]
  },
  {
   "cell_type": "markdown",
   "metadata": {
    "id": "kFs4KGYsFFoi"
   },
   "source": [
    "## Task 3 - Explore the data"
   ]
  },
  {
   "cell_type": "markdown",
   "metadata": {
    "id": "Dmz5KGzJFJYC"
   },
   "source": [
    "### Description\n",
    "\n",
    "In this task, you will explore the data that you have just loaded. To this end, you will display one image from each class from both the training and the testing data sets. To inspect the size of the data sets, you will examine the number of data points available in the training and the testing data sets. You will also save the number of classes present in the data set in a variable for later use. Finally, you will count the number of records that belong to different classes in the training data set and represent this information in a histogram.\n",
    "\n",
    "The number of records in different classes allows us to study the class balance in the data set. An imbalanced data set will cause the model to be biased in favor of the classes with high representation. This is an important aspect of the data set that must be considered."
   ]
  },
  {
   "cell_type": "markdown",
   "metadata": {
    "id": "kRKjcU-jHSlp"
   },
   "source": [
    "### Requirements\n",
    "- View an image from each class in the training and the testing data sets.\n",
    "- Print the length of *X_train, y_train, X_test,* and *y_test*.\n",
    "- Save the number of classes present in the data set in a variable called *n_classes*.\n",
    "- Print the number of elements in each class in the training and testing data sets.\n",
    "- Visualize the class balance using a histogram."
   ]
  },
  {
   "cell_type": "markdown",
   "metadata": {
    "id": "5Y-xAzqjZLOJ"
   },
   "source": [
    "### Recommendations\n",
    "\n",
    "- You can use the *imshow()* method from *matplotlib.pyplot* to view images.\n",
    "- The number of subfolders in either the training or testing folders is equal to the number of classes. You can use a combination of the *os.listdir()* and the *len()* methods to obtain the number of classes.\n",
    "- You can use the *unique()* method from *numpy* to obtain the unique items in an array along with their corresponding occurence frequencies in that array.\n",
    "- You can use the *countplot()* function from *seaborn* to create the histogram."
   ]
  },
  {
   "cell_type": "markdown",
   "metadata": {
    "id": "hhcP3qORZfzA"
   },
   "source": [
    "First, display images from the training and testing data sets.\n"
   ]
  },
  {
   "cell_type": "code",
   "execution_count": 8,
   "metadata": {},
   "outputs": [
    {
     "name": "stdout",
     "output_type": "stream",
     "text": [
      "Train labels:  {'cloudy': 285, 'rainy': 70, 'sunny': 150}\n",
      "Test labels:  {'cloudy': 15, 'rainy': 15, 'sunny': 15}\n"
     ]
    }
   ],
   "source": [
    "# Look at the frequency of the unique class labels in the training data\n",
    "unique, counts = np.unique(y_train, return_counts = True)\n",
    "print('Train labels: ', dict(zip(unique, counts)))\n",
    "\n",
    "# Look at the frequency of the unique class labels in the testing data\n",
    "unique, counts = np.unique(y_test, return_counts = True)\n",
    "print('Test labels: ', dict(zip(unique, counts)))"
   ]
  },
  {
   "cell_type": "code",
   "execution_count": 9,
   "metadata": {
    "id": "QtOjjNY-7o3_"
   },
   "outputs": [
    {
     "data": {
      "image/png": "[encoded data removed]",
      "text/plain": [
       "<Figure size 360x360 with 25 Axes>"
      ]
     },
     "metadata": {
      "needs_background": "light"
     },
     "output_type": "display_data"
    }
   ],
   "source": [
    "# Use this cell to view a few images from the training data set for each class\n",
    "\n",
    "indices = np.random.randint(0, X_train.shape[0], size = 25)\n",
    "\n",
    "images = X_train[indices]\n",
    "labels = y_train[indices]\n",
    "\n",
    "plt.figure(figsize = (5, 5))\n",
    "\n",
    "for i in range(len(indices)):\n",
    "    plt.subplot(5, 5, i + 1)\n",
    "    image = images[i]\n",
    "    image = image.astype('float32') / 255\n",
    "    plt.imshow(image)\n",
    "    plt.axis('off')\n",
    "\n",
    "plt.show()\n",
    "plt.close('all')"
   ]
  },
  {
   "cell_type": "markdown",
   "metadata": {
    "id": "QgFwMv1-7yvI"
   },
   "source": [
    "Print the number of training and testing data points available to you."
   ]
  },
  {
   "cell_type": "code",
   "execution_count": 10,
   "metadata": {
    "id": "0gq6kfIl7fjJ"
   },
   "outputs": [
    {
     "name": "stdout",
     "output_type": "stream",
     "text": [
      "number of data points in X_train is  505\n",
      "number of data points in X_test is  45\n"
     ]
    }
   ],
   "source": [
    "# Use this cell to inspect the number of training and testing data points available\n",
    "\n",
    "print('number of data points in X_train is ', len(X_train))\n",
    "print('number of data points in X_test is ', len(X_test))"
   ]
  },
  {
   "cell_type": "markdown",
   "metadata": {
    "id": "D9EwlEKf4VSx"
   },
   "source": [
    "Store the number of classes in this classification exercise."
   ]
  },
  {
   "cell_type": "code",
   "execution_count": 11,
   "metadata": {
    "id": "wZvQ7qt84QsQ"
   },
   "outputs": [
    {
     "name": "stdout",
     "output_type": "stream",
     "text": [
      "Number of classes = 3\n"
     ]
    }
   ],
   "source": [
    "# Use this cell to extract and store the total class count\n",
    "\n",
    "# Extract and store the total class count\n",
    "subfolders = [f for f in os.listdir(train_dir)]\n",
    "n_classes = len(subfolders)\n",
    "print('Number of classes =', n_classes)"
   ]
  },
  {
   "cell_type": "markdown",
   "metadata": {
    "id": "2d1q2c704zfQ"
   },
   "source": [
    "Print the number of data points from each class in the training and testing data sets."
   ]
  },
  {
   "cell_type": "code",
   "execution_count": 12,
   "metadata": {
    "id": "3GNs0ICv4y53"
   },
   "outputs": [
    {
     "name": "stdout",
     "output_type": "stream",
     "text": [
      "The number of files in train set of subfolder: cloudy is 285\n",
      "The number of files in train set of subfolder: rainy is 70\n",
      "The number of files in train set of subfolder: sunny is 150\n",
      "The number of files in test set of subfolder: cloudy is 15\n",
      "The number of files in test set of subfolder: rainy is 15\n",
      "The number of files in test set of subfolder: sunny is 15\n"
     ]
    }
   ],
   "source": [
    "# Use this cell to inspect the number of training and testing data points available in each class\n",
    "\n",
    "subfolders_train = [f for f in os.listdir(train_dir)]\n",
    "subfolders_test = [f for f in os.listdir(test_dir)]\n",
    "\n",
    "train_counts = []\n",
    "test_counts = []\n",
    "\n",
    "for subfolder in subfolders_train:\n",
    "    file_path = os.path.join(train_dir, subfolder)\n",
    "    files = [f for f in os.listdir(file_path)]\n",
    "    train_counts.append(len(files))\n",
    "    print('The number of files in train set of subfolder:', subfolder, 'is', len(files))\n",
    "    \n",
    "for subfolder in subfolders_test:\n",
    "    file_path = os.path.join(test_dir, subfolder)\n",
    "    files = [f for f in os.listdir(file_path)]\n",
    "    test_counts.append(len(files))\n",
    "    print('The number of files in test set of subfolder:', subfolder, 'is', len(files))"
   ]
  },
  {
   "cell_type": "markdown",
   "metadata": {
    "id": "yhR9fFwoyo2u"
   },
   "source": [
    "Finally, visualze the class balance in the training data set."
   ]
  },
  {
   "cell_type": "code",
   "execution_count": 13,
   "metadata": {
    "id": "rsq9lAHR9bF9",
    "scrolled": false
   },
   "outputs": [
    {
     "data": {
      "image/png": "[encoded data removed]",
      "text/plain": [
       "<Figure size 720x432 with 1 Axes>"
      ]
     },
     "metadata": {},
     "output_type": "display_data"
    }
   ],
   "source": [
    "# Use this cell to visualize the class balance in the training data set\n",
    "\n",
    "sns.set(style = 'whitegrid')\n",
    "plt.figure(figsize = (10, 6))\n",
    "ax = sns.barplot(x = subfolders_train, y = train_counts)\n",
    "ax.set_xlabel('Subfolders')\n",
    "ax.set_ylabel('Number of files')\n",
    "ax.set_title('File Count in Each Folder')\n",
    "ax.set_ylim([0, max(train_counts) + 20])\n",
    "for i, count in enumerate(train_counts):\n",
    "    ax.text(i, count + 5, str(count), ha='center')\n",
    "\n",
    "plt.show()"
   ]
  },
  {
   "cell_type": "markdown",
   "metadata": {
    "id": "mU6IzrzYZ_b4"
   },
   "source": [
    "### Checklist\n",
    "- Viewed one sample image from each class for training and testing data sets\n",
    "- Length of *X_train* is 505\n",
    "- Length of *X_test* is 45\n",
    "- The \"cloudy\" class has 285 data points in the training data set\n",
    "- The \"rainy\" class has 70 data points in the training data set\n",
    "- The \"sunny\" class has 150 data points in the training data set\n",
    "- Created a visualization for class balance in the training data set"
   ]
  },
  {
   "cell_type": "markdown",
   "metadata": {
    "id": "2pN32d_-e-S7"
   },
   "source": [
    "# Stage 2 - Data Preparation\n",
    "In this stage, you will perform some basic essential data preparation methods on your image data so that they are ready for use in CNNs. \n",
    "\n",
    "To prepare the data, you will first need to resize the images in the training and testing data sets to the same size. This can be done using some methods provided to us in the *tensorflow* library. Second, you will convert the data into a format that is suitable to be fed into a Keras CNN model.\n",
    "\n",
    "You will achieve this by completing the following tasks:\n",
    "- Task 4 - Resize all images to the same dimension\n",
    "- Task 5 - Prepare the data for feeding into CNN"
   ]
  },
  {
   "cell_type": "markdown",
   "metadata": {
    "id": "gdR-anNzc9en"
   },
   "source": [
    "## Task 4 - Resize all images to the same dimensions\n"
   ]
  },
  {
   "cell_type": "markdown",
   "metadata": {
    "id": "7szPBAYyNEbT"
   },
   "source": [
    "### Description\n",
    "In this task, you will resize all the images in your data set to the same dimensions. This is necessary because CNN models expect input images to have the same dimensions. \n",
    "\n",
    "You will first need to choose the dimensions of the resized images. It is recommened to reshape all the images to squares as it is easier to work with square images. Thererfore, to choose the side of the square, you need to inspect the dimensions of all the images in your data sets. You can pick any size that is smaller than the smallest image in the original data set as this generally ensures better data retention.\n",
    "\n",
    "Note that resizing the image to the chosen dimension will have an impact on the rest of the assignment. Smaller image sizes will lead to less complex models and faster training, but the consequent data loss might lead to information loss, that might affect model performance. On the other hand, larger image dimensions will lead to more complex models and slower training, but there is lower risk of information loss, and that might lead to better model performance. You can change the dimensions of your resized images keeping in mind the trade off between performance and information loss.\n",
    "For this, you can revisit this task after training a simple model try different image dimensions (that are smaller than the smallest dimension in the original data set). \n",
    "\n",
    "Once you have decided on the new size, you can use any method of your choice to obtain the smallest dimensions in the training and testing data set images.\n",
    "\n",
    "Finally, you will save your training image list and the corresponding labels in new variables which can be accessed later. This is required because you will soon perform a set of data preprocessing steps on the training data, but when you get to the augmentation stage, you will need to retrieve the unprocessed training data."
   ]
  },
  {
   "cell_type": "markdown",
   "metadata": {
    "id": "b1PwQidKNDc7"
   },
   "source": [
    "### Requirements\n",
    "- Find the smallest image dimension (considering both length and width) in both the training and the testing data sets.\n",
    "- Choose the new dimensions for the images in the data set and save them in a variable *new_image_dims*.\n",
    "- Define a function *resize_images()*:\n",
    "    - The function must resize all the images in a list of images and return the updated list of images with the resized images. The function should be able to resize images in both the training and testing data sets.\n",
    "    - The function should have the following keyword arguments:\n",
    "        - *input_images*: A list of input images to be resized. Each input image must be a PIL image.\n",
    "        - *new_dims*: An integer specifying the desired dimensions of the output images. Each output image will have the same height and width.\n",
    "    - The function should return the following:\n",
    "         - *resized_images*: A list of resized images. Each output image is a PIL image with the specified dimensions.\n",
    "- Use the *resize_images()* function to resize images from the training and testing data sets.\n",
    "- View an image from each class in the training and the testing data sets.\n",
    "- Save the training data set containing resized images into new variables *X_pre_NN* and *y_pre_NN*. This is to retain the training data in its image format before proceeding with data preprocessing for CNNs."
   ]
  },
  {
   "cell_type": "markdown",
   "metadata": {
    "id": "AC6IfSDG-HhW"
   },
   "source": [
    "### Recommendations\n",
    "- You can use the *size* attribute of PIL Image objects to access the dimensions of an image in the form of a tuple.\n",
    "- If you convert a list to a set, only the unique items in the list are present in the resultant set. You can use this to find out the unique image sizes in the data sets.\n",
    "- Since you are reshaping images to squares, you can specify the new image dimension as a whole number instead of a tuple.\n",
    "- You can use the *resize()* method from *tensorflow.image* to resize an image.\n",
    "- You can use the *img_to_array()* method to convert an image to an array before using the *resize()* method on it.\n",
    "- You can use the *array_to_img()* method to convert an array to an image after the *resize()* method operation.\n",
    "- Start by resizing your images to 64 pixels by 64 pixels. You may revisit this after training a simple model to try different sizes."
   ]
  },
  {
   "cell_type": "markdown",
   "metadata": {
    "id": "yHuRj2Nfbbfu"
   },
   "source": [
    "First, obtain the smallest image dimensions in training and testing data sets."
   ]
  },
  {
   "cell_type": "code",
   "execution_count": 14,
   "metadata": {
    "id": "mbSJEdCG9EM4",
    "scrolled": false
   },
   "outputs": [
    {
     "data": {
      "image/png": "[encoded data removed]",
      "text/plain": [
       "<Figure size 1152x576 with 10 Axes>"
      ]
     },
     "metadata": {},
     "output_type": "display_data"
    }
   ],
   "source": [
    "# View a few training data images and their corresponding labels\n",
    "\n",
    "indices = np.random.randint(0, X_train.shape[0], size = 10)\n",
    "plt.figure(figsize = (16, 8))\n",
    "\n",
    "indexcount = 0\n",
    "for data_index in indices:\n",
    "    indexcount += 1\n",
    "    image = X_train[data_index].astype(np.uint8)\n",
    "    plt.subplot(1, 10, indexcount)\n",
    "    plt.imshow(image)\n",
    "    plt.title(str(y_train[data_index]))\n",
    "    \n",
    "plt.show()\n",
    "plt.tight_layout()\n",
    "plt.close('all')"
   ]
  },
  {
   "cell_type": "code",
   "execution_count": 15,
   "metadata": {},
   "outputs": [
    {
     "name": "stdout",
     "output_type": "stream",
     "text": [
      "Smallest width in training set: 158\n",
      "Smallest height in training set: 111\n",
      "Smallest width in testing set: 183\n",
      "Smallest height in testing set: 160\n"
     ]
    }
   ],
   "source": [
    "train_smallest_width = float('inf')\n",
    "train_smallest_height = float('inf')\n",
    "\n",
    "# Iterate through training images\n",
    "for folder_name in os.listdir(train_dir):\n",
    "    folder_path = os.path.join(train_dir, folder_name)\n",
    "    for filename in os.listdir(folder_path):\n",
    "        img_path = os.path.join(folder_path, filename)\n",
    "        img = load_img(img_path)\n",
    "        width, height = img.size\n",
    "        if width < train_smallest_width:\n",
    "            train_smallest_width = width\n",
    "        if height < train_smallest_height:\n",
    "            train_smallest_height = height\n",
    "\n",
    "test_smallest_width = float('inf')\n",
    "test_smallest_height = float('inf')\n",
    "\n",
    "# Iterate through testing images\n",
    "for folder_name in os.listdir(test_dir):\n",
    "    folder_path = os.path.join(test_dir, folder_name)\n",
    "    for filename in os.listdir(folder_path):\n",
    "        img_path = os.path.join(folder_path, filename)\n",
    "        img = load_img(img_path)\n",
    "        width, height = img.size\n",
    "        if width < test_smallest_width:\n",
    "            test_smallest_width = width\n",
    "        if height < test_smallest_height:\n",
    "            test_smallest_height = height\n",
    "\n",
    "print(\"Smallest width in training set:\", train_smallest_width)\n",
    "print(\"Smallest height in training set:\", train_smallest_height)\n",
    "print(\"Smallest width in testing set:\", test_smallest_width)\n",
    "print(\"Smallest height in testing set:\", test_smallest_height)"
   ]
  },
  {
   "cell_type": "markdown",
   "metadata": {
    "id": "ykjoaOYtW8f6"
   },
   "source": [
    "Now define the *resize_images()* function."
   ]
  },
  {
   "cell_type": "code",
   "execution_count": 16,
   "metadata": {
    "id": "fJLixTd_9LVS"
   },
   "outputs": [],
   "source": [
    "# Use this cell to define a function that resizes image dimensions\n",
    "from PIL import Image\n",
    "# Define a function that resizes image dimensions\n",
    "def resize_images(input_images, new_dims):\n",
    "    '''\n",
    "    Resizes all the images in a list to a square with its side given.\n",
    "\n",
    "    Args:\n",
    "        input_images: A list of images to be resized. Each input image \n",
    "            must be a PIL image.\n",
    "        new_dims: An integer specifying the desired dimensions of the output \n",
    "            images. Each output image will have the same height and width.\n",
    "\n",
    "    Returns:\n",
    "        resized_images: A list of resized images. Each output image is a PIL \n",
    "            image with the specified dimensions.\n",
    "    '''\n",
    "    resized_images = []\n",
    "\n",
    "    for img in input_images:\n",
    "        img_pil = Image.fromarray(img.astype(np.uint8))\n",
    "        resized_img_pil = img_pil.resize(new_dims)\n",
    "        resized_img = np.array(resized_img_pil)\n",
    "        resized_images.append(resized_img)\n",
    "        \n",
    "    return np.array(resized_images)"
   ]
  },
  {
   "cell_type": "markdown",
   "metadata": {
    "id": "X5-u1kiICkTm"
   },
   "source": [
    "Next, decide on a new image dimension.\n"
   ]
  },
  {
   "cell_type": "code",
   "execution_count": 17,
   "metadata": {
    "id": "9HJlPTT4O3wF"
   },
   "outputs": [],
   "source": [
    "# Use this cell to set the new dimensions for all images\n",
    "\n",
    "# Set the new dimensions for all images\n",
    "new_image_dims = (56, 56)"
   ]
  },
  {
   "cell_type": "markdown",
   "metadata": {
    "id": "aR9F29z3U151"
   },
   "source": [
    "Use the *resize_images()* method to resize your training and testing images."
   ]
  },
  {
   "cell_type": "code",
   "execution_count": 18,
   "metadata": {
    "id": "Vg-Myu4bc9eo"
   },
   "outputs": [],
   "source": [
    "# Use this cell to standardize the dimensions for all images in the training and testing data sets\n",
    "\n",
    "# Standardize the dimensions for all images in the training data set\n",
    "X_train = resize_images(X_train, new_image_dims)\n",
    "\n",
    "# Standardize the dimensions for all images in the testing data set\n",
    "X_test = resize_images(X_test, new_image_dims)"
   ]
  },
  {
   "cell_type": "markdown",
   "metadata": {
    "id": "pUTayLDEZFMA"
   },
   "source": [
    "View some images from the resized data set."
   ]
  },
  {
   "cell_type": "code",
   "execution_count": 19,
   "metadata": {
    "id": "i8kzZnlJO3wF"
   },
   "outputs": [
    {
     "data": {
      "image/png": "[encoded data removed]",
      "text/plain": [
       "<Figure size 1152x576 with 10 Axes>"
      ]
     },
     "metadata": {},
     "output_type": "display_data"
    }
   ],
   "source": [
    "# Use this cell to view a few images from the training data set for each class\n",
    "\n",
    "indices = np.random.randint(0, X_train.shape[0], size = 10)\n",
    "plt.figure(figsize = (16, 8))\n",
    "\n",
    "indexcount = 0\n",
    "for data_index in indices:\n",
    "    indexcount += 1\n",
    "    plt.subplot(1, 10, indexcount)\n",
    "    plt.imshow(X_train[data_index])\n",
    "    plt.title(str(y_train[data_index]))\n",
    "    \n",
    "plt.show()\n",
    "plt.tight_layout()\n",
    "plt.close('all')"
   ]
  },
  {
   "cell_type": "code",
   "execution_count": 20,
   "metadata": {
    "id": "19HYgE99D6b7"
   },
   "outputs": [
    {
     "data": {
      "image/png": "[encoded data removed]",
      "text/plain": [
       "<Figure size 1152x576 with 10 Axes>"
      ]
     },
     "metadata": {},
     "output_type": "display_data"
    }
   ],
   "source": [
    "# Use this cell to view a few images from the testing data set for each class\n",
    "\n",
    "indices = np.random.randint(0, X_test.shape[0], size = 10)\n",
    "plt.figure(figsize = (16, 8))\n",
    "\n",
    "indexcount = 0\n",
    "for data_index in indices:\n",
    "    indexcount += 1\n",
    "    plt.subplot(1, 10, indexcount)\n",
    "    plt.imshow(X_test[data_index])\n",
    "    plt.title(str(y_test[data_index]))\n",
    "    \n",
    "plt.show()\n",
    "plt.tight_layout()\n",
    "plt.close('all')"
   ]
  },
  {
   "cell_type": "markdown",
   "metadata": {
    "id": "nf_FjNUvZK1w"
   },
   "source": [
    "Finally, save the resized data set into variables that will be useful later."
   ]
  },
  {
   "cell_type": "code",
   "execution_count": 21,
   "metadata": {
    "id": "-qehKcMvESUI"
   },
   "outputs": [],
   "source": [
    "# Use this cell to store the resized images and labels for later use\n",
    "\n",
    "# Store the resized images for later use\n",
    "X_pre_NN = X_train\n",
    "\n",
    "# Store the labels for later use\n",
    "y_pre_NN = y_train"
   ]
  },
  {
   "cell_type": "markdown",
   "metadata": {
    "id": "S6DszZ8PcXee"
   },
   "source": [
    "### Checklist\n",
    "- Smallest image dimension in the training data is 111\n",
    "- Smallest image dimension in the testing data is 160\n",
    "- Defined the *resize_images()* function using the given keyword arguments and return variables\n",
    "- Declared the new image dimension in a variable called *new_image_dims*\n",
    "- Resized images in both *X_train* and *X_test*\n",
    "- Saved the resized data sets into new variables for later use"
   ]
  },
  {
   "cell_type": "markdown",
   "metadata": {
    "id": "MkI6k7yUaOd9"
   },
   "source": [
    "## Task 5 - Prepare the data for feeding into CNN\n"
   ]
  },
  {
   "cell_type": "markdown",
   "metadata": {
    "id": "hDfemRwUdme2"
   },
   "source": [
    "### Description\n",
    "\n",
    "In this section, you will perform a set of data preparation steps that enables CNNs to work on the data. Currently, *X_train* and *X_test* are lists of images, whereas *y_train* and *y_test* are lists of strings. Keras models can accept data in the form of *numpy* arrays. Therefore, you will convert the data into arrays.\n",
    "\n",
    "For the input data, you need to convert the list of images into an *numpy* array. Note that the pixel gray levels are currently in the range $[0, 255]$. You will rescale these to $[0, 1]$. This is a common pre-processing step in image classification tasks, as it helps the model to converge faster during training.\n",
    "\n",
    "For the output data, you will need to encode the different labels as one-hot encoded vectors."
   ]
  },
  {
   "cell_type": "markdown",
   "metadata": {
    "id": "MT6E_y3gk5k8"
   },
   "source": [
    "### Requirements\n",
    "- Convert *X_train* and *X_test* and their constituent images to *numpy* arrays.\n",
    "- Scale *X_train* and *X_test* by divding the pixel values by 255.\n",
    "- Perform one-hot encoding on *y_train* and *y_test*.\n",
    "- Store the expected input shape for the CNN in a variable called *inputdims*."
   ]
  },
  {
   "cell_type": "markdown",
   "metadata": {
    "id": "9WxHdlYuc9ep"
   },
   "source": [
    "### Recommendations\n",
    "- You can convert images to arrays using the *img_to_array()* method.\n",
    "- You can then convert the list of arrays into an array using the *numpy.array()* method.\n",
    "- You can use the *LabelEncoder()* method to encode labels into integers You can then use the *to_categorical()* method to convert these integer labels into one-hot encoded vectors."
   ]
  },
  {
   "cell_type": "markdown",
   "metadata": {
    "id": "K1FBWF43zkmt"
   },
   "source": [
    "First, convert the input data into numpy arrays."
   ]
  },
  {
   "cell_type": "code",
   "execution_count": 22,
   "metadata": {
    "id": "eItkwBEdc9ep"
   },
   "outputs": [
    {
     "name": "stdout",
     "output_type": "stream",
     "text": [
      "True\n",
      "True\n"
     ]
    }
   ],
   "source": [
    "# Use this cell to convert the training and testing images into arrays\n",
    "\n",
    "print(isinstance(X_train, np.ndarray))\n",
    "print(isinstance(X_test, np.ndarray))"
   ]
  },
  {
   "cell_type": "markdown",
   "metadata": {
    "id": "eCL__BEUZE1j"
   },
   "source": [
    "Now, rescale the data."
   ]
  },
  {
   "cell_type": "code",
   "execution_count": 23,
   "metadata": {
    "id": "sNYnU1Rvc9eq"
   },
   "outputs": [],
   "source": [
    "# Use this cell to rescale the training and testing images from the range [0, 255] to [0, 1]\n",
    "\n",
    "X_train = X_train.astype('float32') / 255\n",
    "X_test = X_test.astype('float32') / 255"
   ]
  },
  {
   "cell_type": "markdown",
   "metadata": {
    "id": "IwDnOozKZyi-"
   },
   "source": [
    "Now convert the image labels to one-hot encoded vectors."
   ]
  },
  {
   "cell_type": "code",
   "execution_count": 24,
   "metadata": {
    "id": "jAuFQ82ic9eq"
   },
   "outputs": [
    {
     "name": "stdout",
     "output_type": "stream",
     "text": [
      "(505, 3)\n",
      "(45, 3)\n"
     ]
    }
   ],
   "source": [
    "# Use this cell to one-hot encode the labels in the training and testing data sets\n",
    "\n",
    "label_map = {'sunny': [1, 0, 0], 'cloudy': [0, 1, 0], 'rainy': [0, 0, 1]}\n",
    "\n",
    "# Convert labels in y_train to one-hot encoded format\n",
    "y_train = np.array([label_map[label] for label in y_train])\n",
    "y_test = np.array([label_map[label] for label in y_test])\n",
    "\n",
    "print(y_train.shape)\n",
    "print(y_test.shape)"
   ]
  },
  {
   "cell_type": "markdown",
   "metadata": {
    "id": "60auiw63W5u3"
   },
   "source": [
    "Finally, save the input dimensions for the CNNs in a variable so that you can call or refer to it when building CNN models."
   ]
  },
  {
   "cell_type": "code",
   "execution_count": 25,
   "metadata": {},
   "outputs": [
    {
     "data": {
      "image/png": "[encoded data removed]",
      "text/plain": [
       "<Figure size 1008x288 with 2 Axes>"
      ]
     },
     "metadata": {},
     "output_type": "display_data"
    }
   ],
   "source": [
    "# viewing some images after one hot encoding and resizing\n",
    "plt.figure(figsize = (14, 4))\n",
    "\n",
    "for data_index in np.arange(0, 2, 1):\n",
    "    plt.subplot(1, 2, data_index + 1)\n",
    "    plt.imshow(X_train[data_index])\n",
    "    plt.title(str(y_train[data_index]))\n",
    "\n",
    "plt.show()\n",
    "plt.tight_layout()\n",
    "plt.close('all')"
   ]
  },
  {
   "cell_type": "code",
   "execution_count": 26,
   "metadata": {
    "id": "qse2vmKcO3wH"
   },
   "outputs": [],
   "source": [
    "# Use this cell to store the input dimensions for the CNNs\n",
    "\n",
    "# Store the input dimensions for the CNNs\n",
    "inputdims = (56, 56, 3)"
   ]
  },
  {
   "cell_type": "markdown",
   "metadata": {
    "id": "s1R78CcivOq3"
   },
   "source": [
    "### Checklist\n",
    "- *X_train* is an *ndarray* of shape $(505, 64, 64, 3)$\n",
    "- *X_test* is an *ndarray* of shape $(45, 64, 64, 3)$\n",
    "- Values in *X_train* and *X_test* range from $0$ to $1$\n",
    "- *y_train* is an *ndarray* of shape $(505, 3)$\n",
    "- *y_test* is an *ndarray* of shape $(45, 3)$\n",
    "- Values in *y_train* and *y_test* are either $0$ or $1$\n",
    "- *inputdims* contains the expected shape of the input for a CNN model, and is equal to $(64, 64, 3)$"
   ]
  },
  {
   "cell_type": "markdown",
   "metadata": {
    "id": "KqeEvgNrhgx9"
   },
   "source": [
    "# Stage 3 - Simple Model\n",
    "In this stage, you will build, train and evaluate a basic CNN model on the data and analyze its performance. You will build the model using a function. This will help you change the configuration of your model during execution. You will also test the performance of the performance of the model by training it multiple times and then judging the distribution of final accuracies and loss values.\n",
    "\n",
    "You will do all this with the help of the following tasks:\n",
    "- Task 6 - Define a function to build a CNN model\n",
    "- Task 7 - Create a simple CNN model and analyze its performance"
   ]
  },
  {
   "cell_type": "markdown",
   "metadata": {
    "id": "dXVboDq56UjB"
   },
   "source": [
    "## Task 6 - Define a function to build a CNN model\n"
   ]
  },
  {
   "cell_type": "markdown",
   "metadata": {
    "id": "S2bgYRAVXC7n"
   },
   "source": [
    "### Description\n",
    "In this task, you will define a function that creates a CNN model, compiles it, and returns the compiled model.\n",
    "\n",
    "You will need an easy way to create models with different configurations and hyperparameter values when you perform hyperparameter tuning. Therefore, it is useful to define a build function for your CNN model that let's you control the network configuration and returns the model. "
   ]
  },
  {
   "cell_type": "markdown",
   "metadata": {
    "id": "VaqONbTGWJ3p"
   },
   "source": [
    "### Requirements\n",
    "- Define a function *create_cnn()*:\n",
    "    - This function creates and compiles a convolutional neural network (CNN) with the specified layers configuration and learning rate.\n",
    "    - The function should have the following keyword arguments:\n",
    "        - *layers_config*: A list of strings specifying the configuration of each layer in the CNN. This parameter should be interpreted by the function to add convolutional, pooling, flatten and dense layers along with their parameters such as filter size, filter stride, number of filters, number of neurons and so on, and a learning rate value parameter. \n",
    "        - *learning_rate_value*: A float specifying the learning rate to be used by the optimizer during training.\n",
    "    - The function should return the following:\n",
    "        - *cnn*: A compiled CNN with the specified configuration of layers and learning rate."
   ]
  },
  {
   "cell_type": "markdown",
   "metadata": {
    "id": "5sGVLxP3bZhg"
   },
   "source": [
    "### Recommendations\n",
    "- Consider an example for the *layers_config* variable. A *Conv2d()* layer may be represented using the string *c_4_3*. This could be interpreted as follows: *c* stands for the layer being a *Conv2D()* layer, 4 stands for the number of filters in the layer and 3 is used to define the size of the filter. Therefore if the string *c_4_3* is an item in the list *layers_config*, it should add the following layer: *Conv2D(filters = 4, kernel_size = 3)*. Similarly you can define string patterns for other layers.\n",
    "- It is recommended to use the following specifications as fixed specifications of the CNN models:\n",
    "    - The input layer can be fixed and the input dimensions that you saved in the variable *inputdims* can be provided into this layer.\n",
    "    - The activation function for the dense layers may be fixed as ReLU.\n",
    "    - The output layer can be fixed as a dense layer with the appropriate number of output neurons and the activation function for this layer can be fixed as Softmax.\n",
    "    - When compiling the network, the loss function can be fixed as categorical crossentropy, the metric can be fixed as accuracy, and the optimizer type may be fixed as Adam.\n",
    "    - Any other parameter that has not been explicitly mentioned in this assignment may be left at their default values."
   ]
  },
  {
   "cell_type": "markdown",
   "metadata": {
    "id": "F7L3Mxot0JKW"
   },
   "source": [
    "Define the *create_cnn()* function."
   ]
  },
  {
   "cell_type": "code",
   "execution_count": 27,
   "metadata": {
    "id": "i7GkwZu23cC5"
   },
   "outputs": [],
   "source": [
    "# Use this cell to define a function that creates and compiles a CNN\n",
    "\n",
    "# Define a function that creates and compiles a CNN\n",
    "def create_cnn(n_filters = 1,\n",
    "               filter_size = (3, 3),\n",
    "               pool_filter_size = (2, 2)):\n",
    "  \n",
    "    cnn = Sequential()\n",
    "    \n",
    "    cnn.add(Conv2D(filters = n_filters,\n",
    "                   kernel_size = filter_size,\n",
    "                   input_shape = inputdims))\n",
    "    \n",
    "    cnn.add(MaxPooling2D(pool_size = pool_filter_size))\n",
    "    \n",
    "    cnn.add(Flatten())\n",
    "    \n",
    "    cnn.add(Dense(units = 128,\n",
    "                  activation = 'sigmoid'))\n",
    "    \n",
    "    cnn.add(Dense(units = n_classes,\n",
    "                  activation = 'softmax'))\n",
    "   \n",
    "    optimizer = Adam(learning_rate=0.01)\n",
    "    \n",
    "    cnn.compile(loss = 'categorical_crossentropy',\n",
    "                metrics = ['accuracy'],\n",
    "                optimizer = optimizer)\n",
    "    \n",
    "    return cnn"
   ]
  },
  {
   "cell_type": "markdown",
   "metadata": {
    "id": "glspmB89jv5g"
   },
   "source": [
    "### Checklist\n",
    "- Defined a function *create_cnn()* with given keyword arguments and return variables\n",
    "- Followed the recommended specifications in the model"
   ]
  },
  {
   "cell_type": "markdown",
   "metadata": {
    "id": "YeuiBG-E0XvC"
   },
   "source": [
    "## Task 7 - Create a simple CNN model and analyze its performance"
   ]
  },
  {
   "cell_type": "markdown",
   "metadata": {
    "id": "hYBp4v4jk4m7"
   },
   "source": [
    "### Description\n",
    "\n",
    "In this task, you will create a simple CNN model and train it on the training data multiple times and record its performance in each training iteration. You will then analyze the model's performance by summarizing its performance over the various training trials.\n",
    "\n",
    "The reason why we want to train it multiple times is that your model may not train the same way each time. To get a good understanding of a model's performance, you need to train it a few times under the same settings and conditions and record its performance each time. You can then judge the model based on the distribution of its performances."
   ]
  },
  {
   "cell_type": "markdown",
   "metadata": {
    "id": "ClqRIRqDodie"
   },
   "source": [
    "### Requirements\n",
    "- Store the number of trials, number of epochs, and the validation split in variables called *num_trials*, *n_epochs*, and *val_split* respectively. These variables can be globally used throughout the code.\n",
    "- Use the *create_cnn()* function to create a basic CNN model. You may start off with the following suggested network specifications:\n",
    "    - A convolutional layer with 2 filters, each of size 3 and stride 1\n",
    "    - A max pooling layer with size 2 and stride 1\n",
    "    - Another convolutional layer with 4 filters, each of size 3 and stride 1\n",
    "    - Another max pooling layer with size 2 and stride 1\n",
    "    - A flatten layer\n",
    "    - A dense layer with 8 neurons\n",
    "- Build and train the network multiple times and record the performance of each training instance of the model in a data frame called *performance_df*. "
   ]
  },
  {
   "cell_type": "markdown",
   "metadata": {
    "id": "B-HSP53mppoS"
   },
   "source": [
    "### Recommendations\n",
    "- You may start off with 10 trials for the remainder of this assignment. You could rerun your code (once it is complete) and check your model performance for 10, 15, 20 trials and so on.\n",
    "- You may start off with 10 epochs for the remainder of this assignment, but you are free to rerun your code (once it is complete) and check your results for 10, 15, 20 epochs and so on.\n",
    "- We also recommend that you use a validation split fraction of 0.2 for all the model fit commands in this assignment.\n",
    "- You may use any method of your choice to record the performance of your model over different trials, but you are advised to report the *performance_df* data frame in the format described below at the end of the complete training process.\n",
    "  - For instance, if the number of training trials for a model is 3, then its performance data frame format should be as follows:\n",
    "    - Index column name: Trial Number\n",
    "    - Index column entries: 1, 2, 3, Mean, Median, Max\n",
    "    - First column: Training Accuracy\n",
    "    - Second column: Validation Accuracy"
   ]
  },
  {
   "cell_type": "markdown",
   "metadata": {
    "id": "-GXCM9dTvFVn"
   },
   "source": [
    "First, save the number of trials in a variable."
   ]
  },
  {
   "cell_type": "code",
   "execution_count": 28,
   "metadata": {
    "id": "Zg8mm9PRO3wH"
   },
   "outputs": [],
   "source": [
    "# Use this cell to set the number of trials for each model training instance\n",
    "\n",
    "# Set the number of trials for each model training instance\n",
    "num_trials = 10"
   ]
  },
  {
   "cell_type": "markdown",
   "metadata": {
    "id": "zKhQxi_7vJUC"
   },
   "source": [
    "Now save the number of epochs and the validation split in a variable."
   ]
  },
  {
   "cell_type": "code",
   "execution_count": 29,
   "metadata": {
    "id": "5eEWn-q27PKS"
   },
   "outputs": [],
   "source": [
    "# Use this cell to set the number of CNN training epochs and the validation split fraction\n",
    "\n",
    "# Set the number of epochs for CNN training\n",
    "n_epochs = 10\n",
    "\n",
    "# Set the validation split fraction\n",
    "val_split = 0.2"
   ]
  },
  {
   "cell_type": "markdown",
   "metadata": {
    "id": "nf7BbRh_vR44"
   },
   "source": [
    "Finally, create train and evaluate your CNN model."
   ]
  },
  {
   "cell_type": "code",
   "execution_count": 30,
   "metadata": {},
   "outputs": [
    {
     "name": "stdout",
     "output_type": "stream",
     "text": [
      "Epoch 1/10\n",
      "13/13 [==============================] - 3s 79ms/step - loss: 0.7808 - accuracy: 0.5891 - val_loss: 9.5646 - val_accuracy: 0.3069\n",
      "Epoch 2/10\n",
      "13/13 [==============================] - 1s 40ms/step - loss: 0.6576 - accuracy: 0.6807 - val_loss: 9.5243 - val_accuracy: 0.3069\n",
      "Epoch 3/10\n",
      "13/13 [==============================] - 0s 36ms/step - loss: 0.5333 - accuracy: 0.7599 - val_loss: 9.7461 - val_accuracy: 0.2871\n",
      "Epoch 4/10\n",
      "13/13 [==============================] - 1s 42ms/step - loss: 0.3957 - accuracy: 0.8366 - val_loss: 10.1710 - val_accuracy: 0.2871\n",
      "Epoch 5/10\n",
      "13/13 [==============================] - 1s 40ms/step - loss: 0.4040 - accuracy: 0.8119 - val_loss: 11.0351 - val_accuracy: 0.3069\n",
      "Epoch 6/10\n",
      "13/13 [==============================] - 1s 41ms/step - loss: 0.3597 - accuracy: 0.8540 - val_loss: 10.4089 - val_accuracy: 0.2574\n",
      "Epoch 7/10\n",
      "13/13 [==============================] - 1s 41ms/step - loss: 0.3166 - accuracy: 0.8738 - val_loss: 10.5751 - val_accuracy: 0.2772\n",
      "Epoch 8/10\n",
      "13/13 [==============================] - 1s 39ms/step - loss: 0.2671 - accuracy: 0.8886 - val_loss: 10.1440 - val_accuracy: 0.2574\n",
      "Epoch 9/10\n",
      "13/13 [==============================] - 0s 37ms/step - loss: 0.2553 - accuracy: 0.9084 - val_loss: 10.5845 - val_accuracy: 0.2574\n",
      "Epoch 10/10\n",
      "13/13 [==============================] - 1s 40ms/step - loss: 0.2862 - accuracy: 0.9084 - val_loss: 10.2412 - val_accuracy: 0.2475\n",
      "Epoch 1/10\n",
      "13/13 [==============================] - 3s 72ms/step - loss: 1.2520 - accuracy: 0.5792 - val_loss: 6.8500 - val_accuracy: 0.0000e+00\n",
      "Epoch 2/10\n",
      "13/13 [==============================] - 1s 42ms/step - loss: 0.7834 - accuracy: 0.5297 - val_loss: 6.8878 - val_accuracy: 0.3069\n",
      "Epoch 3/10\n",
      "13/13 [==============================] - 1s 42ms/step - loss: 0.6884 - accuracy: 0.5248 - val_loss: 7.0360 - val_accuracy: 0.3069\n",
      "Epoch 4/10\n",
      "13/13 [==============================] - 0s 39ms/step - loss: 0.6644 - accuracy: 0.6287 - val_loss: 7.0991 - val_accuracy: 0.3069\n",
      "Epoch 5/10\n",
      "13/13 [==============================] - 1s 44ms/step - loss: 0.6655 - accuracy: 0.6287 - val_loss: 7.1468 - val_accuracy: 0.3069\n",
      "Epoch 6/10\n",
      "13/13 [==============================] - 1s 38ms/step - loss: 0.6686 - accuracy: 0.6287 - val_loss: 7.1756 - val_accuracy: 0.3069\n",
      "Epoch 7/10\n",
      "13/13 [==============================] - 0s 39ms/step - loss: 0.6623 - accuracy: 0.6287 - val_loss: 7.2207 - val_accuracy: 0.3069\n",
      "Epoch 8/10\n",
      "13/13 [==============================] - 1s 39ms/step - loss: 0.6661 - accuracy: 0.6287 - val_loss: 7.2398 - val_accuracy: 0.3069\n",
      "Epoch 9/10\n",
      "13/13 [==============================] - 0s 38ms/step - loss: 0.6725 - accuracy: 0.6287 - val_loss: 7.2750 - val_accuracy: 0.3069\n",
      "Epoch 10/10\n",
      "13/13 [==============================] - 1s 40ms/step - loss: 0.6678 - accuracy: 0.6287 - val_loss: 7.3033 - val_accuracy: 0.3069\n",
      "Epoch 1/10\n",
      "13/13 [==============================] - 3s 68ms/step - loss: 0.9431 - accuracy: 0.5272 - val_loss: 8.5141 - val_accuracy: 0.0495\n",
      "Epoch 2/10\n",
      "13/13 [==============================] - 0s 38ms/step - loss: 0.5580 - accuracy: 0.7228 - val_loss: 8.0917 - val_accuracy: 0.2772\n",
      "Epoch 3/10\n",
      "13/13 [==============================] - 1s 45ms/step - loss: 0.4526 - accuracy: 0.8168 - val_loss: 8.2670 - val_accuracy: 0.2079\n",
      "Epoch 4/10\n",
      "13/13 [==============================] - 1s 42ms/step - loss: 0.3964 - accuracy: 0.8391 - val_loss: 8.3178 - val_accuracy: 0.2475\n",
      "Epoch 5/10\n",
      "13/13 [==============================] - 1s 41ms/step - loss: 0.3232 - accuracy: 0.8713 - val_loss: 8.5201 - val_accuracy: 0.2574\n",
      "Epoch 6/10\n",
      "13/13 [==============================] - 1s 42ms/step - loss: 0.3171 - accuracy: 0.8614 - val_loss: 8.3134 - val_accuracy: 0.2970\n",
      "Epoch 7/10\n",
      "13/13 [==============================] - 1s 44ms/step - loss: 0.3462 - accuracy: 0.8663 - val_loss: 8.5317 - val_accuracy: 0.1584\n",
      "Epoch 8/10\n",
      "13/13 [==============================] - 1s 42ms/step - loss: 0.3165 - accuracy: 0.8837 - val_loss: 8.3924 - val_accuracy: 0.2871\n",
      "Epoch 9/10\n",
      "13/13 [==============================] - 1s 45ms/step - loss: 0.2864 - accuracy: 0.8837 - val_loss: 8.3445 - val_accuracy: 0.2673\n",
      "Epoch 10/10\n",
      "13/13 [==============================] - 1s 42ms/step - loss: 0.2968 - accuracy: 0.8936 - val_loss: 8.5341 - val_accuracy: 0.1782\n",
      "Epoch 1/10\n",
      "13/13 [==============================] - 2s 72ms/step - loss: 0.8956 - accuracy: 0.5842 - val_loss: 8.0073 - val_accuracy: 0.3069\n",
      "Epoch 2/10\n",
      "13/13 [==============================] - 1s 42ms/step - loss: 0.6118 - accuracy: 0.6980 - val_loss: 8.6981 - val_accuracy: 0.3069\n",
      "Epoch 3/10\n",
      "13/13 [==============================] - 1s 42ms/step - loss: 0.6121 - accuracy: 0.7079 - val_loss: 8.9224 - val_accuracy: 0.1188\n",
      "Epoch 4/10\n",
      "13/13 [==============================] - 1s 44ms/step - loss: 0.4963 - accuracy: 0.7847 - val_loss: 8.8153 - val_accuracy: 0.2376\n",
      "Epoch 5/10\n",
      "13/13 [==============================] - 1s 42ms/step - loss: 0.4194 - accuracy: 0.8317 - val_loss: 9.0459 - val_accuracy: 0.2871\n",
      "Epoch 6/10\n",
      "13/13 [==============================] - 1s 44ms/step - loss: 0.3629 - accuracy: 0.8564 - val_loss: 9.0507 - val_accuracy: 0.2772\n",
      "Epoch 7/10\n",
      "13/13 [==============================] - 1s 44ms/step - loss: 0.3890 - accuracy: 0.8441 - val_loss: 9.1647 - val_accuracy: 0.1782\n",
      "Epoch 8/10\n",
      "13/13 [==============================] - 1s 42ms/step - loss: 0.4179 - accuracy: 0.8342 - val_loss: 9.1865 - val_accuracy: 0.2277\n",
      "Epoch 9/10\n",
      "13/13 [==============================] - 0s 35ms/step - loss: 0.3987 - accuracy: 0.8564 - val_loss: 9.2294 - val_accuracy: 0.2970\n",
      "Epoch 10/10\n",
      "13/13 [==============================] - 0s 35ms/step - loss: 0.3269 - accuracy: 0.8614 - val_loss: 9.3871 - val_accuracy: 0.2772\n",
      "Epoch 1/10\n",
      "13/13 [==============================] - 2s 69ms/step - loss: 0.7941 - accuracy: 0.5495 - val_loss: 8.1247 - val_accuracy: 0.3069\n",
      "Epoch 2/10\n",
      "13/13 [==============================] - 1s 43ms/step - loss: 0.6649 - accuracy: 0.6287 - val_loss: 8.6029 - val_accuracy: 0.3069\n",
      "Epoch 3/10\n",
      "13/13 [==============================] - 1s 42ms/step - loss: 0.6725 - accuracy: 0.6287 - val_loss: 8.7494 - val_accuracy: 0.3069\n",
      "Epoch 4/10\n",
      "13/13 [==============================] - 1s 44ms/step - loss: 0.6702 - accuracy: 0.6287 - val_loss: 8.8022 - val_accuracy: 0.3069\n",
      "Epoch 5/10\n",
      "13/13 [==============================] - 1s 43ms/step - loss: 0.6787 - accuracy: 0.6287 - val_loss: 8.8272 - val_accuracy: 0.3069\n",
      "Epoch 6/10\n",
      "13/13 [==============================] - 1s 41ms/step - loss: 0.6881 - accuracy: 0.6287 - val_loss: 8.8083 - val_accuracy: 0.3069\n",
      "Epoch 7/10\n",
      "13/13 [==============================] - 1s 40ms/step - loss: 0.6667 - accuracy: 0.6287 - val_loss: 8.8606 - val_accuracy: 0.0000e+00\n",
      "Epoch 8/10\n",
      "13/13 [==============================] - 0s 38ms/step - loss: 0.6751 - accuracy: 0.5891 - val_loss: 8.8705 - val_accuracy: 0.0000e+00\n",
      "Epoch 9/10\n",
      "13/13 [==============================] - 1s 41ms/step - loss: 0.6840 - accuracy: 0.5693 - val_loss: 8.8530 - val_accuracy: 0.3069\n",
      "Epoch 10/10\n",
      "13/13 [==============================] - 0s 35ms/step - loss: 0.6689 - accuracy: 0.6287 - val_loss: 8.8163 - val_accuracy: 0.3069\n",
      "Epoch 1/10\n",
      "13/13 [==============================] - 3s 69ms/step - loss: 0.8403 - accuracy: 0.5693 - val_loss: 7.1363 - val_accuracy: 0.3069\n",
      "Epoch 2/10\n",
      "13/13 [==============================] - 1s 42ms/step - loss: 0.6048 - accuracy: 0.6559 - val_loss: 7.5968 - val_accuracy: 0.3069\n",
      "Epoch 3/10\n",
      "13/13 [==============================] - 1s 43ms/step - loss: 0.5610 - accuracy: 0.6757 - val_loss: 7.7422 - val_accuracy: 0.3069\n",
      "Epoch 4/10\n",
      "13/13 [==============================] - 0s 38ms/step - loss: 0.4880 - accuracy: 0.8243 - val_loss: 7.7892 - val_accuracy: 0.2673\n",
      "Epoch 5/10\n",
      "13/13 [==============================] - 1s 39ms/step - loss: 0.4598 - accuracy: 0.8515 - val_loss: 7.8436 - val_accuracy: 0.2772\n",
      "Epoch 6/10\n",
      "13/13 [==============================] - 0s 38ms/step - loss: 0.4209 - accuracy: 0.8564 - val_loss: 5.3344 - val_accuracy: 0.3168\n",
      "Epoch 7/10\n",
      "13/13 [==============================] - 1s 41ms/step - loss: 0.4498 - accuracy: 0.8441 - val_loss: 8.1397 - val_accuracy: 0.2772\n",
      "Epoch 8/10\n",
      "13/13 [==============================] - 1s 41ms/step - loss: 0.3681 - accuracy: 0.8663 - val_loss: 8.2132 - val_accuracy: 0.2772\n"
     ]
    },
    {
     "name": "stdout",
     "output_type": "stream",
     "text": [
      "Epoch 9/10\n",
      "13/13 [==============================] - 0s 39ms/step - loss: 0.3294 - accuracy: 0.8663 - val_loss: 8.4518 - val_accuracy: 0.2772\n",
      "Epoch 10/10\n",
      "13/13 [==============================] - 0s 37ms/step - loss: 0.3407 - accuracy: 0.8688 - val_loss: 8.3012 - val_accuracy: 0.2574\n",
      "Epoch 1/10\n",
      "13/13 [==============================] - 3s 76ms/step - loss: 0.7777 - accuracy: 0.5545 - val_loss: 9.4634 - val_accuracy: 0.3069\n",
      "Epoch 2/10\n",
      "13/13 [==============================] - 1s 40ms/step - loss: 0.5825 - accuracy: 0.7302 - val_loss: 8.8684 - val_accuracy: 0.3168\n",
      "Epoch 3/10\n",
      "13/13 [==============================] - 1s 42ms/step - loss: 0.4494 - accuracy: 0.8317 - val_loss: 7.8695 - val_accuracy: 0.2673\n",
      "Epoch 4/10\n",
      "13/13 [==============================] - 1s 42ms/step - loss: 0.3474 - accuracy: 0.8812 - val_loss: 10.1089 - val_accuracy: 0.2376\n",
      "Epoch 5/10\n",
      "13/13 [==============================] - 1s 43ms/step - loss: 0.3057 - accuracy: 0.8886 - val_loss: 9.2912 - val_accuracy: 0.2970\n",
      "Epoch 6/10\n",
      "13/13 [==============================] - 1s 44ms/step - loss: 0.3157 - accuracy: 0.8812 - val_loss: 9.7032 - val_accuracy: 0.2079\n",
      "Epoch 7/10\n",
      "13/13 [==============================] - 1s 42ms/step - loss: 0.2640 - accuracy: 0.8960 - val_loss: 8.8652 - val_accuracy: 0.2871\n",
      "Epoch 8/10\n",
      "13/13 [==============================] - 1s 42ms/step - loss: 0.2367 - accuracy: 0.9183 - val_loss: 9.2335 - val_accuracy: 0.2475\n",
      "Epoch 9/10\n",
      "13/13 [==============================] - 1s 41ms/step - loss: 0.1941 - accuracy: 0.9257 - val_loss: 9.5910 - val_accuracy: 0.2772\n",
      "Epoch 10/10\n",
      "13/13 [==============================] - 1s 43ms/step - loss: 0.1720 - accuracy: 0.9332 - val_loss: 9.2003 - val_accuracy: 0.2871\n",
      "Epoch 1/10\n",
      "13/13 [==============================] - 2s 73ms/step - loss: 0.8689 - accuracy: 0.5545 - val_loss: 7.7765 - val_accuracy: 0.3069\n",
      "Epoch 2/10\n",
      "13/13 [==============================] - 1s 43ms/step - loss: 0.6723 - accuracy: 0.6287 - val_loss: 8.1802 - val_accuracy: 0.3069\n",
      "Epoch 3/10\n",
      "13/13 [==============================] - 1s 41ms/step - loss: 0.6659 - accuracy: 0.6609 - val_loss: 8.2727 - val_accuracy: 0.3069\n",
      "Epoch 4/10\n",
      "13/13 [==============================] - 1s 42ms/step - loss: 0.6460 - accuracy: 0.6287 - val_loss: 8.3241 - val_accuracy: 0.3069\n",
      "Epoch 5/10\n",
      "13/13 [==============================] - 1s 42ms/step - loss: 0.6680 - accuracy: 0.6683 - val_loss: 8.3510 - val_accuracy: 0.3069\n",
      "Epoch 6/10\n",
      "13/13 [==============================] - 1s 40ms/step - loss: 0.6695 - accuracy: 0.5891 - val_loss: 8.3576 - val_accuracy: 0.3069\n",
      "Epoch 7/10\n",
      "13/13 [==============================] - 1s 40ms/step - loss: 0.6912 - accuracy: 0.5743 - val_loss: 8.3816 - val_accuracy: 0.3069\n",
      "Epoch 8/10\n",
      "13/13 [==============================] - 1s 41ms/step - loss: 0.6647 - accuracy: 0.6287 - val_loss: 8.3664 - val_accuracy: 0.3069\n",
      "Epoch 9/10\n",
      "13/13 [==============================] - 1s 39ms/step - loss: 0.6747 - accuracy: 0.6287 - val_loss: 8.3730 - val_accuracy: 0.3069\n",
      "Epoch 10/10\n",
      "13/13 [==============================] - 1s 41ms/step - loss: 0.6782 - accuracy: 0.6040 - val_loss: 8.4098 - val_accuracy: 0.3069\n",
      "Epoch 1/10\n",
      "13/13 [==============================] - 2s 68ms/step - loss: 0.4910 - accuracy: 0.7970 - val_loss: 9.3574 - val_accuracy: 0.2376\n",
      "Epoch 2/10\n",
      "13/13 [==============================] - 0s 39ms/step - loss: 0.3540 - accuracy: 0.8713 - val_loss: 10.1267 - val_accuracy: 0.2673\n",
      "Epoch 3/10\n",
      "13/13 [==============================] - 1s 41ms/step - loss: 0.3146 - accuracy: 0.8936 - val_loss: 9.6402 - val_accuracy: 0.3069\n",
      "Epoch 4/10\n",
      "13/13 [==============================] - 0s 39ms/step - loss: 0.3005 - accuracy: 0.9035 - val_loss: 10.3701 - val_accuracy: 0.2673\n",
      "Epoch 5/10\n",
      "13/13 [==============================] - 1s 41ms/step - loss: 0.2644 - accuracy: 0.9010 - val_loss: 9.6831 - val_accuracy: 0.2079\n",
      "Epoch 6/10\n",
      "13/13 [==============================] - 0s 38ms/step - loss: 0.2806 - accuracy: 0.8936 - val_loss: 9.7331 - val_accuracy: 0.2970\n",
      "Epoch 7/10\n",
      "13/13 [==============================] - 1s 44ms/step - loss: 0.1918 - accuracy: 0.9381 - val_loss: 9.3211 - val_accuracy: 0.2871\n",
      "Epoch 8/10\n",
      "13/13 [==============================] - 1s 42ms/step - loss: 0.1645 - accuracy: 0.9381 - val_loss: 9.1234 - val_accuracy: 0.2772\n",
      "Epoch 9/10\n",
      "13/13 [==============================] - 1s 41ms/step - loss: 0.1715 - accuracy: 0.9480 - val_loss: 8.9303 - val_accuracy: 0.2871\n",
      "Epoch 10/10\n",
      "13/13 [==============================] - 1s 41ms/step - loss: 0.1434 - accuracy: 0.9554 - val_loss: 7.7656 - val_accuracy: 0.2871\n",
      "Epoch 1/10\n",
      "13/13 [==============================] - 3s 75ms/step - loss: 1.1273 - accuracy: 0.4257 - val_loss: 7.2185 - val_accuracy: 0.3069\n",
      "Epoch 2/10\n",
      "13/13 [==============================] - 1s 47ms/step - loss: 0.7593 - accuracy: 0.6312 - val_loss: 7.7314 - val_accuracy: 0.1881\n",
      "Epoch 3/10\n",
      "13/13 [==============================] - 1s 49ms/step - loss: 0.6418 - accuracy: 0.6411 - val_loss: 7.8242 - val_accuracy: 0.3069\n",
      "Epoch 4/10\n",
      "13/13 [==============================] - 1s 47ms/step - loss: 0.5968 - accuracy: 0.7030 - val_loss: 7.7167 - val_accuracy: 0.3069\n",
      "Epoch 5/10\n",
      "13/13 [==============================] - 1s 47ms/step - loss: 0.5214 - accuracy: 0.7228 - val_loss: 7.7361 - val_accuracy: 0.1485\n",
      "Epoch 6/10\n",
      "13/13 [==============================] - 1s 49ms/step - loss: 0.4772 - accuracy: 0.8193 - val_loss: 8.0260 - val_accuracy: 0.2970\n",
      "Epoch 7/10\n",
      "13/13 [==============================] - 1s 47ms/step - loss: 0.4427 - accuracy: 0.8342 - val_loss: 7.9862 - val_accuracy: 0.3069\n",
      "Epoch 8/10\n",
      "13/13 [==============================] - 1s 46ms/step - loss: 0.4801 - accuracy: 0.8267 - val_loss: 7.9794 - val_accuracy: 0.2970\n",
      "Epoch 9/10\n",
      "13/13 [==============================] - 1s 49ms/step - loss: 0.3772 - accuracy: 0.8515 - val_loss: 7.8929 - val_accuracy: 0.2673\n",
      "Epoch 10/10\n",
      "13/13 [==============================] - 1s 49ms/step - loss: 0.4580 - accuracy: 0.8465 - val_loss: 7.9467 - val_accuracy: 0.2772\n",
      "   Trial Number Training Accuracy Validation Accuracy\n",
      "0           1.0          0.908416            0.247525\n",
      "1           2.0          0.628713            0.306931\n",
      "2           3.0          0.893564            0.178218\n",
      "3           4.0          0.861386            0.277228\n",
      "4           5.0          0.628713            0.306931\n",
      "5           6.0          0.868812            0.257426\n",
      "6           7.0          0.933168            0.287129\n",
      "7           8.0           0.60396            0.306931\n",
      "8           9.0          0.955446            0.287129\n",
      "9          10.0          0.846535            0.277228\n",
      "10         Mean          0.812871            0.273267\n",
      "11       Median          0.861386            0.277228\n",
      "12          Max          0.955446            0.306931\n"
     ]
    }
   ],
   "source": [
    "# Create an empty DataFrame to store performance\n",
    "performance_df = pd.DataFrame(columns=['Trial Number', 'Training Accuracy', 'Validation Accuracy'])\n",
    "\n",
    "for trial in range(1, num_trials+1):\n",
    "    cnn_model = create_cnn(n_filters=2, filter_size=(3, 3), pool_filter_size=(2, 2))\n",
    "    \n",
    "    history = cnn_model.fit(X_train, y_train, epochs=n_epochs, validation_split=val_split)\n",
    "    \n",
    "    training_acc = history.history['accuracy'][-1]\n",
    "    validation_acc = history.history['val_accuracy'][-1]\n",
    "    \n",
    "    performance_df = performance_df.append({\n",
    "        'Trial Number': trial,\n",
    "        'Training Accuracy': training_acc,\n",
    "        'Validation Accuracy': validation_acc\n",
    "    }, ignore_index=True)\n",
    "\n",
    "performance_df.loc[num_trials] = ['Mean', performance_df['Training Accuracy'].mean(), performance_df['Validation Accuracy'].mean()]\n",
    "performance_df.loc[num_trials+1] = ['Median', performance_df['Training Accuracy'].median(), performance_df['Validation Accuracy'].median()]\n",
    "performance_df.loc[num_trials+2] = ['Max', performance_df['Training Accuracy'].max(), performance_df['Validation Accuracy'].max()]\n",
    "\n",
    "print(performance_df)"
   ]
  },
  {
   "cell_type": "code",
   "execution_count": 31,
   "metadata": {
    "scrolled": false
   },
   "outputs": [
    {
     "data": {
      "text/html": [
       "<div>\n",
       "<style scoped>\n",
       "    .dataframe tbody tr th:only-of-type {\n",
       "        vertical-align: middle;\n",
       "    }\n",
       "\n",
       "    .dataframe tbody tr th {\n",
       "        vertical-align: top;\n",
       "    }\n",
       "\n",
       "    .dataframe thead th {\n",
       "        text-align: right;\n",
       "    }\n",
       "</style>\n",
       "<table border=\"1\" class=\"dataframe\">\n",
       "  <thead>\n",
       "    <tr style=\"text-align: right;\">\n",
       "      <th></th>\n",
       "      <th>Trial Number</th>\n",
       "      <th>Training Accuracy</th>\n",
       "      <th>Validation Accuracy</th>\n",
       "    </tr>\n",
       "  </thead>\n",
       "  <tbody>\n",
       "    <tr>\n",
       "      <th>0</th>\n",
       "      <td>1.0</td>\n",
       "      <td>0.908416</td>\n",
       "      <td>0.247525</td>\n",
       "    </tr>\n",
       "    <tr>\n",
       "      <th>1</th>\n",
       "      <td>2.0</td>\n",
       "      <td>0.628713</td>\n",
       "      <td>0.306931</td>\n",
       "    </tr>\n",
       "    <tr>\n",
       "      <th>2</th>\n",
       "      <td>3.0</td>\n",
       "      <td>0.893564</td>\n",
       "      <td>0.178218</td>\n",
       "    </tr>\n",
       "    <tr>\n",
       "      <th>3</th>\n",
       "      <td>4.0</td>\n",
       "      <td>0.861386</td>\n",
       "      <td>0.277228</td>\n",
       "    </tr>\n",
       "    <tr>\n",
       "      <th>4</th>\n",
       "      <td>5.0</td>\n",
       "      <td>0.628713</td>\n",
       "      <td>0.306931</td>\n",
       "    </tr>\n",
       "    <tr>\n",
       "      <th>5</th>\n",
       "      <td>6.0</td>\n",
       "      <td>0.868812</td>\n",
       "      <td>0.257426</td>\n",
       "    </tr>\n",
       "    <tr>\n",
       "      <th>6</th>\n",
       "      <td>7.0</td>\n",
       "      <td>0.933168</td>\n",
       "      <td>0.287129</td>\n",
       "    </tr>\n",
       "    <tr>\n",
       "      <th>7</th>\n",
       "      <td>8.0</td>\n",
       "      <td>0.60396</td>\n",
       "      <td>0.306931</td>\n",
       "    </tr>\n",
       "    <tr>\n",
       "      <th>8</th>\n",
       "      <td>9.0</td>\n",
       "      <td>0.955446</td>\n",
       "      <td>0.287129</td>\n",
       "    </tr>\n",
       "    <tr>\n",
       "      <th>9</th>\n",
       "      <td>10.0</td>\n",
       "      <td>0.846535</td>\n",
       "      <td>0.277228</td>\n",
       "    </tr>\n",
       "    <tr>\n",
       "      <th>10</th>\n",
       "      <td>Mean</td>\n",
       "      <td>0.812871</td>\n",
       "      <td>0.273267</td>\n",
       "    </tr>\n",
       "    <tr>\n",
       "      <th>11</th>\n",
       "      <td>Median</td>\n",
       "      <td>0.861386</td>\n",
       "      <td>0.277228</td>\n",
       "    </tr>\n",
       "    <tr>\n",
       "      <th>12</th>\n",
       "      <td>Max</td>\n",
       "      <td>0.955446</td>\n",
       "      <td>0.306931</td>\n",
       "    </tr>\n",
       "  </tbody>\n",
       "</table>\n",
       "</div>"
      ],
      "text/plain": [
       "   Trial Number Training Accuracy Validation Accuracy\n",
       "0           1.0          0.908416            0.247525\n",
       "1           2.0          0.628713            0.306931\n",
       "2           3.0          0.893564            0.178218\n",
       "3           4.0          0.861386            0.277228\n",
       "4           5.0          0.628713            0.306931\n",
       "5           6.0          0.868812            0.257426\n",
       "6           7.0          0.933168            0.287129\n",
       "7           8.0           0.60396            0.306931\n",
       "8           9.0          0.955446            0.287129\n",
       "9          10.0          0.846535            0.277228\n",
       "10         Mean          0.812871            0.273267\n",
       "11       Median          0.861386            0.277228\n",
       "12          Max          0.955446            0.306931"
      ]
     },
     "execution_count": 31,
     "metadata": {},
     "output_type": "execute_result"
    }
   ],
   "source": [
    "performance_df"
   ]
  },
  {
   "cell_type": "markdown",
   "metadata": {
    "id": "T6HWobz42DWh"
   },
   "source": [
    "Looking at the *performance_df* data frame, you should be able to conclude that the model seems to be performing reasonably well on the training data, but its performance is very poor on the validation data.\n",
    "\n",
    "There is a high likelihood that the class imbalance in the data set is contributing to this poor performance.\n",
    "\n",
    "Also, it wouldn't be incorrect to say that the training data size is quite less.\n",
    "\n",
    "One way to resolve these issues is to perform data augmentation. This will increase the size of the training data set so that the model will have enough data to train on. Using augmentation, we can also ensure that the classes in the training data are balanced."
   ]
  },
  {
   "cell_type": "markdown",
   "metadata": {
    "id": "TJkDhj8CvZ4q"
   },
   "source": [
    "### Checklist\n",
    "- Saved values for number of trials, number of epochs, and validation split in variables\n",
    "- Created and trained a simple CNN model multiple times and evaluated its performance\n",
    "- Displayed the model's performance over multiple trials and the summary statistics in the given format"
   ]
  },
  {
   "cell_type": "markdown",
   "metadata": {
    "id": "WQynJ6lDpREI"
   },
   "source": [
    "# Stage 4 - Data Augmentation\n",
    "Data augmentation is a technique that is commonly used in deep learning to artificially increase the size of the training data set.\n",
    "\n",
    "You can add augmented images to your your training data to improve the class balance in the training data set and also to increase the size of the training data.\n",
    "\n",
    "In this stage, you will augment your training data to increase the training data size and improve the class balance in the training data set. You will then retrain your basic CNN model on the augmented data set and analyze its performance over multiple training trials.\n",
    "\n",
    "In the first three tasks of this stage, you will write functions and helper functions to perform data augmentation. Whereas in the fourth task, you will use those functions to actually perform data augmentation. The tasks are given below:\n",
    "- Task 8 - Create a transformed image\n",
    "- Task 9 - Divide the data according to class\n",
    "- Task 10 - Augment the data\n",
    "- Task 11 - Create a simple CNN model using the augmented data and analyze its performance"
   ]
  },
  {
   "cell_type": "markdown",
   "metadata": {
    "id": "fdEpg1NfpWY4"
   },
   "source": [
    "## Task 8 - Create a transformed image"
   ]
  },
  {
   "cell_type": "markdown",
   "metadata": {
    "id": "F1fvMqNGog0A"
   },
   "source": [
    "### Description\n",
    "In the case of image classification, data augmentation is done by applying random transformations to the images in the training data set, such as rotation, flipping, and zooming. By doing so, the model is exposed to a greater variety of training samples, which can help improve its ability to generalize to unseen data.\n",
    "\n",
    "In this task, you will define a function to randomly transform a given image using one of the predefined transformations. This function will be used later to augment the data. \n",
    "\n",
    "But recall that we performed some data preparation steps on our data set in Task 5. Recall also that we saved our data in two variables *X_pre_NN* and *y_pre_NN*. We will perform data augmentation using this unprocessed data."
   ]
  },
  {
   "cell_type": "markdown",
   "metadata": {
    "id": "J6e7EYgH4wM7"
   },
   "source": [
    "### Requirements\n",
    "- Retrieve the training data from the variables *X_pre_NN* and *y_pre_NN*.\n",
    "- Define a function *random_transform()*:\n",
    "    - This function takes in an input image and creates a new image out of it using some random augmentation technique.\n",
    "    - The function should have the following keyword argument:\n",
    "        - *input_image*: A PIL image object over which the random transformation will be applied.\n",
    "    - The function should return the following:\n",
    "        - *output_image*: A PIL image object, the augmented image.\n",
    "- Verify the function by visualizing a few images before transformation and after transformation"
   ]
  },
  {
   "cell_type": "markdown",
   "metadata": {
    "id": "TtQZZOdl47ZT"
   },
   "source": [
    "### Recommendations\n",
    "- You can retrieve the original data from the variables *X_pre_NN* and *y_pre_NN* and save them in the variables *X_train* and *y_train* respectively.\n",
    "- In the *random_transform()* function, to create a new image from an existing image, you can use the *flip_left_right()*, the *flip_up_down()* and the *rot90()* methods from *tensorflow.image*.\n",
    "- Recall that you will need to use the *img_to_array()* and the *array_to_img()* methods wherever applicable to perform various operations.\n",
    "- You will have to introduce some randomness into the augmentation process so that your code randomly performs one of the following augmentations on the input image:\n",
    "  - flip left and right\n",
    "  - flip up and down\n",
    "  - rotate 90 degrees (either clockwise or counter-clockwise) once, twice, or thrice"
   ]
  },
  {
   "cell_type": "markdown",
   "metadata": {
    "id": "AAPTbXXa25lM"
   },
   "source": [
    "Retrieve the training data that you saved in an earlier stage before conducting data preparation on it for feeding into CNNs."
   ]
  },
  {
   "cell_type": "code",
   "execution_count": 32,
   "metadata": {
    "id": "St7MoE360F22"
   },
   "outputs": [],
   "source": [
    "# Use this cell to retrieve the training data that you saved in an earlier stage\n",
    "\n",
    "# Retrieve the training images\n",
    "X_train = X_pre_NN\n",
    "\n",
    "# Retrieve the training labels\n",
    "y_train = y_pre_NN"
   ]
  },
  {
   "cell_type": "markdown",
   "metadata": {
    "id": "ZGzMefV9EFlP"
   },
   "source": [
    "Now, define the function *random_transform()* that takes in an image and creates a new image from it using a random transformation."
   ]
  },
  {
   "cell_type": "code",
   "execution_count": 33,
   "metadata": {
    "id": "558GTVv3LvmI"
   },
   "outputs": [],
   "source": [
    "# Use this cell to define a function that takes in an input image and creates a new image out of it using some random augmentation\n",
    "import random\n",
    "# Define a function that takes in an input image and creates a new image out of it using some random augmentation\n",
    "def random_transform(input_image):\n",
    "    \"\"\"\n",
    "    Takes in an input image and creates a new image out of it using a  \n",
    "        random transformation.\n",
    "    Args:\n",
    "        input_image: A PIL image object.\n",
    "\n",
    "    Returns:\n",
    "        output_image: A PIL image object, the augmented image.\n",
    "    \"\"\"\n",
    "    input_array = tensorflow.keras.preprocessing.image.img_to_array(input_image)\n",
    "\n",
    "    random_choice = random.choice(['a', 'b', 'c'])\n",
    "    if random_choice == 'a':\n",
    "        output_image = np.fliplr(input_array)\n",
    "    elif random_choice == 'b':\n",
    "        output_image = np.flipud(input_array)\n",
    "    else:\n",
    "        output_image = np.rot90(input_array)\n",
    "\n",
    "    return output_image"
   ]
  },
  {
   "cell_type": "markdown",
   "metadata": {
    "id": "kBx7VuFXbWQB"
   },
   "source": [
    "You can now test your function on any input image and view the results. Note that if you defined your function correctly, each time you run the following cell, a random augmentation would be performed."
   ]
  },
  {
   "cell_type": "markdown",
   "metadata": {
    "id": "OGbmv0fJ4-KC"
   },
   "source": [
    "### Checklist\n",
    "- Retrieved data stored in *X_pre_NN* and *y_pre_NN*\n",
    "- Defined the *random_transform()* function using the keyword arguments and return variables described above\n",
    "- Experimented with the *random_transform()* function and verified that the function randomly augments an input image"
   ]
  },
  {
   "cell_type": "markdown",
   "metadata": {
    "id": "8tUurp187z5G"
   },
   "source": [
    "## Task 9 - Divide the data by class\n"
   ]
  },
  {
   "cell_type": "markdown",
   "metadata": {
    "id": "34Rb2v6q4zgl"
   },
   "source": [
    "### Description\n",
    "\n",
    "Recall the countplot that you created earlier that represented the number of elements in the training data set belonging ot the different classes.\n",
    "\n",
    "![countplot class imbalance.png](data:image/png;base64,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)\n",
    "\n",
    "As you have seen before in the bar graph given above, there is class imbalance in the data set. Moreover, the total number of records in the train data set is small at 550. Since we want to augment the training data such that all the classes have the same number of samples, we need to create new images for the different classes separately as we will need to increase the number of images in the three data sets by a different number in each data set. So, it is benefical to define a helper function that divides the training data into its respective classes.\n",
    "\n",
    "In this task, you will define the *divide_data_by_class()* helper function that does this.\n",
    "\n",
    "The main function will then use these two helper functions (*random_transform()* and *divide_data_by_class()*) to augment the training data set with additional images such that: \n",
    "1.   All the classes have the same number of samples\n",
    "2.   The total amount of training data is larger than the original training data set\n",
    "\n",
    "Now, you will define the *divide_data_by_class()* helper function that divides the input images and their labels into sublists based on their corresponding class labels. Given the original list of all images and the list of their corresponding labels, as the output of this function, you need to create three lists of images and the respective three lists of labels corresponding to the three unique labels present in our data set. Before returning the data, you can save the three image lists in a list and the three label lists in another list."
   ]
  },
  {
   "cell_type": "markdown",
   "metadata": {
    "id": "5lxr0J-1Bydx"
   },
   "source": [
    "### Requirements\n",
    "- Visualize the class balance using a histogram.\n",
    "- Define a function *divide_data_by_class()*:\n",
    "    - This function divides the input images and labels into subsets based on their corresponding class labels.\n",
    "    - The function should have the following keyword arguments:\n",
    "        - *input_images*: A list of input images to be divided based on class labels. Each input image must be a PIL image.\n",
    "        - *image_labels*: A list that contains corresponding labels for each image in input_images. Each label is a string.\n",
    "    - The function should return the following:\n",
    "        - *classwise_images*: A list of lists, where each sublist contains the input images corresponding to a unique class label.\n",
    "        - *classwise_labels*: A list of lists, where each sublist contains the labels corresponding to the input images in classwise_images list.\n"
   ]
  },
  {
   "cell_type": "markdown",
   "metadata": {
    "id": "6GkGq_8XNykK"
   },
   "source": [
    "### Recommendations\n",
    "\n",
    "- In the *divide_data_by_class()* function, to divide the training data set into respective classes, you will need the unique class labels and their frequencies. This can be obtained using the *numpy.unique()* method.\n"
   ]
  },
  {
   "cell_type": "markdown",
   "metadata": {
    "id": "K8EhsEIEC7w_"
   },
   "source": [
    "Visualize the class balance in the training data set using a bar plot or a count plot."
   ]
  },
  {
   "cell_type": "code",
   "execution_count": 63,
   "metadata": {
    "id": "cwL1ZzK2pjJa"
   },
   "outputs": [
    {
     "data": {
      "image/png": "[encoded data removed]",
      "text/plain": [
       "<Figure size 432x288 with 1 Axes>"
      ]
     },
     "metadata": {},
     "output_type": "display_data"
    }
   ],
   "source": [
    "# Use this cell to visualize the class balance in the training data set\n",
    "\n",
    "# Count the occurrences of each class\n",
    "class_counts = {label: np.count_nonzero(y_train == label) for label in set(y_train)}\n",
    "\n",
    "# Extract the class labels and their respective counts\n",
    "labels = list(class_counts.keys())\n",
    "counts = list(class_counts.values())\n",
    "\n",
    "# Plot the histogram\n",
    "plt.bar(labels, counts)\n",
    "plt.xlabel('Class Labels')\n",
    "plt.ylabel('Frequency')\n",
    "plt.title('Class Balance')\n",
    "for i, count in enumerate(counts):\n",
    "    plt.text(i, count, str(count), ha='center', va='bottom')\n",
    "\n",
    "plt.ylim(0, max(counts) + 30)\n",
    "\n",
    "plt.show()\n"
   ]
  },
  {
   "cell_type": "markdown",
   "metadata": {
    "id": "IxUyqaGHDPQi"
   },
   "source": [
    "You can see that the classes in the training data are quite imbalanced. Moreover, the number of training samples is quite small as well."
   ]
  },
  {
   "cell_type": "markdown",
   "metadata": {
    "id": "zj0c9MIGDVsG"
   },
   "source": [
    "Now, define the function *divide_data_by_class()* that divides the input images and labels into subsets based on their corresponding class labels."
   ]
  },
  {
   "cell_type": "code",
   "execution_count": 35,
   "metadata": {
    "id": "HCvJCnDl2k74"
   },
   "outputs": [],
   "source": [
    "# Use this cell to define a function that takes in the list of training images and labels and returns them class-wise\n",
    "\n",
    "# Define a function that takes in the list of training images and returns them class-wise\n",
    "def divide_data_by_class(input_images, image_labels):\n",
    "    '''\n",
    "    Divides the input images and labels into subsets based on their corresponding class labels.\n",
    "\n",
    "    Args:\n",
    "        input_images: A list of input images to be divided based on class \n",
    "            labels. Each input image must be a PIL image.\n",
    "        image_labels: A list that contains corresponding labels for each \n",
    "            image in input_images. Each label is a string.\n",
    "\n",
    "    Returns:\n",
    "        classwise_images: A list of lists, where each sublist contains the \n",
    "            input images corresponding to a unique class label.\n",
    "        classwise_labels: A list of lists, where each sublist contains the \n",
    "            labels corresponding to the input images in classwise_images list.\n",
    "    '''\n",
    "    unique_labels, label_counts = np.unique(image_labels, return_counts=True)\n",
    "    \n",
    "    # Create empty lists to store classwise images and labels\n",
    "    classwise_images = [[] for _ in unique_labels]\n",
    "    classwise_labels = [[] for _ in unique_labels]\n",
    "    \n",
    "    # Divide the input images and labels based on their class\n",
    "    for image, label in zip(input_images, image_labels):\n",
    "        class_index = np.where(unique_labels == label)[0][0]\n",
    "        classwise_images[class_index].append(image)\n",
    "        classwise_labels[class_index].append(label)\n",
    "    \n",
    "\n",
    "    return classwise_images, classwise_labels"
   ]
  },
  {
   "cell_type": "markdown",
   "metadata": {
    "id": "R31r7dsNc3Oz"
   },
   "source": [
    "You can now use the *divide_data_by_class()* function on the data set and view the results."
   ]
  },
  {
   "cell_type": "code",
   "execution_count": 36,
   "metadata": {
    "id": "fgsm4Unpc-nv"
   },
   "outputs": [],
   "source": [
    "# Use this cell to divide the training data into its respective classes and labels\n",
    "# Note: This is a sample execution and the actual augmentation function will be defined in Task 10\n",
    "\n",
    "classwise_images, classwise_labels = divide_data_by_class(X_train, y_train)"
   ]
  },
  {
   "cell_type": "markdown",
   "metadata": {
    "id": "W1J4w3y69Fsw"
   },
   "source": [
    "### Checklist\n",
    "- Visualized class balance in the data set\n",
    "- The *divide_data_by_class()* function returns two lists that contain three lists each\n",
    "- Experimented with the *divide_data_by_class()* function and ensured that it is functioning properly"
   ]
  },
  {
   "cell_type": "markdown",
   "metadata": {
    "id": "M9vahsAL-MbY"
   },
   "source": [
    "## Task 10 - Augment the training data"
   ]
  },
  {
   "cell_type": "markdown",
   "metadata": {
    "id": "0oxMJJE0-QYW"
   },
   "source": [
    "### Description\n",
    "\n",
    "With these two functions, *random_transform()* and *divide_data_by_class()* in hand, you can define the main augmentation function called *augment_data()*. This function takes in an image data set and the factor by which the data set needs to be augmented. This function should:\n",
    "1. Divide the data set into different classes using the *divide_data_by_class()* function.\n",
    "2. Calculate the final size of each class. This is done by multiplying the factor by the size of the largest class.\n",
    "3. Use the *random_transform()* function to create images till all three classes achieve the required size.\n",
    "\n",
    "After defining the function, try augmenting the data set and visualize the class balance again to verify your results"
   ]
  },
  {
   "cell_type": "markdown",
   "metadata": {
    "id": "dM6aLffD-ubf"
   },
   "source": [
    "### Requirements\n",
    "- Define a function *augment_data()*:\n",
    "    - This function augments the training data by applying random transformations until all classes in the training data have the same number of data points and ensures that the number of data points in each class is a multiple of the size of the largest class in the original data set. The multiplication factor is user-controlled.\n",
    "    - The function should have the following keyword arguments:\n",
    "        - *input_images*: A list of input images.\n",
    "        - *image_labels*: A list of labels for the input images.\n",
    "        - *data_size_factor*: A scaling factor for the size of the augmented data. This will be used to calculate the final size of each class by multiplying *data_size_factor* with the size of the largest class and then rounding to the nearest integer.\n",
    "- Use the *augment_data()* function to augment the training data set.\n",
    "- Visualize the class balance using a histogram after augmentation."
   ]
  },
  {
   "cell_type": "markdown",
   "metadata": {
    "id": "mVxlzLQ--wdR"
   },
   "source": [
    "### Recommendations\n",
    "- In the *augment_data()* function, use the *divide_data_by_class()* function that you defined earlier to divide the input data into their respective classes. This way, it should be easier for you to bring all the classes to the same size using the *random_transform()* function that you defined earlier.\n",
    "- You will need to introduce some randomness into your code so that a random image from the original data set is selected for augmentation each time.\n",
    "- You should also ensure that an augmented image is ***not*** considered for augmentation again.\n",
    "- The data size incrementation factor parameter can be considered as a kind of multiplier, that is, if your original class balance is **[x, y, z]** where **x**, **y** and **z** are the numbers of data points in each of the classes, and **x** is the largest for instance, and your parameter value is 2, then the output class balance should be **[2x, 2x, 2x]**.\n",
    "- After the class-wise augmentation is done, remember to put everything together into a single list of augmented training images (similarly for the list of labels)."
   ]
  },
  {
   "cell_type": "markdown",
   "metadata": {
    "id": "GnAm8VCqE6K3"
   },
   "source": [
    "Define the *augment_data()* function that works on the original training data and produces an augmented training data set from it."
   ]
  },
  {
   "cell_type": "code",
   "execution_count": 37,
   "metadata": {
    "id": "O2Y7n9SRuLQB",
    "scrolled": false
   },
   "outputs": [],
   "source": [
    "# Use this cell to define a function that augments the training data\n",
    "\n",
    "# Define a function to augment the training data\n",
    "def augment_data(input_images, image_labels, data_size_factor):\n",
    "    '''\n",
    "    Augments the training data by randomly applying data augmentation techniques.\n",
    "\n",
    "    Args:\n",
    "        input_images: A list of input images.\n",
    "        image_labels: A list of labels for the input images.\n",
    "        data_size_factor: A scaling factor for the size of the augmented data.\n",
    "            This will be used to calculate the final size of each class by \n",
    "            multiplying data_size_factor with the size of the largest class and \n",
    "            then rounding to the nearest integer.\n",
    "\n",
    "    Returns:\n",
    "        new_images: The augmented images\n",
    "        new_labels: The labels corresponding to the new images\n",
    "    '''   \n",
    "    # Get the unique class labels and their frequencies\n",
    "    unique_labels = np.unique(image_labels)\n",
    "    label_counts = [len(class_images) for class_images in classwise_images]\n",
    "    \n",
    "    # Calculate the final size of each class\n",
    "    target_size = int(round(max(label_counts) * data_size_factor))\n",
    "    \n",
    "    # Augment the data until all classes reach the target size\n",
    "    augmented_images = []\n",
    "    augmented_labels = []\n",
    "    for class_images, class_labels in zip(classwise_images, classwise_labels):\n",
    "        num_additional = target_size - len(class_images)\n",
    "        while num_additional > 0:\n",
    "            # Randomly select an image from the class for augmentation\n",
    "            random_index = random.randint(0, len(class_images) - 1)\n",
    "            image = class_images[random_index]\n",
    "            label = class_labels[random_index]\n",
    "            \n",
    "            # Apply random transformations using the random_transform() function\n",
    "            augmented_image = random_transform(image)\n",
    "            \n",
    "            # Append the augmented image and label to the lists\n",
    "            augmented_images.append(augmented_image)\n",
    "            augmented_labels.append(label)\n",
    "            \n",
    "            num_additional -= 1\n",
    "    \n",
    "    augmented_images = np.array(augmented_images)\n",
    "    augmented_labels = np.array(augmented_labels)\n",
    "    \n",
    "    # Combine the original and augmented data\n",
    "    augmented_images = np.concatenate([input_images, augmented_images], axis=0)\n",
    "    augmented_labels = np.concatenate([image_labels, augmented_labels], axis=0)\n",
    "    \n",
    "    return augmented_images, augmented_labels"
   ]
  },
  {
   "cell_type": "markdown",
   "metadata": {
    "id": "D3sIim7QIblx"
   },
   "source": [
    "Use the *augment_data()* function to augment the training data."
   ]
  },
  {
   "cell_type": "code",
   "execution_count": 38,
   "metadata": {
    "id": "cekPqdEPrlOf"
   },
   "outputs": [],
   "source": [
    "# Use this cell to augment your training data\n",
    "\n",
    "# Define the scaling factor for data augmentation\n",
    "data_size_factor = 2\n",
    "\n",
    "# Augment the training data\n",
    "new_X_train, new_y_train = augment_data(X_train, y_train, data_size_factor)"
   ]
  },
  {
   "cell_type": "code",
   "execution_count": 39,
   "metadata": {},
   "outputs": [],
   "source": [
    "X_train, y_train = new_X_train, new_y_train"
   ]
  },
  {
   "cell_type": "markdown",
   "metadata": {
    "id": "OSIFpQDQI5t2"
   },
   "source": [
    "Visualize the class balance in the augmented training data set using a bar plot or a count plot."
   ]
  },
  {
   "cell_type": "code",
   "execution_count": 59,
   "metadata": {
    "id": "3VE3to490v2v"
   },
   "outputs": [
    {
     "data": {
      "image/png": "[encoded data removed]",
      "text/plain": [
       "<Figure size 432x288 with 1 Axes>"
      ]
     },
     "metadata": {},
     "output_type": "display_data"
    }
   ],
   "source": [
    "# Use this cell to visualize the class balance in the training data set\n",
    "\n",
    "labels = np.unique(y_train)\n",
    "counts = [sum(y_train == class_img) for class_img in labels]\n",
    "\n",
    "\n",
    "plt.bar(labels, counts)\n",
    "plt.xlabel('Class Labels')\n",
    "plt.ylabel('Count')\n",
    "plt.title('Class Balance')\n",
    "for i, count in enumerate(counts):\n",
    "    plt.text(i, count, str(count), ha='center', va='bottom')\n",
    "plt.ylim(0, max(counts) + 50)\n",
    "\n",
    "plt.show()"
   ]
  },
  {
   "cell_type": "markdown",
   "metadata": {
    "id": "xYs5mLbgOs6W"
   },
   "source": [
    "### Checklist\n",
    "- Experimented with the *augment_data()* function and made sure that it is working properly\n",
    "  - For example, if the *augment_data()* function is used on the original training data with a *data_size_factor* of 1, each class in the output data has 285 images, and the total number of images in the new list is 855. If *data_size_factor* was 2 instead, then each class in the output data has 570 images, and the total number images in the new list is 1710.\n",
    "- Decided on a suitable value for the augmentation factor and augmented the training data"
   ]
  },
  {
   "cell_type": "markdown",
   "metadata": {
    "id": "yT19TQ9uO3wK"
   },
   "source": [
    "## Task 11 - Create a simple CNN model using the augmented data and analyze its performance\n"
   ]
  },
  {
   "cell_type": "markdown",
   "metadata": {
    "id": "-_p-2mT7OdWK"
   },
   "source": [
    "### Description\n",
    "In this task, you will retrain your simple CNN model multiple times using the augmented data and record its performance in each training instance. You will then analyze its performance by summarizing its performance over the multiple training trials.\n",
    "\n",
    "But before you do that, you will need to perform all the data prepration steps that you did earlier so that the data is ready to be fed into CNNs."
   ]
  },
  {
   "cell_type": "markdown",
   "metadata": {
    "id": "WSnT9FQfOjL3"
   },
   "source": [
    "### Requirements\n",
    "- Perform the data preparation steps from Stage 2 again.\n",
    "- Create, train, and analyze the performance of a simple CNN model."
   ]
  },
  {
   "cell_type": "markdown",
   "metadata": {
    "id": "KH3BugcvRN26"
   },
   "source": [
    "### Recommendations\n",
    "- You may reuse code from Task 5 for data preparation, but make sure that all the variable names are correct.\n",
    "- You may reuse code from Task 7 to create, train, and analyze the performance of the model, but make sure that all the variable names are correct.\n",
    "- You may want to try augmenting your data using different values for *data_size_factor* to improve the accuracy of your model."
   ]
  },
  {
   "cell_type": "code",
   "execution_count": 41,
   "metadata": {
    "id": "YSzmsJNYO3wK"
   },
   "outputs": [
    {
     "name": "stdout",
     "output_type": "stream",
     "text": [
      "True\n",
      "True\n"
     ]
    }
   ],
   "source": [
    "# Use this cell to convert the training images into arrays\n",
    "\n",
    "print(isinstance(X_train, np.ndarray))\n",
    "print(isinstance(y_train, np.ndarray))"
   ]
  },
  {
   "cell_type": "code",
   "execution_count": 42,
   "metadata": {
    "id": "VpHSWt-dO3wK"
   },
   "outputs": [],
   "source": [
    "# Use this cell to rescale the training images from the range [0, 255] to [0, 1]\n",
    "\n",
    "X_train = X_train.astype('float32') / 255"
   ]
  },
  {
   "cell_type": "code",
   "execution_count": 43,
   "metadata": {
    "id": "asFj712dO3wK"
   },
   "outputs": [
    {
     "name": "stdout",
     "output_type": "stream",
     "text": [
      "(1710, 3)\n",
      "(45, 3)\n",
      "(1710, 56, 56, 3)\n",
      "(45, 56, 56, 3)\n"
     ]
    }
   ],
   "source": [
    "# Use this cell to one-hot encode the labels in the training data set\n",
    "\n",
    "label_map = {'sunny': [1, 0, 0], 'cloudy': [0, 1, 0], 'rainy': [0, 0, 1]}\n",
    "\n",
    "# Convert labels in y_train to one-hot encoded format\n",
    "y_train = np.array([label_map[label] for label in y_train])\n",
    "\n",
    "print(y_train.shape)\n",
    "print(y_test.shape)\n",
    "print(X_train.shape)\n",
    "print(X_test.shape)"
   ]
  },
  {
   "cell_type": "code",
   "execution_count": 44,
   "metadata": {
    "id": "mB5mV6jzJ5bV",
    "scrolled": true
   },
   "outputs": [
    {
     "name": "stdout",
     "output_type": "stream",
     "text": [
      "Epoch 1/10\n",
      "43/43 [==============================] - 3s 51ms/step - loss: 1.1467 - accuracy: 0.4934 - val_loss: 1.8844 - val_accuracy: 0.4503\n",
      "Epoch 2/10\n",
      "43/43 [==============================] - 2s 42ms/step - loss: 0.8507 - accuracy: 0.5475 - val_loss: 0.7601 - val_accuracy: 0.7602\n",
      "Epoch 3/10\n",
      "43/43 [==============================] - 2s 42ms/step - loss: 0.8262 - accuracy: 0.5629 - val_loss: 0.7915 - val_accuracy: 0.7544\n",
      "Epoch 4/10\n",
      "43/43 [==============================] - 2s 42ms/step - loss: 0.7833 - accuracy: 0.6199 - val_loss: 2.6301 - val_accuracy: 0.0205\n",
      "Epoch 5/10\n",
      "43/43 [==============================] - 2s 44ms/step - loss: 0.8376 - accuracy: 0.5980 - val_loss: 1.2805 - val_accuracy: 0.5760\n",
      "Epoch 6/10\n",
      "43/43 [==============================] - 2s 44ms/step - loss: 0.7684 - accuracy: 0.6323 - val_loss: 1.4870 - val_accuracy: 0.5175\n",
      "Epoch 7/10\n",
      "43/43 [==============================] - 2s 43ms/step - loss: 0.7025 - accuracy: 0.6806 - val_loss: 0.9028 - val_accuracy: 0.7251\n",
      "Epoch 8/10\n",
      "43/43 [==============================] - 2s 40ms/step - loss: 0.6399 - accuracy: 0.7222 - val_loss: 0.7170 - val_accuracy: 0.7281\n",
      "Epoch 9/10\n",
      "43/43 [==============================] - 2s 36ms/step - loss: 0.5960 - accuracy: 0.7259 - val_loss: 0.5406 - val_accuracy: 0.8626\n",
      "Epoch 10/10\n",
      "43/43 [==============================] - 2s 41ms/step - loss: 0.5936 - accuracy: 0.7463 - val_loss: 1.2984 - val_accuracy: 0.5409\n",
      "Epoch 1/10\n",
      "43/43 [==============================] - 4s 51ms/step - loss: 1.1484 - accuracy: 0.4218 - val_loss: 1.1238 - val_accuracy: 0.3216\n",
      "Epoch 2/10\n",
      "43/43 [==============================] - 2s 44ms/step - loss: 0.8694 - accuracy: 0.5424 - val_loss: 0.7403 - val_accuracy: 0.8421\n",
      "Epoch 3/10\n",
      "43/43 [==============================] - 2s 43ms/step - loss: 0.7897 - accuracy: 0.6338 - val_loss: 0.7890 - val_accuracy: 0.8509\n",
      "Epoch 4/10\n",
      "43/43 [==============================] - 2s 42ms/step - loss: 0.7296 - accuracy: 0.6594 - val_loss: 0.9610 - val_accuracy: 0.7310\n",
      "Epoch 5/10\n",
      "43/43 [==============================] - 2s 42ms/step - loss: 0.5808 - accuracy: 0.7537 - val_loss: 1.0752 - val_accuracy: 0.6520\n",
      "Epoch 6/10\n",
      "43/43 [==============================] - 2s 38ms/step - loss: 0.4803 - accuracy: 0.8136 - val_loss: 1.2343 - val_accuracy: 0.5906\n",
      "Epoch 7/10\n",
      "43/43 [==============================] - 2s 36ms/step - loss: 0.4823 - accuracy: 0.7931 - val_loss: 2.6771 - val_accuracy: 0.1988\n",
      "Epoch 8/10\n",
      "43/43 [==============================] - 2s 42ms/step - loss: 0.4371 - accuracy: 0.8319 - val_loss: 0.6738 - val_accuracy: 0.8129\n",
      "Epoch 9/10\n",
      "43/43 [==============================] - 2s 40ms/step - loss: 0.3467 - accuracy: 0.8618 - val_loss: 0.7304 - val_accuracy: 0.8012\n",
      "Epoch 10/10\n",
      "43/43 [==============================] - 2s 42ms/step - loss: 0.2825 - accuracy: 0.8984 - val_loss: 1.8140 - val_accuracy: 0.4737\n",
      "Epoch 1/10\n",
      "43/43 [==============================] - 3s 49ms/step - loss: 1.2411 - accuracy: 0.4912 - val_loss: 0.8958 - val_accuracy: 0.7164\n",
      "Epoch 2/10\n",
      "43/43 [==============================] - 2s 42ms/step - loss: 0.7822 - accuracy: 0.6104 - val_loss: 1.1956 - val_accuracy: 0.6637\n",
      "Epoch 3/10\n",
      "43/43 [==============================] - 2s 39ms/step - loss: 0.6800 - accuracy: 0.7054 - val_loss: 1.0404 - val_accuracy: 0.7076\n",
      "Epoch 4/10\n",
      "43/43 [==============================] - 2s 39ms/step - loss: 0.5940 - accuracy: 0.7346 - val_loss: 1.0230 - val_accuracy: 0.6374\n",
      "Epoch 5/10\n",
      "43/43 [==============================] - 2s 36ms/step - loss: 0.5566 - accuracy: 0.7617 - val_loss: 0.8349 - val_accuracy: 0.7573\n",
      "Epoch 6/10\n",
      "43/43 [==============================] - 2s 41ms/step - loss: 0.5474 - accuracy: 0.7493 - val_loss: 1.6723 - val_accuracy: 0.3392\n",
      "Epoch 7/10\n",
      "43/43 [==============================] - 2s 40ms/step - loss: 0.4363 - accuracy: 0.8173 - val_loss: 0.7554 - val_accuracy: 0.7661\n",
      "Epoch 8/10\n",
      "43/43 [==============================] - 2s 41ms/step - loss: 0.3088 - accuracy: 0.8969 - val_loss: 0.4908 - val_accuracy: 0.8626\n",
      "Epoch 9/10\n",
      "43/43 [==============================] - 2s 41ms/step - loss: 0.2611 - accuracy: 0.9108 - val_loss: 0.4876 - val_accuracy: 0.8743\n",
      "Epoch 10/10\n",
      "43/43 [==============================] - 2s 40ms/step - loss: 0.2027 - accuracy: 0.9357 - val_loss: 1.0094 - val_accuracy: 0.7047\n",
      "Epoch 1/10\n",
      "43/43 [==============================] - 4s 50ms/step - loss: 1.5498 - accuracy: 0.4079 - val_loss: 2.0290 - val_accuracy: 0.0000e+00\n",
      "Epoch 2/10\n",
      "43/43 [==============================] - 2s 39ms/step - loss: 1.0573 - accuracy: 0.4196 - val_loss: 2.0148 - val_accuracy: 0.0000e+00\n",
      "Epoch 3/10\n",
      "43/43 [==============================] - 2s 36ms/step - loss: 1.0455 - accuracy: 0.4086 - val_loss: 1.7581 - val_accuracy: 0.0000e+00\n",
      "Epoch 4/10\n",
      "43/43 [==============================] - 2s 40ms/step - loss: 1.0407 - accuracy: 0.4554 - val_loss: 1.8688 - val_accuracy: 0.0000e+00\n",
      "Epoch 5/10\n",
      "43/43 [==============================] - 2s 41ms/step - loss: 1.0488 - accuracy: 0.4342 - val_loss: 2.2727 - val_accuracy: 0.0000e+00\n",
      "Epoch 6/10\n",
      "43/43 [==============================] - 2s 40ms/step - loss: 1.0486 - accuracy: 0.4262 - val_loss: 1.7976 - val_accuracy: 0.0000e+00\n",
      "Epoch 7/10\n",
      "43/43 [==============================] - 2s 41ms/step - loss: 1.0334 - accuracy: 0.4247 - val_loss: 1.9957 - val_accuracy: 0.0000e+00\n",
      "Epoch 8/10\n",
      "43/43 [==============================] - 2s 42ms/step - loss: 1.0421 - accuracy: 0.4218 - val_loss: 1.6379 - val_accuracy: 0.0000e+00\n",
      "Epoch 9/10\n",
      "43/43 [==============================] - 2s 42ms/step - loss: 1.0616 - accuracy: 0.4240 - val_loss: 2.0928 - val_accuracy: 0.0000e+00\n",
      "Epoch 10/10\n",
      "43/43 [==============================] - 2s 42ms/step - loss: 1.0608 - accuracy: 0.4262 - val_loss: 2.0746 - val_accuracy: 0.0000e+00\n",
      "Epoch 1/10\n",
      "43/43 [==============================] - 3s 45ms/step - loss: 1.3200 - accuracy: 0.4174 - val_loss: 2.0565 - val_accuracy: 0.0000e+00\n",
      "Epoch 2/10\n",
      "43/43 [==============================] - 2s 42ms/step - loss: 1.0183 - accuracy: 0.4598 - val_loss: 1.8294 - val_accuracy: 0.0000e+00\n",
      "Epoch 3/10\n",
      "43/43 [==============================] - 2s 41ms/step - loss: 0.9729 - accuracy: 0.4744 - val_loss: 1.5022 - val_accuracy: 0.0000e+00\n",
      "Epoch 4/10\n",
      "43/43 [==============================] - 2s 40ms/step - loss: 1.0150 - accuracy: 0.4686 - val_loss: 1.9233 - val_accuracy: 0.0000e+00\n",
      "Epoch 5/10\n",
      "43/43 [==============================] - 2s 39ms/step - loss: 0.9727 - accuracy: 0.4795 - val_loss: 1.8553 - val_accuracy: 0.0000e+00\n",
      "Epoch 6/10\n",
      "43/43 [==============================] - 2s 40ms/step - loss: 0.8864 - accuracy: 0.5482 - val_loss: 2.6483 - val_accuracy: 0.0614\n",
      "Epoch 7/10\n",
      "43/43 [==============================] - 2s 40ms/step - loss: 0.7531 - accuracy: 0.6703 - val_loss: 0.7747 - val_accuracy: 0.6930\n",
      "Epoch 8/10\n",
      "43/43 [==============================] - 2s 42ms/step - loss: 0.8085 - accuracy: 0.6279 - val_loss: 1.7172 - val_accuracy: 0.1550\n",
      "Epoch 9/10\n",
      "43/43 [==============================] - 2s 40ms/step - loss: 0.8236 - accuracy: 0.6301 - val_loss: 2.0756 - val_accuracy: 0.1199\n",
      "Epoch 10/10\n",
      "43/43 [==============================] - 2s 36ms/step - loss: 0.7764 - accuracy: 0.6096 - val_loss: 1.4131 - val_accuracy: 0.4971\n",
      "Epoch 1/10\n",
      "43/43 [==============================] - 3s 47ms/step - loss: 1.3720 - accuracy: 0.4393 - val_loss: 1.3893 - val_accuracy: 0.0117\n",
      "Epoch 2/10\n",
      "43/43 [==============================] - 2s 38ms/step - loss: 0.9400 - accuracy: 0.5022 - val_loss: 1.2778 - val_accuracy: 0.0000e+00\n",
      "Epoch 3/10\n",
      "43/43 [==============================] - 2s 38ms/step - loss: 0.8662 - accuracy: 0.5833 - val_loss: 0.8226 - val_accuracy: 0.7749\n",
      "Epoch 4/10\n",
      "43/43 [==============================] - 2s 37ms/step - loss: 0.8197 - accuracy: 0.6279 - val_loss: 0.8655 - val_accuracy: 0.7807\n",
      "Epoch 5/10\n",
      "43/43 [==============================] - 2s 36ms/step - loss: 0.7519 - accuracy: 0.6542 - val_loss: 1.4086 - val_accuracy: 0.5497\n",
      "Epoch 6/10\n",
      "43/43 [==============================] - 2s 37ms/step - loss: 0.7124 - accuracy: 0.6901 - val_loss: 1.8794 - val_accuracy: 0.2018\n",
      "Epoch 7/10\n",
      "43/43 [==============================] - 2s 38ms/step - loss: 0.6864 - accuracy: 0.7098 - val_loss: 1.6384 - val_accuracy: 0.5175\n",
      "Epoch 8/10\n"
     ]
    },
    {
     "name": "stdout",
     "output_type": "stream",
     "text": [
      "43/43 [==============================] - 1s 35ms/step - loss: 0.6941 - accuracy: 0.6915 - val_loss: 2.1169 - val_accuracy: 0.2368\n",
      "Epoch 9/10\n",
      "43/43 [==============================] - 1s 35ms/step - loss: 0.6288 - accuracy: 0.7200 - val_loss: 1.6759 - val_accuracy: 0.3655\n",
      "Epoch 10/10\n",
      "43/43 [==============================] - 2s 38ms/step - loss: 0.5691 - accuracy: 0.7537 - val_loss: 0.8909 - val_accuracy: 0.6257\n",
      "Epoch 1/10\n",
      "43/43 [==============================] - 3s 46ms/step - loss: 1.5290 - accuracy: 0.4386 - val_loss: 1.3896 - val_accuracy: 0.5263\n",
      "Epoch 2/10\n",
      "43/43 [==============================] - 2s 37ms/step - loss: 0.7883 - accuracy: 0.6287 - val_loss: 1.2643 - val_accuracy: 0.5965\n",
      "Epoch 3/10\n",
      "43/43 [==============================] - 2s 36ms/step - loss: 0.7928 - accuracy: 0.6031 - val_loss: 1.2920 - val_accuracy: 0.5673\n",
      "Epoch 4/10\n",
      "43/43 [==============================] - 2s 39ms/step - loss: 0.7107 - accuracy: 0.6776 - val_loss: 1.5684 - val_accuracy: 0.4357\n",
      "Epoch 5/10\n",
      "43/43 [==============================] - 2s 38ms/step - loss: 0.6108 - accuracy: 0.7295 - val_loss: 1.5188 - val_accuracy: 0.5526\n",
      "Epoch 6/10\n",
      "43/43 [==============================] - 2s 40ms/step - loss: 0.5558 - accuracy: 0.7654 - val_loss: 0.8316 - val_accuracy: 0.7164\n",
      "Epoch 7/10\n",
      "43/43 [==============================] - 2s 37ms/step - loss: 0.4596 - accuracy: 0.8158 - val_loss: 1.4972 - val_accuracy: 0.3772\n",
      "Epoch 8/10\n",
      "43/43 [==============================] - 2s 38ms/step - loss: 0.4382 - accuracy: 0.8275 - val_loss: 0.7101 - val_accuracy: 0.7807\n",
      "Epoch 9/10\n",
      "43/43 [==============================] - 2s 39ms/step - loss: 0.3034 - accuracy: 0.9006 - val_loss: 0.7584 - val_accuracy: 0.7251\n",
      "Epoch 10/10\n",
      "43/43 [==============================] - 2s 39ms/step - loss: 0.2451 - accuracy: 0.9284 - val_loss: 0.7788 - val_accuracy: 0.7427\n",
      "Epoch 1/10\n",
      "43/43 [==============================] - 3s 45ms/step - loss: 1.5589 - accuracy: 0.4335 - val_loss: 1.9820 - val_accuracy: 0.0000e+00\n",
      "Epoch 2/10\n",
      "43/43 [==============================] - 2s 38ms/step - loss: 1.0463 - accuracy: 0.4181 - val_loss: 1.3795 - val_accuracy: 0.0000e+00\n",
      "Epoch 3/10\n",
      "43/43 [==============================] - 2s 39ms/step - loss: 1.0813 - accuracy: 0.4254 - val_loss: 1.4077 - val_accuracy: 0.0000e+00\n",
      "Epoch 4/10\n",
      "43/43 [==============================] - 2s 38ms/step - loss: 1.0975 - accuracy: 0.4357 - val_loss: 1.8938 - val_accuracy: 0.0000e+00\n",
      "Epoch 5/10\n",
      "43/43 [==============================] - 2s 36ms/step - loss: 1.0433 - accuracy: 0.4108 - val_loss: 1.9636 - val_accuracy: 0.0000e+00\n",
      "Epoch 6/10\n",
      "43/43 [==============================] - 1s 33ms/step - loss: 1.0397 - accuracy: 0.4086 - val_loss: 1.8884 - val_accuracy: 0.0000e+00\n",
      "Epoch 7/10\n",
      "43/43 [==============================] - 1s 35ms/step - loss: 1.0491 - accuracy: 0.3947 - val_loss: 2.0766 - val_accuracy: 0.0000e+00\n",
      "Epoch 8/10\n",
      "43/43 [==============================] - 2s 36ms/step - loss: 1.0574 - accuracy: 0.4035 - val_loss: 2.0514 - val_accuracy: 0.0000e+00\n",
      "Epoch 9/10\n",
      "43/43 [==============================] - 2s 38ms/step - loss: 1.0720 - accuracy: 0.4101 - val_loss: 1.9013 - val_accuracy: 0.0000e+00\n",
      "Epoch 10/10\n",
      "43/43 [==============================] - 2s 39ms/step - loss: 1.0594 - accuracy: 0.4115 - val_loss: 1.6070 - val_accuracy: 0.0000e+00\n",
      "Epoch 1/10\n",
      "43/43 [==============================] - 3s 46ms/step - loss: 1.0035 - accuracy: 0.5095 - val_loss: 1.2064 - val_accuracy: 0.5380\n",
      "Epoch 2/10\n",
      "43/43 [==============================] - 2s 37ms/step - loss: 0.8072 - accuracy: 0.5921 - val_loss: 2.0468 - val_accuracy: 0.2573\n",
      "Epoch 3/10\n",
      "43/43 [==============================] - 2s 38ms/step - loss: 0.7575 - accuracy: 0.6528 - val_loss: 0.9769 - val_accuracy: 0.6725\n",
      "Epoch 4/10\n",
      "43/43 [==============================] - 2s 37ms/step - loss: 0.6664 - accuracy: 0.6966 - val_loss: 1.1967 - val_accuracy: 0.5877\n",
      "Epoch 5/10\n",
      "43/43 [==============================] - 2s 36ms/step - loss: 0.5916 - accuracy: 0.7471 - val_loss: 0.8352 - val_accuracy: 0.7105\n",
      "Epoch 6/10\n",
      "43/43 [==============================] - 2s 36ms/step - loss: 0.5467 - accuracy: 0.7697 - val_loss: 1.0699 - val_accuracy: 0.6637\n",
      "Epoch 7/10\n",
      "43/43 [==============================] - 2s 37ms/step - loss: 0.4342 - accuracy: 0.8341 - val_loss: 0.8774 - val_accuracy: 0.6725\n",
      "Epoch 8/10\n",
      "43/43 [==============================] - 2s 37ms/step - loss: 0.3709 - accuracy: 0.8721 - val_loss: 0.5700 - val_accuracy: 0.7895\n",
      "Epoch 9/10\n",
      "43/43 [==============================] - 2s 38ms/step - loss: 0.3186 - accuracy: 0.8808 - val_loss: 0.9008 - val_accuracy: 0.5965\n",
      "Epoch 10/10\n",
      "43/43 [==============================] - 2s 37ms/step - loss: 0.2512 - accuracy: 0.9145 - val_loss: 0.7614 - val_accuracy: 0.7632\n",
      "Epoch 1/10\n",
      "43/43 [==============================] - 3s 44ms/step - loss: 1.0669 - accuracy: 0.5080 - val_loss: 1.6319 - val_accuracy: 0.5380\n",
      "Epoch 2/10\n",
      "43/43 [==============================] - 2s 37ms/step - loss: 0.7870 - accuracy: 0.6389 - val_loss: 1.1091 - val_accuracy: 0.6842\n",
      "Epoch 3/10\n",
      "43/43 [==============================] - 1s 35ms/step - loss: 0.6557 - accuracy: 0.7171 - val_loss: 1.1618 - val_accuracy: 0.6491\n",
      "Epoch 4/10\n",
      "43/43 [==============================] - 2s 36ms/step - loss: 0.5210 - accuracy: 0.8107 - val_loss: 1.6385 - val_accuracy: 0.4708\n",
      "Epoch 5/10\n",
      "43/43 [==============================] - 2s 36ms/step - loss: 0.5392 - accuracy: 0.7880 - val_loss: 1.4853 - val_accuracy: 0.6023\n",
      "Epoch 6/10\n",
      "43/43 [==============================] - 2s 37ms/step - loss: 0.3567 - accuracy: 0.8721 - val_loss: 1.1213 - val_accuracy: 0.6696\n",
      "Epoch 7/10\n",
      "43/43 [==============================] - 2s 37ms/step - loss: 0.2614 - accuracy: 0.9152 - val_loss: 0.9487 - val_accuracy: 0.7047\n",
      "Epoch 8/10\n",
      "43/43 [==============================] - 2s 36ms/step - loss: 0.2194 - accuracy: 0.9225 - val_loss: 1.4046 - val_accuracy: 0.6725\n",
      "Epoch 9/10\n",
      "43/43 [==============================] - 2s 36ms/step - loss: 0.1572 - accuracy: 0.9518 - val_loss: 0.9793 - val_accuracy: 0.7661\n",
      "Epoch 10/10\n",
      "43/43 [==============================] - 2s 37ms/step - loss: 0.1214 - accuracy: 0.9642 - val_loss: 1.4911 - val_accuracy: 0.6637\n"
     ]
    }
   ],
   "source": [
    "# Use this cell to create, train and evaluate your simple CNN model on the augmented data multiple times and store the performance results\n",
    "\n",
    "# Create an empty DataFrame to store performance\n",
    "performance_df = pd.DataFrame(columns=['Trial Number', 'Training Accuracy', 'Validation Accuracy'])\n",
    "\n",
    "for trial in range(1, num_trials+1):\n",
    "    cnn_model = create_cnn(n_filters=2, filter_size=(3, 3), pool_filter_size=(2, 2))\n",
    "    \n",
    "    history = cnn_model.fit(X_train, y_train, epochs=n_epochs, validation_split=val_split)\n",
    "    \n",
    "    training_acc = history.history['accuracy'][-1]\n",
    "    validation_acc = history.history['val_accuracy'][-1]\n",
    "    \n",
    "    performance_df = performance_df.append({\n",
    "        'Trial Number': trial,\n",
    "        'Training Accuracy': training_acc,\n",
    "        'Validation Accuracy': validation_acc\n",
    "    }, ignore_index=True)\n",
    "\n",
    "performance_df.loc[num_trials] = ['Mean', performance_df['Training Accuracy'].mean(), performance_df['Validation Accuracy'].mean()]\n",
    "performance_df.loc[num_trials+1] = ['Median', performance_df['Training Accuracy'].median(), performance_df['Validation Accuracy'].median()]\n",
    "performance_df.loc[num_trials+2] = ['Max', performance_df['Training Accuracy'].max(), performance_df['Validation Accuracy'].max()]"
   ]
  },
  {
   "cell_type": "code",
   "execution_count": 45,
   "metadata": {},
   "outputs": [
    {
     "data": {
      "text/html": [
       "<div>\n",
       "<style scoped>\n",
       "    .dataframe tbody tr th:only-of-type {\n",
       "        vertical-align: middle;\n",
       "    }\n",
       "\n",
       "    .dataframe tbody tr th {\n",
       "        vertical-align: top;\n",
       "    }\n",
       "\n",
       "    .dataframe thead th {\n",
       "        text-align: right;\n",
       "    }\n",
       "</style>\n",
       "<table border=\"1\" class=\"dataframe\">\n",
       "  <thead>\n",
       "    <tr style=\"text-align: right;\">\n",
       "      <th></th>\n",
       "      <th>Trial Number</th>\n",
       "      <th>Training Accuracy</th>\n",
       "      <th>Validation Accuracy</th>\n",
       "    </tr>\n",
       "  </thead>\n",
       "  <tbody>\n",
       "    <tr>\n",
       "      <th>0</th>\n",
       "      <td>1.0</td>\n",
       "      <td>0.746345</td>\n",
       "      <td>0.540936</td>\n",
       "    </tr>\n",
       "    <tr>\n",
       "      <th>1</th>\n",
       "      <td>2.0</td>\n",
       "      <td>0.898392</td>\n",
       "      <td>0.473684</td>\n",
       "    </tr>\n",
       "    <tr>\n",
       "      <th>2</th>\n",
       "      <td>3.0</td>\n",
       "      <td>0.935673</td>\n",
       "      <td>0.704678</td>\n",
       "    </tr>\n",
       "    <tr>\n",
       "      <th>3</th>\n",
       "      <td>4.0</td>\n",
       "      <td>0.42617</td>\n",
       "      <td>0.0</td>\n",
       "    </tr>\n",
       "    <tr>\n",
       "      <th>4</th>\n",
       "      <td>5.0</td>\n",
       "      <td>0.609649</td>\n",
       "      <td>0.497076</td>\n",
       "    </tr>\n",
       "    <tr>\n",
       "      <th>5</th>\n",
       "      <td>6.0</td>\n",
       "      <td>0.753655</td>\n",
       "      <td>0.625731</td>\n",
       "    </tr>\n",
       "    <tr>\n",
       "      <th>6</th>\n",
       "      <td>7.0</td>\n",
       "      <td>0.928363</td>\n",
       "      <td>0.74269</td>\n",
       "    </tr>\n",
       "    <tr>\n",
       "      <th>7</th>\n",
       "      <td>8.0</td>\n",
       "      <td>0.41155</td>\n",
       "      <td>0.0</td>\n",
       "    </tr>\n",
       "    <tr>\n",
       "      <th>8</th>\n",
       "      <td>9.0</td>\n",
       "      <td>0.914474</td>\n",
       "      <td>0.763158</td>\n",
       "    </tr>\n",
       "    <tr>\n",
       "      <th>9</th>\n",
       "      <td>10.0</td>\n",
       "      <td>0.964181</td>\n",
       "      <td>0.663743</td>\n",
       "    </tr>\n",
       "    <tr>\n",
       "      <th>10</th>\n",
       "      <td>Mean</td>\n",
       "      <td>0.758845</td>\n",
       "      <td>0.50117</td>\n",
       "    </tr>\n",
       "    <tr>\n",
       "      <th>11</th>\n",
       "      <td>Median</td>\n",
       "      <td>0.758845</td>\n",
       "      <td>0.540936</td>\n",
       "    </tr>\n",
       "    <tr>\n",
       "      <th>12</th>\n",
       "      <td>Max</td>\n",
       "      <td>0.964181</td>\n",
       "      <td>0.763158</td>\n",
       "    </tr>\n",
       "  </tbody>\n",
       "</table>\n",
       "</div>"
      ],
      "text/plain": [
       "   Trial Number Training Accuracy Validation Accuracy\n",
       "0           1.0          0.746345            0.540936\n",
       "1           2.0          0.898392            0.473684\n",
       "2           3.0          0.935673            0.704678\n",
       "3           4.0           0.42617                 0.0\n",
       "4           5.0          0.609649            0.497076\n",
       "5           6.0          0.753655            0.625731\n",
       "6           7.0          0.928363             0.74269\n",
       "7           8.0           0.41155                 0.0\n",
       "8           9.0          0.914474            0.763158\n",
       "9          10.0          0.964181            0.663743\n",
       "10         Mean          0.758845             0.50117\n",
       "11       Median          0.758845            0.540936\n",
       "12          Max          0.964181            0.763158"
      ]
     },
     "execution_count": 45,
     "metadata": {},
     "output_type": "execute_result"
    }
   ],
   "source": [
    "performance_df"
   ]
  },
  {
   "cell_type": "markdown",
   "metadata": {
    "id": "oILYFrV8SZjI"
   },
   "source": [
    "You should be able to observe, from the performance data frame, that the basic CNN model that is trained on the augmented data performs better, in general, than the basic CNN model that you trained earlier."
   ]
  },
  {
   "cell_type": "markdown",
   "metadata": {
    "id": "HQD6QVaLTsH7"
   },
   "source": [
    "### Checklist\n",
    "- Converted the augmented input data into arrays\n",
    "- Scaled the augmented input data\n",
    "- Encoded the output data as integers\n",
    "- Performed one-hot encoding on output data\n",
    "- Retrained the simple CNN model on the augmented data\n",
    "- Created a data frame to analyze the performance of the model"
   ]
  },
  {
   "cell_type": "markdown",
   "metadata": {
    "id": "5sMxCklY3_qC"
   },
   "source": [
    "# Stage 5 - Optimal Model\n",
    "In this stage, you will train your CNN model on the augmented data set and tune it for network structure and learning rate. You will do this by completing Task 12 - Tune the CNN Model."
   ]
  },
  {
   "cell_type": "markdown",
   "metadata": {
    "id": "426-5HeNO3wL"
   },
   "source": [
    "## Task 12 - Tune the CNN Model"
   ]
  },
  {
   "cell_type": "markdown",
   "metadata": {
    "id": "aCABSJVtYzZ0"
   },
   "source": [
    "### Description\n",
    "\n",
    "In this task, you will train your CNN model on the augmented data set and tune it for network structure and learning rate.\n",
    "\n",
    "A grid search is not recommended here since we are working with sparse data. Instead, it is recommended to use simple loops and record the performance of the various model specifications. This also ensures that the same validation split and consequently the same validation data is used, so the model performance analyses are not biased, at least within the context of this assignment.\n",
    "\n",
    "Additionally note that you are required to restrict the complexity of your model. In general, more complex networks have a higher likelihood of overfitting. As part of this assignment, you are required to make sure that your networks contain no more than 500,000 trainable parameters.\n",
    "\n",
    "Note that you are required to report a performance data frame as you did earlier for each of the model specifications that you consider in this stage. You are free to report these as separate data frames or within a single data frame.\n",
    "\n",
    "For instance, if you consider 2 values for network configuration and 2 values for learning rate, then there are 4 unique model specifications. Consequently, you must train each of these model types multiple times (as specified earlier) and record the performance in each trial. You may, therefore, report 4 separate data frames (whose format you should be familiar with by this stage) or a single data frame that contains all the necessary information."
   ]
  },
  {
   "cell_type": "markdown",
   "metadata": {
    "id": "BByCCe9rY-cR"
   },
   "source": [
    "### Requirements\n",
    "- Tune your model using loops and record the training and validation accuracies of each model over multiple runs.\n",
    "- Tune for at least two network configurations that are saved in the list *layers_config_list* (this includes the default configuration that you have been using up until this point).\n",
    "- Tune for at least two values of learning rate that are saved in the list *learning_rate_list* (this includes the default learning rate value of 0.001 that you have been using up until now).\n",
    "- Remember to tune for combinations of these hyperparameters (do not tune for them individually).\n",
    "- Ensure that the number of trainable parameters in your optimal model does not exceed 500,000.\n",
    "- Report your findings from the tuning process in the form of data frame(s).\n",
    "- Save the optimal values for network config and learning rate in variables called *optimal_layer_config* and *optimal_learning_rate* respectively."
   ]
  },
  {
   "cell_type": "markdown",
   "metadata": {
    "id": "xVVzfYeJZwvp"
   },
   "source": [
    "### Recommendations\n",
    "- You will need to train multiple models for each set of hyperparameter values to get a reliable estimate of the performance.\n",
    "- Saving the output of the *.fit()* method allows you to access the values of the metrics."
   ]
  },
  {
   "cell_type": "markdown",
   "metadata": {
    "id": "Kqtep-w_a39L"
   },
   "source": [
    "Tune your CNN model for network structure and learning rate."
   ]
  },
  {
   "cell_type": "code",
   "execution_count": 46,
   "metadata": {
    "id": "V1uuakDDfVK0",
    "scrolled": true
   },
   "outputs": [
    {
     "name": "stdout",
     "output_type": "stream",
     "text": [
      "Epoch 1/5\n",
      "43/43 [==============================] - 4s 40ms/step - loss: 1.2132 - accuracy: 0.4956 - val_loss: 1.9984 - val_accuracy: 0.2573\n",
      "Epoch 2/5\n",
      "43/43 [==============================] - 1s 28ms/step - loss: 0.8675 - accuracy: 0.5629 - val_loss: 1.9134 - val_accuracy: 0.3947\n",
      "Epoch 3/5\n",
      "43/43 [==============================] - 1s 29ms/step - loss: 0.7607 - accuracy: 0.6396 - val_loss: 1.7708 - val_accuracy: 0.4854\n",
      "Epoch 4/5\n",
      "43/43 [==============================] - 1s 32ms/step - loss: 0.7109 - accuracy: 0.6645 - val_loss: 1.2674 - val_accuracy: 0.5585\n",
      "Epoch 5/5\n",
      "43/43 [==============================] - 1s 32ms/step - loss: 0.6559 - accuracy: 0.6944 - val_loss: 1.6859 - val_accuracy: 0.3713\n",
      "Epoch 1/5\n",
      "43/43 [==============================] - 3s 40ms/step - loss: 1.2663 - accuracy: 0.3911 - val_loss: 1.3417 - val_accuracy: 0.0000e+00\n",
      "Epoch 2/5\n",
      "43/43 [==============================] - 1s 31ms/step - loss: 1.0593 - accuracy: 0.4240 - val_loss: 1.6229 - val_accuracy: 0.0000e+00\n",
      "Epoch 3/5\n",
      "43/43 [==============================] - 1s 32ms/step - loss: 1.0618 - accuracy: 0.4108 - val_loss: 1.4053 - val_accuracy: 0.0000e+00\n",
      "Epoch 4/5\n",
      "43/43 [==============================] - 1s 32ms/step - loss: 1.0563 - accuracy: 0.4211 - val_loss: 1.8119 - val_accuracy: 0.0000e+00\n",
      "Epoch 5/5\n",
      "43/43 [==============================] - 1s 32ms/step - loss: 1.0259 - accuracy: 0.4671 - val_loss: 2.1467 - val_accuracy: 0.0000e+00\n",
      "Epoch 1/5\n",
      "43/43 [==============================] - 3s 36ms/step - loss: 1.0071 - accuracy: 0.4963 - val_loss: 1.0395 - val_accuracy: 0.7368\n",
      "Epoch 2/5\n",
      "43/43 [==============================] - 1s 30ms/step - loss: 0.7949 - accuracy: 0.6038 - val_loss: 1.8572 - val_accuracy: 0.3275\n",
      "Epoch 3/5\n",
      "43/43 [==============================] - 1s 31ms/step - loss: 0.7654 - accuracy: 0.6170 - val_loss: 1.4187 - val_accuracy: 0.5906\n",
      "Epoch 4/5\n",
      "43/43 [==============================] - 1s 32ms/step - loss: 0.7300 - accuracy: 0.6550 - val_loss: 0.4159 - val_accuracy: 0.9357\n",
      "Epoch 5/5\n",
      "43/43 [==============================] - 1s 32ms/step - loss: 0.6865 - accuracy: 0.6798 - val_loss: 1.6556 - val_accuracy: 0.5175\n",
      "Epoch 1/5\n",
      "43/43 [==============================] - 3s 41ms/step - loss: 1.4270 - accuracy: 0.3955 - val_loss: 2.1797 - val_accuracy: 0.0000e+00\n",
      "Epoch 2/5\n",
      "43/43 [==============================] - 1s 32ms/step - loss: 1.0304 - accuracy: 0.4751 - val_loss: 1.5583 - val_accuracy: 0.0000e+00\n",
      "Epoch 3/5\n",
      "43/43 [==============================] - 1s 31ms/step - loss: 0.9130 - accuracy: 0.5738 - val_loss: 1.3865 - val_accuracy: 0.1813\n",
      "Epoch 4/5\n",
      "43/43 [==============================] - 1s 31ms/step - loss: 0.8415 - accuracy: 0.5892 - val_loss: 1.4886 - val_accuracy: 0.2251\n",
      "Epoch 5/5\n",
      "43/43 [==============================] - 1s 31ms/step - loss: 0.7823 - accuracy: 0.6301 - val_loss: 1.2043 - val_accuracy: 0.6550\n",
      "Epoch 1/5\n",
      "43/43 [==============================] - 3s 36ms/step - loss: 1.1066 - accuracy: 0.4306 - val_loss: 1.0209 - val_accuracy: 0.6608\n",
      "Epoch 2/5\n",
      "43/43 [==============================] - 1s 32ms/step - loss: 0.9400 - accuracy: 0.5044 - val_loss: 1.3946 - val_accuracy: 0.3246\n",
      "Epoch 3/5\n",
      "43/43 [==============================] - 1s 31ms/step - loss: 0.7697 - accuracy: 0.6557 - val_loss: 0.5628 - val_accuracy: 0.9064\n",
      "Epoch 4/5\n",
      "43/43 [==============================] - 1s 32ms/step - loss: 0.7910 - accuracy: 0.6425 - val_loss: 1.1321 - val_accuracy: 0.6111\n",
      "Epoch 5/5\n",
      "43/43 [==============================] - 1s 31ms/step - loss: 0.6738 - accuracy: 0.6857 - val_loss: 0.9345 - val_accuracy: 0.7222\n",
      "Epoch 1/5\n",
      "43/43 [==============================] - 3s 39ms/step - loss: 1.0156 - accuracy: 0.5088 - val_loss: 1.5358 - val_accuracy: 0.0000e+00\n",
      "Epoch 2/5\n",
      "43/43 [==============================] - 1s 31ms/step - loss: 0.9256 - accuracy: 0.5519 - val_loss: 1.2459 - val_accuracy: 0.2339\n",
      "Epoch 3/5\n",
      "43/43 [==============================] - 1s 31ms/step - loss: 0.8755 - accuracy: 0.5855 - val_loss: 2.0347 - val_accuracy: 0.0000e+00\n",
      "Epoch 4/5\n",
      "43/43 [==============================] - 1s 31ms/step - loss: 0.8460 - accuracy: 0.6009 - val_loss: 1.6162 - val_accuracy: 0.0088\n",
      "Epoch 5/5\n",
      "43/43 [==============================] - 1s 31ms/step - loss: 0.8029 - accuracy: 0.6301 - val_loss: 1.4741 - val_accuracy: 0.2310\n",
      "Epoch 1/5\n",
      "43/43 [==============================] - 3s 39ms/step - loss: 0.9428 - accuracy: 0.5292 - val_loss: 1.3204 - val_accuracy: 0.3216\n",
      "Epoch 2/5\n",
      "43/43 [==============================] - 1s 32ms/step - loss: 0.8117 - accuracy: 0.6316 - val_loss: 1.2451 - val_accuracy: 0.5088\n",
      "Epoch 3/5\n",
      "43/43 [==============================] - 1s 31ms/step - loss: 0.7844 - accuracy: 0.6126 - val_loss: 1.3016 - val_accuracy: 0.5000\n",
      "Epoch 4/5\n",
      "43/43 [==============================] - 1s 29ms/step - loss: 0.7584 - accuracy: 0.6499 - val_loss: 0.9894 - val_accuracy: 0.7047\n",
      "Epoch 5/5\n",
      "43/43 [==============================] - 1s 33ms/step - loss: 0.7408 - accuracy: 0.6827 - val_loss: 0.9812 - val_accuracy: 0.6784\n",
      "Epoch 1/5\n",
      "43/43 [==============================] - 3s 39ms/step - loss: 1.0134 - accuracy: 0.5000 - val_loss: 1.3739 - val_accuracy: 0.0585\n",
      "Epoch 2/5\n",
      "43/43 [==============================] - 1s 32ms/step - loss: 0.9107 - accuracy: 0.5614 - val_loss: 1.6612 - val_accuracy: 0.0000e+00\n",
      "Epoch 3/5\n",
      "43/43 [==============================] - 1s 31ms/step - loss: 0.9053 - accuracy: 0.5797 - val_loss: 1.5336 - val_accuracy: 0.0029\n",
      "Epoch 4/5\n",
      "43/43 [==============================] - 1s 32ms/step - loss: 0.8749 - accuracy: 0.5833 - val_loss: 1.0194 - val_accuracy: 0.4269\n",
      "Epoch 5/5\n",
      "43/43 [==============================] - 1s 30ms/step - loss: 0.8887 - accuracy: 0.5709 - val_loss: 1.1515 - val_accuracy: 0.1199\n",
      "Epoch 1/5\n",
      "43/43 [==============================] - 3s 40ms/step - loss: 0.9982 - accuracy: 0.5044 - val_loss: 1.7979 - val_accuracy: 0.0058\n",
      "Epoch 2/5\n",
      "43/43 [==============================] - 1s 32ms/step - loss: 0.8827 - accuracy: 0.5504 - val_loss: 1.4619 - val_accuracy: 0.3041\n",
      "Epoch 3/5\n",
      "43/43 [==============================] - 1s 32ms/step - loss: 0.8326 - accuracy: 0.6287 - val_loss: 1.5568 - val_accuracy: 0.2602\n",
      "Epoch 4/5\n",
      "43/43 [==============================] - 1s 32ms/step - loss: 0.7919 - accuracy: 0.6520 - val_loss: 1.5073 - val_accuracy: 0.2632\n",
      "Epoch 5/5\n",
      "43/43 [==============================] - 1s 32ms/step - loss: 0.7839 - accuracy: 0.6323 - val_loss: 1.6092 - val_accuracy: 0.2164\n",
      "Epoch 1/5\n",
      "43/43 [==============================] - 3s 40ms/step - loss: 1.0118 - accuracy: 0.5029 - val_loss: 1.7025 - val_accuracy: 0.0000e+00\n",
      "Epoch 2/5\n",
      "43/43 [==============================] - 1s 32ms/step - loss: 0.8824 - accuracy: 0.5548 - val_loss: 1.5972 - val_accuracy: 0.0936\n",
      "Epoch 3/5\n",
      "43/43 [==============================] - 1s 31ms/step - loss: 0.8308 - accuracy: 0.6133 - val_loss: 1.4748 - val_accuracy: 0.1813\n",
      "Epoch 4/5\n",
      "43/43 [==============================] - 1s 29ms/step - loss: 0.7987 - accuracy: 0.6221 - val_loss: 1.2578 - val_accuracy: 0.4620\n",
      "Epoch 5/5\n",
      "43/43 [==============================] - 1s 31ms/step - loss: 0.7685 - accuracy: 0.6499 - val_loss: 1.2874 - val_accuracy: 0.4912\n",
      "Epoch 1/5\n",
      "43/43 [==============================] - 4s 52ms/step - loss: 1.3342 - accuracy: 0.3962 - val_loss: 1.8710 - val_accuracy: 0.0000e+00\n",
      "Epoch 2/5\n",
      "43/43 [==============================] - 2s 42ms/step - loss: 1.0655 - accuracy: 0.4211 - val_loss: 1.8537 - val_accuracy: 0.0000e+00\n",
      "Epoch 3/5\n",
      "43/43 [==============================] - 2s 45ms/step - loss: 1.0438 - accuracy: 0.4218 - val_loss: 1.7370 - val_accuracy: 0.0000e+00\n",
      "Epoch 4/5\n",
      "43/43 [==============================] - 2s 43ms/step - loss: 1.0608 - accuracy: 0.4225 - val_loss: 1.8629 - val_accuracy: 0.0000e+00\n",
      "Epoch 5/5\n",
      "43/43 [==============================] - 2s 45ms/step - loss: 1.0873 - accuracy: 0.3962 - val_loss: 1.6006 - val_accuracy: 0.0000e+00\n",
      "Epoch 1/5\n",
      "43/43 [==============================] - 3s 45ms/step - loss: 1.5134 - accuracy: 0.4064 - val_loss: 1.8765 - val_accuracy: 0.0000e+00\n",
      "Epoch 2/5\n",
      "43/43 [==============================] - 2s 38ms/step - loss: 1.0342 - accuracy: 0.4064 - val_loss: 1.4140 - val_accuracy: 0.0000e+00\n",
      "Epoch 3/5\n",
      "43/43 [==============================] - 2s 39ms/step - loss: 1.0435 - accuracy: 0.4137 - val_loss: 1.5208 - val_accuracy: 0.0000e+00\n"
     ]
    },
    {
     "name": "stdout",
     "output_type": "stream",
     "text": [
      "Epoch 4/5\n",
      "43/43 [==============================] - 2s 40ms/step - loss: 1.0396 - accuracy: 0.4174 - val_loss: 2.2387 - val_accuracy: 0.0000e+00\n",
      "Epoch 5/5\n",
      "43/43 [==============================] - 2s 41ms/step - loss: 1.0449 - accuracy: 0.4211 - val_loss: 1.6249 - val_accuracy: 0.0000e+00\n",
      "Epoch 1/5\n",
      "43/43 [==============================] - 4s 52ms/step - loss: 1.4410 - accuracy: 0.4284 - val_loss: 1.2789 - val_accuracy: 0.0000e+00\n",
      "Epoch 2/5\n",
      "43/43 [==============================] - 2s 43ms/step - loss: 1.0540 - accuracy: 0.4218 - val_loss: 2.5491 - val_accuracy: 0.0000e+00\n",
      "Epoch 3/5\n",
      "43/43 [==============================] - 2s 41ms/step - loss: 1.0508 - accuracy: 0.3962 - val_loss: 1.6461 - val_accuracy: 0.0000e+00\n",
      "Epoch 4/5\n",
      "43/43 [==============================] - 2s 36ms/step - loss: 1.0536 - accuracy: 0.4298 - val_loss: 1.4929 - val_accuracy: 0.0000e+00\n",
      "Epoch 5/5\n",
      "43/43 [==============================] - 2s 39ms/step - loss: 1.0530 - accuracy: 0.4145 - val_loss: 1.8875 - val_accuracy: 0.0000e+00\n",
      "Epoch 1/5\n",
      "43/43 [==============================] - 3s 49ms/step - loss: 1.5147 - accuracy: 0.4130 - val_loss: 1.6852 - val_accuracy: 0.0000e+00\n",
      "Epoch 2/5\n",
      "43/43 [==============================] - 2s 42ms/step - loss: 1.0256 - accuracy: 0.4327 - val_loss: 2.2366 - val_accuracy: 0.0000e+00\n",
      "Epoch 3/5\n",
      "43/43 [==============================] - 2s 45ms/step - loss: 1.0230 - accuracy: 0.4276 - val_loss: 1.7885 - val_accuracy: 0.0000e+00\n",
      "Epoch 4/5\n",
      "43/43 [==============================] - 2s 43ms/step - loss: 1.0030 - accuracy: 0.4218 - val_loss: 2.6125 - val_accuracy: 0.0000e+00\n",
      "Epoch 5/5\n",
      "43/43 [==============================] - 2s 43ms/step - loss: 0.9855 - accuracy: 0.4518 - val_loss: 1.4037 - val_accuracy: 0.3187\n",
      "Epoch 1/5\n",
      "43/43 [==============================] - 3s 43ms/step - loss: 1.1819 - accuracy: 0.4664 - val_loss: 0.9958 - val_accuracy: 0.5380\n",
      "Epoch 2/5\n",
      "43/43 [==============================] - 2s 43ms/step - loss: 0.9068 - accuracy: 0.5154 - val_loss: 2.0385 - val_accuracy: 0.3977\n",
      "Epoch 3/5\n",
      "43/43 [==============================] - 2s 43ms/step - loss: 0.7851 - accuracy: 0.6067 - val_loss: 2.0227 - val_accuracy: 0.3187\n",
      "Epoch 4/5\n",
      "43/43 [==============================] - 2s 44ms/step - loss: 0.7004 - accuracy: 0.6776 - val_loss: 0.8529 - val_accuracy: 0.7690\n",
      "Epoch 5/5\n",
      "43/43 [==============================] - 2s 42ms/step - loss: 0.6093 - accuracy: 0.7354 - val_loss: 1.9362 - val_accuracy: 0.4795\n",
      "Epoch 1/5\n",
      "43/43 [==============================] - 4s 50ms/step - loss: 0.8361 - accuracy: 0.5943 - val_loss: 1.3816 - val_accuracy: 0.4971\n",
      "Epoch 2/5\n",
      "43/43 [==============================] - 2s 40ms/step - loss: 0.6895 - accuracy: 0.7018 - val_loss: 0.9531 - val_accuracy: 0.7193\n",
      "Epoch 3/5\n",
      "43/43 [==============================] - 2s 38ms/step - loss: 0.5980 - accuracy: 0.7558 - val_loss: 1.2385 - val_accuracy: 0.5936\n",
      "Epoch 4/5\n",
      "43/43 [==============================] - 2s 38ms/step - loss: 0.5315 - accuracy: 0.8026 - val_loss: 1.2003 - val_accuracy: 0.6550\n",
      "Epoch 5/5\n",
      "43/43 [==============================] - 2s 42ms/step - loss: 0.5269 - accuracy: 0.7858 - val_loss: 1.4501 - val_accuracy: 0.4942\n",
      "Epoch 1/5\n",
      "43/43 [==============================] - 4s 53ms/step - loss: 1.0243 - accuracy: 0.5197 - val_loss: 0.9532 - val_accuracy: 0.7456\n",
      "Epoch 2/5\n",
      "43/43 [==============================] - 2s 43ms/step - loss: 0.8222 - accuracy: 0.6192 - val_loss: 1.8404 - val_accuracy: 0.1637\n",
      "Epoch 3/5\n",
      "43/43 [==============================] - 2s 42ms/step - loss: 0.7324 - accuracy: 0.6784 - val_loss: 1.5842 - val_accuracy: 0.3626\n",
      "Epoch 4/5\n",
      "43/43 [==============================] - 2s 43ms/step - loss: 0.6673 - accuracy: 0.7135 - val_loss: 1.3696 - val_accuracy: 0.5000\n",
      "Epoch 5/5\n",
      "43/43 [==============================] - 2s 41ms/step - loss: 0.5958 - accuracy: 0.7522 - val_loss: 0.8465 - val_accuracy: 0.7339\n",
      "Epoch 1/5\n",
      "43/43 [==============================] - 3s 45ms/step - loss: 0.9182 - accuracy: 0.5351 - val_loss: 1.6872 - val_accuracy: 0.4211\n",
      "Epoch 2/5\n",
      "43/43 [==============================] - 2s 42ms/step - loss: 0.7418 - accuracy: 0.6594 - val_loss: 0.9326 - val_accuracy: 0.6959\n",
      "Epoch 3/5\n",
      "43/43 [==============================] - 2s 41ms/step - loss: 0.6956 - accuracy: 0.6791 - val_loss: 2.0284 - val_accuracy: 0.3509\n",
      "Epoch 4/5\n",
      "43/43 [==============================] - 2s 40ms/step - loss: 0.6367 - accuracy: 0.7317 - val_loss: 1.0183 - val_accuracy: 0.6491\n",
      "Epoch 5/5\n",
      "43/43 [==============================] - 2s 40ms/step - loss: 0.5862 - accuracy: 0.7697 - val_loss: 1.4347 - val_accuracy: 0.5292\n",
      "Epoch 1/5\n",
      "43/43 [==============================] - 4s 50ms/step - loss: 0.8841 - accuracy: 0.5716 - val_loss: 1.6392 - val_accuracy: 0.4064\n",
      "Epoch 2/5\n",
      "43/43 [==============================] - 2s 41ms/step - loss: 0.7275 - accuracy: 0.7061 - val_loss: 1.1520 - val_accuracy: 0.6170\n",
      "Epoch 3/5\n",
      "43/43 [==============================] - 2s 38ms/step - loss: 0.6607 - accuracy: 0.7332 - val_loss: 1.3398 - val_accuracy: 0.5673\n",
      "Epoch 4/5\n",
      "43/43 [==============================] - 2s 36ms/step - loss: 0.6172 - accuracy: 0.7500 - val_loss: 1.5673 - val_accuracy: 0.4883\n",
      "Epoch 5/5\n",
      "43/43 [==============================] - 2s 41ms/step - loss: 0.6215 - accuracy: 0.7339 - val_loss: 0.7577 - val_accuracy: 0.7865\n",
      "Epoch 1/5\n",
      "43/43 [==============================] - 4s 50ms/step - loss: 0.9790 - accuracy: 0.5256 - val_loss: 0.9497 - val_accuracy: 0.6433\n",
      "Epoch 2/5\n",
      "43/43 [==============================] - 2s 42ms/step - loss: 0.7446 - accuracy: 0.6747 - val_loss: 0.9292 - val_accuracy: 0.6842\n",
      "Epoch 3/5\n",
      "43/43 [==============================] - 2s 42ms/step - loss: 0.7018 - accuracy: 0.6901 - val_loss: 1.0836 - val_accuracy: 0.5877\n",
      "Epoch 4/5\n",
      "43/43 [==============================] - 2s 39ms/step - loss: 0.6369 - accuracy: 0.7310 - val_loss: 0.9226 - val_accuracy: 0.6988\n",
      "Epoch 5/5\n",
      "43/43 [==============================] - 2s 41ms/step - loss: 0.6040 - accuracy: 0.7339 - val_loss: 0.7038 - val_accuracy: 0.7836\n",
      "Epoch 1/5\n",
      "43/43 [==============================] - 5s 74ms/step - loss: 1.2844 - accuracy: 0.3575 - val_loss: 1.6999 - val_accuracy: 0.0000e+00\n",
      "Epoch 2/5\n",
      "43/43 [==============================] - 3s 66ms/step - loss: 1.0605 - accuracy: 0.4042 - val_loss: 2.2382 - val_accuracy: 0.0000e+00\n",
      "Epoch 3/5\n",
      "43/43 [==============================] - 3s 66ms/step - loss: 1.0403 - accuracy: 0.4327 - val_loss: 1.9191 - val_accuracy: 0.0000e+00\n",
      "Epoch 4/5\n",
      "43/43 [==============================] - 3s 67ms/step - loss: 1.0248 - accuracy: 0.4708 - val_loss: 1.7352 - val_accuracy: 0.0000e+00\n",
      "Epoch 5/5\n",
      "43/43 [==============================] - 3s 71ms/step - loss: 1.0306 - accuracy: 0.4635 - val_loss: 2.0874 - val_accuracy: 0.0000e+00\n",
      "Epoch 1/5\n",
      "43/43 [==============================] - 5s 79ms/step - loss: 1.3255 - accuracy: 0.3904 - val_loss: 2.4136 - val_accuracy: 0.0000e+00\n",
      "Epoch 2/5\n",
      "43/43 [==============================] - 3s 73ms/step - loss: 1.0551 - accuracy: 0.4050 - val_loss: 1.7822 - val_accuracy: 0.0000e+00\n",
      "Epoch 3/5\n",
      "43/43 [==============================] - 3s 70ms/step - loss: 1.0676 - accuracy: 0.4079 - val_loss: 1.7671 - val_accuracy: 0.0000e+00\n",
      "Epoch 4/5\n",
      "43/43 [==============================] - 3s 70ms/step - loss: 1.0414 - accuracy: 0.4254 - val_loss: 2.6529 - val_accuracy: 0.0000e+00\n",
      "Epoch 5/5\n",
      "43/43 [==============================] - 3s 65ms/step - loss: 1.0468 - accuracy: 0.4189 - val_loss: 1.5877 - val_accuracy: 0.0000e+00\n",
      "Epoch 1/5\n",
      "43/43 [==============================] - 5s 74ms/step - loss: 1.2239 - accuracy: 0.4152 - val_loss: 1.7746 - val_accuracy: 0.0000e+00\n",
      "Epoch 2/5\n",
      "43/43 [==============================] - 3s 64ms/step - loss: 1.0219 - accuracy: 0.4064 - val_loss: 1.6182 - val_accuracy: 0.0000e+00\n",
      "Epoch 3/5\n",
      "43/43 [==============================] - 3s 64ms/step - loss: 1.0296 - accuracy: 0.4145 - val_loss: 1.6439 - val_accuracy: 0.0000e+00\n",
      "Epoch 4/5\n",
      "43/43 [==============================] - 3s 64ms/step - loss: 1.0509 - accuracy: 0.4152 - val_loss: 1.2611 - val_accuracy: 0.0000e+00\n",
      "Epoch 5/5\n",
      "43/43 [==============================] - 3s 64ms/step - loss: 1.0510 - accuracy: 0.4247 - val_loss: 1.7594 - val_accuracy: 0.0000e+00\n",
      "Epoch 1/5\n",
      "43/43 [==============================] - 4s 72ms/step - loss: 1.2969 - accuracy: 0.3911 - val_loss: 1.6004 - val_accuracy: 0.0000e+00\n"
     ]
    },
    {
     "name": "stdout",
     "output_type": "stream",
     "text": [
      "Epoch 2/5\n",
      "43/43 [==============================] - 3s 66ms/step - loss: 1.0411 - accuracy: 0.4167 - val_loss: 1.5984 - val_accuracy: 0.0000e+00\n",
      "Epoch 3/5\n",
      "43/43 [==============================] - 3s 65ms/step - loss: 1.0753 - accuracy: 0.4130 - val_loss: 1.7669 - val_accuracy: 0.0000e+00\n",
      "Epoch 4/5\n",
      "43/43 [==============================] - 3s 65ms/step - loss: 1.0522 - accuracy: 0.4262 - val_loss: 2.0996 - val_accuracy: 0.0000e+00\n",
      "Epoch 5/5\n",
      "43/43 [==============================] - 3s 63ms/step - loss: 1.0496 - accuracy: 0.4137 - val_loss: 2.1937 - val_accuracy: 0.0000e+00\n",
      "Epoch 1/5\n",
      "43/43 [==============================] - 5s 74ms/step - loss: 1.2962 - accuracy: 0.3721 - val_loss: 1.5346 - val_accuracy: 0.0000e+00\n",
      "Epoch 2/5\n",
      "43/43 [==============================] - 3s 66ms/step - loss: 1.0529 - accuracy: 0.4028 - val_loss: 1.5375 - val_accuracy: 0.0000e+00\n",
      "Epoch 3/5\n",
      "43/43 [==============================] - 3s 67ms/step - loss: 1.0471 - accuracy: 0.4320 - val_loss: 1.9665 - val_accuracy: 0.0000e+00\n",
      "Epoch 4/5\n",
      "43/43 [==============================] - 3s 70ms/step - loss: 1.0449 - accuracy: 0.4174 - val_loss: 1.1367 - val_accuracy: 0.0000e+00\n",
      "Epoch 5/5\n",
      "43/43 [==============================] - 3s 66ms/step - loss: 1.0479 - accuracy: 0.4115 - val_loss: 2.1041 - val_accuracy: 0.0000e+00\n",
      "Epoch 1/5\n",
      "43/43 [==============================] - 5s 75ms/step - loss: 1.1189 - accuracy: 0.5256 - val_loss: 1.4546 - val_accuracy: 0.5000\n",
      "Epoch 2/5\n",
      "43/43 [==============================] - 3s 68ms/step - loss: 0.7034 - accuracy: 0.7025 - val_loss: 1.1119 - val_accuracy: 0.6316\n",
      "Epoch 3/5\n",
      "43/43 [==============================] - 3s 68ms/step - loss: 0.6297 - accuracy: 0.7434 - val_loss: 1.0786 - val_accuracy: 0.5205\n",
      "Epoch 4/5\n",
      "43/43 [==============================] - 3s 70ms/step - loss: 0.5674 - accuracy: 0.7646 - val_loss: 0.7616 - val_accuracy: 0.6696\n",
      "Epoch 5/5\n",
      "43/43 [==============================] - 3s 66ms/step - loss: 0.5179 - accuracy: 0.7887 - val_loss: 1.0773 - val_accuracy: 0.5760\n",
      "Epoch 1/5\n",
      "43/43 [==============================] - 5s 76ms/step - loss: 1.4307 - accuracy: 0.4722 - val_loss: 1.3160 - val_accuracy: 0.0994\n",
      "Epoch 2/5\n",
      "43/43 [==============================] - 3s 67ms/step - loss: 0.8336 - accuracy: 0.6111 - val_loss: 1.4758 - val_accuracy: 0.5117\n",
      "Epoch 3/5\n",
      "43/43 [==============================] - 3s 67ms/step - loss: 0.7405 - accuracy: 0.6718 - val_loss: 1.6524 - val_accuracy: 0.4883\n",
      "Epoch 4/5\n",
      "43/43 [==============================] - 3s 68ms/step - loss: 0.6913 - accuracy: 0.7032 - val_loss: 1.4696 - val_accuracy: 0.5468\n",
      "Epoch 5/5\n",
      "43/43 [==============================] - 3s 64ms/step - loss: 0.6645 - accuracy: 0.7142 - val_loss: 1.5314 - val_accuracy: 0.5292\n",
      "Epoch 1/5\n",
      "43/43 [==============================] - 5s 75ms/step - loss: 1.4278 - accuracy: 0.4503 - val_loss: 1.4728 - val_accuracy: 0.0614\n",
      "Epoch 2/5\n",
      "43/43 [==============================] - 3s 68ms/step - loss: 0.8786 - accuracy: 0.5819 - val_loss: 1.4453 - val_accuracy: 0.4971\n",
      "Epoch 3/5\n",
      "43/43 [==============================] - 3s 68ms/step - loss: 0.7753 - accuracy: 0.6389 - val_loss: 1.3545 - val_accuracy: 0.5585\n",
      "Epoch 4/5\n",
      "43/43 [==============================] - 3s 68ms/step - loss: 0.7441 - accuracy: 0.6915 - val_loss: 1.2900 - val_accuracy: 0.6023\n",
      "Epoch 5/5\n",
      "43/43 [==============================] - 3s 63ms/step - loss: 0.6893 - accuracy: 0.6988 - val_loss: 1.1807 - val_accuracy: 0.6082\n",
      "Epoch 1/5\n",
      "43/43 [==============================] - 5s 77ms/step - loss: 1.1657 - accuracy: 0.4605 - val_loss: 1.1316 - val_accuracy: 0.7368\n",
      "Epoch 2/5\n",
      "43/43 [==============================] - 3s 68ms/step - loss: 0.8029 - accuracy: 0.6316 - val_loss: 1.9095 - val_accuracy: 0.4269\n",
      "Epoch 3/5\n",
      "43/43 [==============================] - 3s 68ms/step - loss: 0.7073 - accuracy: 0.6959 - val_loss: 1.3445 - val_accuracy: 0.5702\n",
      "Epoch 4/5\n",
      "43/43 [==============================] - 3s 67ms/step - loss: 0.6259 - accuracy: 0.7434 - val_loss: 0.9857 - val_accuracy: 0.6930\n",
      "Epoch 5/5\n",
      "43/43 [==============================] - 3s 62ms/step - loss: 0.5893 - accuracy: 0.7712 - val_loss: 1.1101 - val_accuracy: 0.6462\n",
      "Epoch 1/5\n",
      "43/43 [==============================] - 5s 76ms/step - loss: 1.3800 - accuracy: 0.4627 - val_loss: 1.7745 - val_accuracy: 0.0994\n",
      "Epoch 2/5\n",
      "43/43 [==============================] - 3s 67ms/step - loss: 0.8472 - accuracy: 0.5965 - val_loss: 1.4396 - val_accuracy: 0.4912\n",
      "Epoch 3/5\n",
      "43/43 [==============================] - 3s 66ms/step - loss: 0.7022 - accuracy: 0.7069 - val_loss: 1.3819 - val_accuracy: 0.5117\n",
      "Epoch 4/5\n",
      "43/43 [==============================] - 3s 66ms/step - loss: 0.6612 - accuracy: 0.7083 - val_loss: 1.2442 - val_accuracy: 0.5760\n",
      "Epoch 5/5\n",
      "43/43 [==============================] - 3s 62ms/step - loss: 0.5758 - accuracy: 0.7902 - val_loss: 1.0953 - val_accuracy: 0.6053\n",
      "Epoch 1/5\n",
      "43/43 [==============================] - 3s 37ms/step - loss: 0.9513 - accuracy: 0.4744 - val_loss: 1.0832 - val_accuracy: 0.6784\n",
      "Epoch 2/5\n",
      "43/43 [==============================] - 1s 30ms/step - loss: 0.7876 - accuracy: 0.6199 - val_loss: 1.3548 - val_accuracy: 0.5643\n",
      "Epoch 3/5\n",
      "43/43 [==============================] - 1s 29ms/step - loss: 0.7663 - accuracy: 0.6323 - val_loss: 0.6254 - val_accuracy: 0.9094\n",
      "Epoch 4/5\n",
      "43/43 [==============================] - 1s 29ms/step - loss: 0.7542 - accuracy: 0.6499 - val_loss: 1.4758 - val_accuracy: 0.5760\n",
      "Epoch 5/5\n",
      "43/43 [==============================] - 1s 30ms/step - loss: 0.7183 - accuracy: 0.6681 - val_loss: 0.8507 - val_accuracy: 0.8392\n",
      "Epoch 1/5\n",
      "43/43 [==============================] - 3s 38ms/step - loss: 1.0664 - accuracy: 0.4335 - val_loss: 1.7361 - val_accuracy: 0.1199\n",
      "Epoch 2/5\n",
      "43/43 [==============================] - 1s 31ms/step - loss: 0.9074 - accuracy: 0.5132 - val_loss: 1.2771 - val_accuracy: 0.5760\n",
      "Epoch 3/5\n",
      "43/43 [==============================] - 1s 30ms/step - loss: 0.8063 - accuracy: 0.5892 - val_loss: 1.4076 - val_accuracy: 0.5351\n",
      "Epoch 4/5\n",
      "43/43 [==============================] - 1s 28ms/step - loss: 0.8308 - accuracy: 0.5826 - val_loss: 2.3437 - val_accuracy: 0.2749\n",
      "Epoch 5/5\n",
      "43/43 [==============================] - 1s 29ms/step - loss: 0.7504 - accuracy: 0.6411 - val_loss: 1.3898 - val_accuracy: 0.6462\n",
      "Epoch 1/5\n",
      "43/43 [==============================] - 3s 38ms/step - loss: 1.0847 - accuracy: 0.4627 - val_loss: 1.5831 - val_accuracy: 0.5760\n",
      "Epoch 2/5\n",
      "43/43 [==============================] - 1s 30ms/step - loss: 0.8821 - accuracy: 0.5570 - val_loss: 1.5927 - val_accuracy: 0.5819\n",
      "Epoch 3/5\n",
      "43/43 [==============================] - 1s 30ms/step - loss: 0.8872 - accuracy: 0.5358 - val_loss: 1.6109 - val_accuracy: 0.5760\n",
      "Epoch 4/5\n",
      "43/43 [==============================] - 1s 30ms/step - loss: 0.8535 - accuracy: 0.5797 - val_loss: 1.7736 - val_accuracy: 0.4035\n",
      "Epoch 5/5\n",
      "43/43 [==============================] - 1s 31ms/step - loss: 0.7707 - accuracy: 0.6345 - val_loss: 1.6986 - val_accuracy: 0.5673\n",
      "Epoch 1/5\n",
      "43/43 [==============================] - 3s 38ms/step - loss: 0.9365 - accuracy: 0.5015 - val_loss: 2.1024 - val_accuracy: 0.3216\n",
      "Epoch 2/5\n",
      "43/43 [==============================] - 1s 31ms/step - loss: 0.8563 - accuracy: 0.5709 - val_loss: 1.0834 - val_accuracy: 0.6930\n",
      "Epoch 3/5\n",
      "43/43 [==============================] - 1s 29ms/step - loss: 0.7696 - accuracy: 0.6192 - val_loss: 1.1565 - val_accuracy: 0.6930\n",
      "Epoch 4/5\n",
      "43/43 [==============================] - 1s 28ms/step - loss: 0.7471 - accuracy: 0.6374 - val_loss: 1.4483 - val_accuracy: 0.6053\n",
      "Epoch 5/5\n",
      "43/43 [==============================] - 1s 30ms/step - loss: 0.7145 - accuracy: 0.6740 - val_loss: 1.3443 - val_accuracy: 0.6111\n",
      "Epoch 1/5\n",
      "43/43 [==============================] - 4s 42ms/step - loss: 1.1167 - accuracy: 0.4079 - val_loss: 2.0338 - val_accuracy: 0.0000e+00\n",
      "Epoch 2/5\n",
      "43/43 [==============================] - 1s 32ms/step - loss: 0.9798 - accuracy: 0.5058 - val_loss: 1.5331 - val_accuracy: 0.0380\n",
      "Epoch 3/5\n",
      "43/43 [==============================] - 1s 32ms/step - loss: 0.8682 - accuracy: 0.5797 - val_loss: 0.9403 - val_accuracy: 0.7602\n",
      "Epoch 4/5\n",
      "43/43 [==============================] - 1s 29ms/step - loss: 0.8342 - accuracy: 0.6075 - val_loss: 0.8279 - val_accuracy: 0.8450\n",
      "Epoch 5/5\n"
     ]
    },
    {
     "name": "stdout",
     "output_type": "stream",
     "text": [
      "43/43 [==============================] - 1s 29ms/step - loss: 0.7723 - accuracy: 0.6206 - val_loss: 0.9456 - val_accuracy: 0.7602\n",
      "Epoch 1/5\n",
      "43/43 [==============================] - 2s 23ms/step - loss: 0.9936 - accuracy: 0.4225 - val_loss: 1.2729 - val_accuracy: 0.3567\n",
      "Epoch 2/5\n",
      "43/43 [==============================] - 1s 26ms/step - loss: 0.8767 - accuracy: 0.5534 - val_loss: 0.9520 - val_accuracy: 0.6930\n",
      "Epoch 3/5\n",
      "43/43 [==============================] - 1s 29ms/step - loss: 0.8304 - accuracy: 0.5746 - val_loss: 1.2204 - val_accuracy: 0.6023\n",
      "Epoch 4/5\n",
      "43/43 [==============================] - 1s 29ms/step - loss: 0.8074 - accuracy: 0.5914 - val_loss: 1.2665 - val_accuracy: 0.6257\n",
      "Epoch 5/5\n",
      "43/43 [==============================] - 1s 32ms/step - loss: 0.7930 - accuracy: 0.6053 - val_loss: 1.5213 - val_accuracy: 0.5351\n",
      "Epoch 1/5\n",
      "43/43 [==============================] - 3s 40ms/step - loss: 1.0206 - accuracy: 0.4934 - val_loss: 1.8133 - val_accuracy: 0.0000e+00\n",
      "Epoch 2/5\n",
      "43/43 [==============================] - 1s 31ms/step - loss: 0.9349 - accuracy: 0.5577 - val_loss: 1.5939 - val_accuracy: 0.0000e+00\n",
      "Epoch 3/5\n",
      "43/43 [==============================] - 1s 30ms/step - loss: 0.9002 - accuracy: 0.5702 - val_loss: 1.2935 - val_accuracy: 0.0409\n",
      "Epoch 4/5\n",
      "43/43 [==============================] - 1s 30ms/step - loss: 0.8665 - accuracy: 0.5921 - val_loss: 1.3276 - val_accuracy: 0.1491\n",
      "Epoch 5/5\n",
      "43/43 [==============================] - 1s 30ms/step - loss: 0.8619 - accuracy: 0.5943 - val_loss: 1.9692 - val_accuracy: 0.0000e+00\n",
      "Epoch 1/5\n",
      "43/43 [==============================] - 3s 41ms/step - loss: 1.0171 - accuracy: 0.4649 - val_loss: 2.1952 - val_accuracy: 0.0000e+00\n",
      "Epoch 2/5\n",
      "43/43 [==============================] - 1s 28ms/step - loss: 0.9434 - accuracy: 0.5665 - val_loss: 1.6851 - val_accuracy: 0.0029\n",
      "Epoch 3/5\n",
      "43/43 [==============================] - 1s 28ms/step - loss: 0.9054 - accuracy: 0.5819 - val_loss: 1.2761 - val_accuracy: 0.1491\n",
      "Epoch 4/5\n",
      "43/43 [==============================] - 1s 30ms/step - loss: 0.8903 - accuracy: 0.5928 - val_loss: 1.5984 - val_accuracy: 0.0088\n",
      "Epoch 5/5\n",
      "43/43 [==============================] - 1s 28ms/step - loss: 0.8720 - accuracy: 0.5899 - val_loss: 1.6401 - val_accuracy: 0.0088\n",
      "Epoch 1/5\n",
      "43/43 [==============================] - 3s 35ms/step - loss: 1.0640 - accuracy: 0.4715 - val_loss: 1.9288 - val_accuracy: 0.0000e+00\n",
      "Epoch 2/5\n",
      "43/43 [==============================] - 1s 30ms/step - loss: 0.9747 - accuracy: 0.5139 - val_loss: 1.6064 - val_accuracy: 0.0000e+00\n",
      "Epoch 3/5\n",
      "43/43 [==============================] - 1s 29ms/step - loss: 0.9190 - accuracy: 0.5512 - val_loss: 1.7602 - val_accuracy: 0.0000e+00\n",
      "Epoch 4/5\n",
      "43/43 [==============================] - 1s 29ms/step - loss: 0.9208 - accuracy: 0.5351 - val_loss: 1.3878 - val_accuracy: 0.0292\n",
      "Epoch 5/5\n",
      "43/43 [==============================] - 1s 29ms/step - loss: 0.8837 - accuracy: 0.5775 - val_loss: 1.3620 - val_accuracy: 0.0088\n",
      "Epoch 1/5\n",
      "43/43 [==============================] - 3s 36ms/step - loss: 1.0415 - accuracy: 0.4854 - val_loss: 2.1950 - val_accuracy: 0.0000e+00\n",
      "Epoch 2/5\n",
      "43/43 [==============================] - 1s 28ms/step - loss: 0.9752 - accuracy: 0.5716 - val_loss: 1.5179 - val_accuracy: 0.0000e+00\n",
      "Epoch 3/5\n",
      "43/43 [==============================] - 1s 27ms/step - loss: 0.9260 - accuracy: 0.5870 - val_loss: 1.7920 - val_accuracy: 0.0000e+00\n",
      "Epoch 4/5\n",
      "43/43 [==============================] - 1s 29ms/step - loss: 0.8974 - accuracy: 0.5972 - val_loss: 1.4402 - val_accuracy: 0.0000e+00\n",
      "Epoch 5/5\n",
      "43/43 [==============================] - 1s 30ms/step - loss: 0.8827 - accuracy: 0.5885 - val_loss: 1.3582 - val_accuracy: 0.0497\n",
      "Epoch 1/5\n",
      "43/43 [==============================] - 3s 48ms/step - loss: 1.1183 - accuracy: 0.4854 - val_loss: 1.5546 - val_accuracy: 0.2836\n",
      "Epoch 2/5\n",
      "43/43 [==============================] - 2s 41ms/step - loss: 0.8165 - accuracy: 0.5760 - val_loss: 0.8874 - val_accuracy: 0.7310\n",
      "Epoch 3/5\n",
      "43/43 [==============================] - 2s 40ms/step - loss: 0.6959 - accuracy: 0.6820 - val_loss: 0.9935 - val_accuracy: 0.6667\n",
      "Epoch 4/5\n",
      "43/43 [==============================] - 2s 41ms/step - loss: 0.6662 - accuracy: 0.6842 - val_loss: 1.0688 - val_accuracy: 0.6520\n",
      "Epoch 5/5\n",
      "43/43 [==============================] - 2s 41ms/step - loss: 0.5971 - accuracy: 0.7463 - val_loss: 0.6419 - val_accuracy: 0.8363\n",
      "Epoch 1/5\n",
      "43/43 [==============================] - 3s 46ms/step - loss: 1.2174 - accuracy: 0.4006 - val_loss: 1.2154 - val_accuracy: 0.0000e+00\n",
      "Epoch 2/5\n",
      "43/43 [==============================] - 2s 40ms/step - loss: 0.9126 - accuracy: 0.4927 - val_loss: 0.9564 - val_accuracy: 0.7339\n",
      "Epoch 3/5\n",
      "43/43 [==============================] - 2s 41ms/step - loss: 0.7843 - accuracy: 0.5987 - val_loss: 1.8431 - val_accuracy: 0.3421\n",
      "Epoch 4/5\n",
      "43/43 [==============================] - 2s 40ms/step - loss: 0.6700 - accuracy: 0.7025 - val_loss: 1.0814 - val_accuracy: 0.6404\n",
      "Epoch 5/5\n",
      "43/43 [==============================] - 2s 41ms/step - loss: 0.6134 - accuracy: 0.7303 - val_loss: 1.1776 - val_accuracy: 0.6813\n",
      "Epoch 1/5\n",
      "43/43 [==============================] - 3s 43ms/step - loss: 1.0401 - accuracy: 0.5336 - val_loss: 1.7399 - val_accuracy: 0.4678\n",
      "Epoch 2/5\n",
      "43/43 [==============================] - 2s 38ms/step - loss: 0.7264 - accuracy: 0.6784 - val_loss: 1.2068 - val_accuracy: 0.6462\n",
      "Epoch 3/5\n",
      "43/43 [==============================] - 1s 34ms/step - loss: 0.6360 - accuracy: 0.7186 - val_loss: 1.0652 - val_accuracy: 0.6930\n",
      "Epoch 4/5\n",
      "43/43 [==============================] - 1s 32ms/step - loss: 0.5928 - accuracy: 0.7485 - val_loss: 0.8786 - val_accuracy: 0.7339\n",
      "Epoch 5/5\n",
      "43/43 [==============================] - 1s 33ms/step - loss: 0.5123 - accuracy: 0.7814 - val_loss: 1.5874 - val_accuracy: 0.4883\n",
      "Epoch 1/5\n",
      "43/43 [==============================] - 3s 45ms/step - loss: 1.1069 - accuracy: 0.4898 - val_loss: 1.3955 - val_accuracy: 0.5936\n",
      "Epoch 2/5\n",
      "43/43 [==============================] - 2s 38ms/step - loss: 0.7721 - accuracy: 0.6352 - val_loss: 1.5592 - val_accuracy: 0.5439\n",
      "Epoch 3/5\n",
      "43/43 [==============================] - 2s 36ms/step - loss: 0.6862 - accuracy: 0.6864 - val_loss: 1.1911 - val_accuracy: 0.6433\n",
      "Epoch 4/5\n",
      "43/43 [==============================] - 2s 37ms/step - loss: 0.6217 - accuracy: 0.7244 - val_loss: 1.4472 - val_accuracy: 0.5263\n",
      "Epoch 5/5\n",
      "43/43 [==============================] - 2s 38ms/step - loss: 0.6658 - accuracy: 0.6944 - val_loss: 0.7801 - val_accuracy: 0.7836\n",
      "Epoch 1/5\n",
      "43/43 [==============================] - 3s 44ms/step - loss: 1.1099 - accuracy: 0.4883 - val_loss: 1.6674 - val_accuracy: 0.3304\n",
      "Epoch 2/5\n",
      "43/43 [==============================] - 2s 35ms/step - loss: 0.7740 - accuracy: 0.6367 - val_loss: 1.2049 - val_accuracy: 0.5731\n",
      "Epoch 3/5\n",
      "43/43 [==============================] - 2s 40ms/step - loss: 0.7176 - accuracy: 0.6776 - val_loss: 1.7537 - val_accuracy: 0.3830\n",
      "Epoch 4/5\n",
      "43/43 [==============================] - 2s 39ms/step - loss: 0.6818 - accuracy: 0.7003 - val_loss: 0.6881 - val_accuracy: 0.7895\n",
      "Epoch 5/5\n",
      "43/43 [==============================] - 2s 38ms/step - loss: 0.6365 - accuracy: 0.7295 - val_loss: 1.3152 - val_accuracy: 0.5965\n",
      "Epoch 1/5\n",
      "43/43 [==============================] - 3s 46ms/step - loss: 0.9657 - accuracy: 0.4971 - val_loss: 1.3569 - val_accuracy: 0.3830\n",
      "Epoch 2/5\n",
      "43/43 [==============================] - 2s 38ms/step - loss: 0.7962 - accuracy: 0.6418 - val_loss: 1.1551 - val_accuracy: 0.5731\n",
      "Epoch 3/5\n",
      "43/43 [==============================] - 2s 38ms/step - loss: 0.7408 - accuracy: 0.6564 - val_loss: 1.3566 - val_accuracy: 0.5234\n",
      "Epoch 4/5\n",
      "43/43 [==============================] - 2s 38ms/step - loss: 0.7055 - accuracy: 0.6806 - val_loss: 1.4085 - val_accuracy: 0.4649\n",
      "Epoch 5/5\n",
      "43/43 [==============================] - 1s 33ms/step - loss: 0.6919 - accuracy: 0.6930 - val_loss: 0.7522 - val_accuracy: 0.7836\n",
      "Epoch 1/5\n",
      "43/43 [==============================] - 3s 43ms/step - loss: 0.9377 - accuracy: 0.4956 - val_loss: 1.2734 - val_accuracy: 0.4912\n",
      "Epoch 2/5\n",
      "43/43 [==============================] - 1s 30ms/step - loss: 0.8042 - accuracy: 0.6367 - val_loss: 1.4384 - val_accuracy: 0.5146\n",
      "Epoch 3/5\n"
     ]
    },
    {
     "name": "stdout",
     "output_type": "stream",
     "text": [
      "43/43 [==============================] - 2s 35ms/step - loss: 0.7520 - accuracy: 0.6564 - val_loss: 1.9620 - val_accuracy: 0.2836\n",
      "Epoch 4/5\n",
      "43/43 [==============================] - 2s 36ms/step - loss: 0.7338 - accuracy: 0.6886 - val_loss: 1.7204 - val_accuracy: 0.4795\n",
      "Epoch 5/5\n",
      "43/43 [==============================] - 2s 37ms/step - loss: 0.7041 - accuracy: 0.6966 - val_loss: 0.8746 - val_accuracy: 0.7632\n",
      "Epoch 1/5\n",
      "43/43 [==============================] - 3s 43ms/step - loss: 0.9536 - accuracy: 0.5212 - val_loss: 1.4671 - val_accuracy: 0.2485\n",
      "Epoch 2/5\n",
      "43/43 [==============================] - 2s 37ms/step - loss: 0.8296 - accuracy: 0.6001 - val_loss: 0.9457 - val_accuracy: 0.6491\n",
      "Epoch 3/5\n",
      "43/43 [==============================] - 1s 33ms/step - loss: 0.7642 - accuracy: 0.6674 - val_loss: 1.4669 - val_accuracy: 0.5088\n",
      "Epoch 4/5\n",
      "43/43 [==============================] - 1s 30ms/step - loss: 0.7247 - accuracy: 0.6966 - val_loss: 1.5351 - val_accuracy: 0.5292\n",
      "Epoch 5/5\n",
      "43/43 [==============================] - 1s 33ms/step - loss: 0.7000 - accuracy: 0.7076 - val_loss: 1.2529 - val_accuracy: 0.6433\n",
      "Epoch 1/5\n",
      "43/43 [==============================] - 4s 47ms/step - loss: 0.9657 - accuracy: 0.4942 - val_loss: 1.9385 - val_accuracy: 0.0146\n",
      "Epoch 2/5\n",
      "43/43 [==============================] - 2s 39ms/step - loss: 0.8237 - accuracy: 0.6301 - val_loss: 0.9890 - val_accuracy: 0.6901\n",
      "Epoch 3/5\n",
      "43/43 [==============================] - 2s 39ms/step - loss: 0.7561 - accuracy: 0.6484 - val_loss: 1.1731 - val_accuracy: 0.6111\n",
      "Epoch 4/5\n",
      "43/43 [==============================] - 2s 40ms/step - loss: 0.7253 - accuracy: 0.6864 - val_loss: 1.3550 - val_accuracy: 0.5585\n",
      "Epoch 5/5\n",
      "43/43 [==============================] - 2s 37ms/step - loss: 0.7032 - accuracy: 0.6813 - val_loss: 1.0543 - val_accuracy: 0.7222\n",
      "Epoch 1/5\n",
      "43/43 [==============================] - 3s 40ms/step - loss: 0.9919 - accuracy: 0.5146 - val_loss: 1.6741 - val_accuracy: 0.0000e+00\n",
      "Epoch 2/5\n",
      "43/43 [==============================] - 2s 36ms/step - loss: 0.8531 - accuracy: 0.5760 - val_loss: 1.3174 - val_accuracy: 0.1959\n",
      "Epoch 3/5\n",
      "43/43 [==============================] - 2s 40ms/step - loss: 0.7790 - accuracy: 0.6550 - val_loss: 1.7667 - val_accuracy: 0.1901\n",
      "Epoch 4/5\n",
      "43/43 [==============================] - 2s 39ms/step - loss: 0.7229 - accuracy: 0.6864 - val_loss: 1.2224 - val_accuracy: 0.5497\n",
      "Epoch 5/5\n",
      "43/43 [==============================] - 2s 39ms/step - loss: 0.7100 - accuracy: 0.6857 - val_loss: 1.6520 - val_accuracy: 0.2632\n",
      "Epoch 1/5\n",
      "43/43 [==============================] - 4s 51ms/step - loss: 1.4316 - accuracy: 0.4174 - val_loss: 1.7217 - val_accuracy: 0.0000e+00\n",
      "Epoch 2/5\n",
      "43/43 [==============================] - 2s 44ms/step - loss: 1.0418 - accuracy: 0.4284 - val_loss: 1.6349 - val_accuracy: 0.0000e+00\n",
      "Epoch 3/5\n",
      "43/43 [==============================] - 2s 43ms/step - loss: 1.0378 - accuracy: 0.4393 - val_loss: 1.4918 - val_accuracy: 0.0000e+00\n",
      "Epoch 4/5\n",
      "43/43 [==============================] - 2s 40ms/step - loss: 1.0421 - accuracy: 0.4532 - val_loss: 2.2159 - val_accuracy: 0.0000e+00\n",
      "Epoch 5/5\n",
      "43/43 [==============================] - 2s 41ms/step - loss: 1.0464 - accuracy: 0.4408 - val_loss: 1.7100 - val_accuracy: 0.0000e+00\n",
      "Epoch 1/5\n",
      "43/43 [==============================] - 4s 51ms/step - loss: 1.2248 - accuracy: 0.3940 - val_loss: 1.5716 - val_accuracy: 0.0000e+00\n",
      "Epoch 2/5\n",
      "43/43 [==============================] - 2s 43ms/step - loss: 1.0610 - accuracy: 0.4401 - val_loss: 2.3265 - val_accuracy: 0.0000e+00\n",
      "Epoch 3/5\n",
      "43/43 [==============================] - 2s 43ms/step - loss: 1.0563 - accuracy: 0.4269 - val_loss: 1.4560 - val_accuracy: 0.0000e+00\n",
      "Epoch 4/5\n",
      "43/43 [==============================] - 2s 43ms/step - loss: 1.0476 - accuracy: 0.4386 - val_loss: 2.0371 - val_accuracy: 0.0000e+00\n",
      "Epoch 5/5\n",
      "43/43 [==============================] - 2s 43ms/step - loss: 1.0515 - accuracy: 0.4094 - val_loss: 1.5225 - val_accuracy: 0.0000e+00\n",
      "Epoch 1/5\n",
      "43/43 [==============================] - 3s 48ms/step - loss: 1.3454 - accuracy: 0.4072 - val_loss: 1.9898 - val_accuracy: 0.0000e+00\n",
      "Epoch 2/5\n",
      "43/43 [==============================] - 2s 43ms/step - loss: 1.0493 - accuracy: 0.4137 - val_loss: 1.7499 - val_accuracy: 0.0000e+00\n",
      "Epoch 3/5\n",
      "43/43 [==============================] - 2s 43ms/step - loss: 1.0519 - accuracy: 0.4357 - val_loss: 1.8075 - val_accuracy: 0.0000e+00\n",
      "Epoch 4/5\n",
      "43/43 [==============================] - 2s 44ms/step - loss: 1.0400 - accuracy: 0.4254 - val_loss: 2.0026 - val_accuracy: 0.0000e+00\n",
      "Epoch 5/5\n",
      "43/43 [==============================] - 2s 42ms/step - loss: 1.0588 - accuracy: 0.4130 - val_loss: 2.5728 - val_accuracy: 0.0000e+00\n",
      "Epoch 1/5\n",
      "43/43 [==============================] - 4s 51ms/step - loss: 1.4151 - accuracy: 0.4152 - val_loss: 1.2580 - val_accuracy: 0.0000e+00\n",
      "Epoch 2/5\n",
      "43/43 [==============================] - 2s 44ms/step - loss: 1.0534 - accuracy: 0.4203 - val_loss: 1.8987 - val_accuracy: 0.0000e+00\n",
      "Epoch 3/5\n",
      "43/43 [==============================] - 2s 40ms/step - loss: 1.0413 - accuracy: 0.4094 - val_loss: 1.8123 - val_accuracy: 0.0000e+00\n",
      "Epoch 4/5\n",
      "43/43 [==============================] - 2s 39ms/step - loss: 1.0398 - accuracy: 0.4437 - val_loss: 1.5586 - val_accuracy: 0.0000e+00\n",
      "Epoch 5/5\n",
      "43/43 [==============================] - 2s 41ms/step - loss: 1.0466 - accuracy: 0.4050 - val_loss: 2.0410 - val_accuracy: 0.0000e+00\n",
      "Epoch 1/5\n",
      "43/43 [==============================] - 4s 50ms/step - loss: 1.4643 - accuracy: 0.4108 - val_loss: 2.0332 - val_accuracy: 0.0000e+00\n",
      "Epoch 2/5\n",
      "43/43 [==============================] - 2s 41ms/step - loss: 1.0146 - accuracy: 0.4364 - val_loss: 1.7283 - val_accuracy: 0.0000e+00\n",
      "Epoch 3/5\n",
      "43/43 [==============================] - 2s 41ms/step - loss: 1.0325 - accuracy: 0.4393 - val_loss: 1.0684 - val_accuracy: 0.8304\n",
      "Epoch 4/5\n",
      "43/43 [==============================] - 2s 40ms/step - loss: 1.0391 - accuracy: 0.4291 - val_loss: 1.6611 - val_accuracy: 0.0000e+00\n",
      "Epoch 5/5\n",
      "43/43 [==============================] - 2s 40ms/step - loss: 1.0372 - accuracy: 0.4174 - val_loss: 2.4432 - val_accuracy: 0.0000e+00\n",
      "Epoch 1/5\n",
      "43/43 [==============================] - 3s 44ms/step - loss: 0.9592 - accuracy: 0.5570 - val_loss: 1.7536 - val_accuracy: 0.3655\n",
      "Epoch 2/5\n",
      "43/43 [==============================] - 2s 39ms/step - loss: 0.7638 - accuracy: 0.6681 - val_loss: 1.2475 - val_accuracy: 0.5848\n",
      "Epoch 3/5\n",
      "43/43 [==============================] - 2s 39ms/step - loss: 0.7146 - accuracy: 0.6886 - val_loss: 1.8347 - val_accuracy: 0.3655\n",
      "Epoch 4/5\n",
      "43/43 [==============================] - 2s 42ms/step - loss: 0.6330 - accuracy: 0.7493 - val_loss: 2.0304 - val_accuracy: 0.3772\n",
      "Epoch 5/5\n",
      "43/43 [==============================] - 2s 42ms/step - loss: 0.5838 - accuracy: 0.7675 - val_loss: 0.9221 - val_accuracy: 0.7193\n",
      "Epoch 1/5\n",
      "43/43 [==============================] - 4s 53ms/step - loss: 0.9213 - accuracy: 0.5475 - val_loss: 1.6809 - val_accuracy: 0.3421\n",
      "Epoch 2/5\n",
      "43/43 [==============================] - 2s 44ms/step - loss: 0.7408 - accuracy: 0.6952 - val_loss: 1.0092 - val_accuracy: 0.6754\n",
      "Epoch 3/5\n",
      "43/43 [==============================] - 2s 39ms/step - loss: 0.6632 - accuracy: 0.7200 - val_loss: 1.6305 - val_accuracy: 0.4678\n",
      "Epoch 4/5\n",
      "43/43 [==============================] - 2s 37ms/step - loss: 0.6486 - accuracy: 0.7383 - val_loss: 0.9330 - val_accuracy: 0.6784\n",
      "Epoch 5/5\n",
      "43/43 [==============================] - 2s 40ms/step - loss: 0.5567 - accuracy: 0.7778 - val_loss: 0.9230 - val_accuracy: 0.7135\n",
      "Epoch 1/5\n",
      "43/43 [==============================] - 3s 48ms/step - loss: 0.9118 - accuracy: 0.5504 - val_loss: 1.1724 - val_accuracy: 0.5673\n",
      "Epoch 2/5\n",
      "43/43 [==============================] - 2s 40ms/step - loss: 0.7207 - accuracy: 0.6754 - val_loss: 1.3848 - val_accuracy: 0.5526\n",
      "Epoch 3/5\n",
      "43/43 [==============================] - 2s 41ms/step - loss: 0.6783 - accuracy: 0.7025 - val_loss: 1.3451 - val_accuracy: 0.5409\n",
      "Epoch 4/5\n",
      "43/43 [==============================] - 2s 41ms/step - loss: 0.6227 - accuracy: 0.7178 - val_loss: 1.1228 - val_accuracy: 0.6053\n",
      "Epoch 5/5\n",
      "43/43 [==============================] - 2s 41ms/step - loss: 0.5825 - accuracy: 0.7595 - val_loss: 1.1280 - val_accuracy: 0.5936\n"
     ]
    },
    {
     "name": "stdout",
     "output_type": "stream",
     "text": [
      "Epoch 1/5\n",
      "43/43 [==============================] - 3s 45ms/step - loss: 0.9552 - accuracy: 0.5197 - val_loss: 1.6995 - val_accuracy: 0.2690\n",
      "Epoch 2/5\n",
      "43/43 [==============================] - 2s 42ms/step - loss: 0.7330 - accuracy: 0.6806 - val_loss: 1.1030 - val_accuracy: 0.6520\n",
      "Epoch 3/5\n",
      "43/43 [==============================] - 2s 42ms/step - loss: 0.6960 - accuracy: 0.6915 - val_loss: 1.0264 - val_accuracy: 0.6930\n",
      "Epoch 4/5\n",
      "43/43 [==============================] - 2s 42ms/step - loss: 0.6343 - accuracy: 0.7288 - val_loss: 1.2323 - val_accuracy: 0.6140\n",
      "Epoch 5/5\n",
      "43/43 [==============================] - 2s 41ms/step - loss: 0.5734 - accuracy: 0.7646 - val_loss: 1.2492 - val_accuracy: 0.5877\n",
      "Epoch 1/5\n",
      "43/43 [==============================] - 4s 51ms/step - loss: 1.0742 - accuracy: 0.4898 - val_loss: 1.8141 - val_accuracy: 0.2105\n",
      "Epoch 2/5\n",
      "43/43 [==============================] - 2s 42ms/step - loss: 0.8083 - accuracy: 0.6557 - val_loss: 2.1501 - val_accuracy: 0.2456\n",
      "Epoch 3/5\n",
      "43/43 [==============================] - 2s 39ms/step - loss: 0.7504 - accuracy: 0.6564 - val_loss: 2.3060 - val_accuracy: 0.3129\n",
      "Epoch 4/5\n",
      "43/43 [==============================] - 2s 37ms/step - loss: 0.6787 - accuracy: 0.7193 - val_loss: 1.2235 - val_accuracy: 0.6199\n",
      "Epoch 5/5\n",
      "43/43 [==============================] - 2s 41ms/step - loss: 0.6395 - accuracy: 0.7310 - val_loss: 0.9581 - val_accuracy: 0.7222\n",
      "Epoch 1/5\n",
      "43/43 [==============================] - 3s 37ms/step - loss: 1.0130 - accuracy: 0.4656 - val_loss: 1.0399 - val_accuracy: 0.6784\n",
      "Epoch 2/5\n",
      "43/43 [==============================] - 1s 29ms/step - loss: 0.8575 - accuracy: 0.5534 - val_loss: 1.3918 - val_accuracy: 0.6491\n",
      "Epoch 3/5\n",
      "43/43 [==============================] - 1s 28ms/step - loss: 0.8205 - accuracy: 0.5936 - val_loss: 1.4499 - val_accuracy: 0.5877\n",
      "Epoch 4/5\n",
      "43/43 [==============================] - 1s 29ms/step - loss: 0.8111 - accuracy: 0.6111 - val_loss: 1.8289 - val_accuracy: 0.3947\n",
      "Epoch 5/5\n",
      "43/43 [==============================] - 1s 29ms/step - loss: 0.7865 - accuracy: 0.6316 - val_loss: 1.1463 - val_accuracy: 0.6813\n",
      "Epoch 1/5\n",
      "43/43 [==============================] - 3s 40ms/step - loss: 1.0145 - accuracy: 0.4627 - val_loss: 1.1810 - val_accuracy: 0.2135\n",
      "Epoch 2/5\n",
      "43/43 [==============================] - 1s 30ms/step - loss: 0.9024 - accuracy: 0.5556 - val_loss: 1.5249 - val_accuracy: 0.0175\n",
      "Epoch 3/5\n",
      "43/43 [==============================] - 1s 33ms/step - loss: 0.8809 - accuracy: 0.5694 - val_loss: 0.8842 - val_accuracy: 0.5673\n",
      "Epoch 4/5\n",
      "43/43 [==============================] - 1s 29ms/step - loss: 0.8289 - accuracy: 0.6001 - val_loss: 1.4639 - val_accuracy: 0.3041\n",
      "Epoch 5/5\n",
      "43/43 [==============================] - 1s 29ms/step - loss: 0.8510 - accuracy: 0.5819 - val_loss: 0.8464 - val_accuracy: 0.7749\n",
      "Epoch 1/5\n",
      "43/43 [==============================] - 3s 39ms/step - loss: 0.9096 - accuracy: 0.4700 - val_loss: 0.8856 - val_accuracy: 0.7076\n",
      "Epoch 2/5\n",
      "43/43 [==============================] - 1s 28ms/step - loss: 0.9188 - accuracy: 0.4934 - val_loss: 1.3650 - val_accuracy: 0.5409\n",
      "Epoch 3/5\n",
      "43/43 [==============================] - 1s 30ms/step - loss: 0.8040 - accuracy: 0.5439 - val_loss: 1.1874 - val_accuracy: 0.6608\n",
      "Epoch 4/5\n",
      "43/43 [==============================] - 1s 30ms/step - loss: 0.7721 - accuracy: 0.6038 - val_loss: 1.3741 - val_accuracy: 0.5994\n",
      "Epoch 5/5\n",
      "43/43 [==============================] - 1s 20ms/step - loss: 0.8022 - accuracy: 0.5863 - val_loss: 1.6073 - val_accuracy: 0.4737\n",
      "Epoch 1/5\n",
      "43/43 [==============================] - 1s 16ms/step - loss: 1.0817 - accuracy: 0.4035 - val_loss: 1.0118 - val_accuracy: 0.5877\n",
      "Epoch 2/5\n",
      "43/43 [==============================] - 1s 28ms/step - loss: 0.9529 - accuracy: 0.4693 - val_loss: 0.7085 - val_accuracy: 0.7924\n",
      "Epoch 3/5\n",
      "43/43 [==============================] - 1s 28ms/step - loss: 0.8847 - accuracy: 0.5190 - val_loss: 1.1011 - val_accuracy: 0.5439\n",
      "Epoch 4/5\n",
      "43/43 [==============================] - 1s 29ms/step - loss: 0.8177 - accuracy: 0.5731 - val_loss: 1.2098 - val_accuracy: 0.5351\n",
      "Epoch 5/5\n",
      "43/43 [==============================] - 1s 29ms/step - loss: 0.7755 - accuracy: 0.6316 - val_loss: 1.1001 - val_accuracy: 0.6023\n",
      "Epoch 1/5\n",
      "43/43 [==============================] - 3s 39ms/step - loss: 1.0269 - accuracy: 0.4635 - val_loss: 1.2464 - val_accuracy: 0.2310\n",
      "Epoch 2/5\n",
      "43/43 [==============================] - 1s 28ms/step - loss: 0.8759 - accuracy: 0.5358 - val_loss: 1.4355 - val_accuracy: 0.4532\n",
      "Epoch 3/5\n",
      "43/43 [==============================] - 1s 28ms/step - loss: 0.8371 - accuracy: 0.5804 - val_loss: 1.0837 - val_accuracy: 0.6813\n",
      "Epoch 4/5\n",
      "43/43 [==============================] - 1s 29ms/step - loss: 0.8522 - accuracy: 0.5863 - val_loss: 1.0955 - val_accuracy: 0.7105\n",
      "Epoch 5/5\n",
      "43/43 [==============================] - 1s 28ms/step - loss: 0.8071 - accuracy: 0.6009 - val_loss: 1.1681 - val_accuracy: 0.6959\n",
      "Epoch 1/5\n",
      "43/43 [==============================] - 3s 36ms/step - loss: 1.0760 - accuracy: 0.3933 - val_loss: 1.6099 - val_accuracy: 0.0000e+00\n",
      "Epoch 2/5\n",
      "43/43 [==============================] - 1s 28ms/step - loss: 1.0250 - accuracy: 0.4503 - val_loss: 1.9558 - val_accuracy: 0.0000e+00\n",
      "Epoch 3/5\n",
      "43/43 [==============================] - 1s 27ms/step - loss: 1.0054 - accuracy: 0.4825 - val_loss: 1.8081 - val_accuracy: 0.0000e+00\n",
      "Epoch 4/5\n",
      "43/43 [==============================] - 1s 27ms/step - loss: 0.9792 - accuracy: 0.5037 - val_loss: 1.7241 - val_accuracy: 0.0000e+00\n",
      "Epoch 5/5\n",
      "43/43 [==============================] - 1s 29ms/step - loss: 0.9325 - accuracy: 0.5702 - val_loss: 1.5679 - val_accuracy: 0.0058\n",
      "Epoch 1/5\n",
      "43/43 [==============================] - 3s 36ms/step - loss: 1.0355 - accuracy: 0.3955 - val_loss: 1.3993 - val_accuracy: 0.0175\n",
      "Epoch 2/5\n",
      "43/43 [==============================] - 1s 28ms/step - loss: 0.9516 - accuracy: 0.4795 - val_loss: 1.3630 - val_accuracy: 0.0877\n",
      "Epoch 3/5\n",
      "43/43 [==============================] - 1s 28ms/step - loss: 0.8893 - accuracy: 0.5453 - val_loss: 1.3172 - val_accuracy: 0.3392\n",
      "Epoch 4/5\n",
      "43/43 [==============================] - 1s 28ms/step - loss: 0.8525 - accuracy: 0.5329 - val_loss: 1.1824 - val_accuracy: 0.5614\n",
      "Epoch 5/5\n",
      "43/43 [==============================] - 1s 29ms/step - loss: 0.8221 - accuracy: 0.5570 - val_loss: 1.2387 - val_accuracy: 0.4737\n",
      "Epoch 1/5\n",
      "43/43 [==============================] - 3s 37ms/step - loss: 0.9963 - accuracy: 0.4167 - val_loss: 1.4172 - val_accuracy: 0.1842\n",
      "Epoch 2/5\n",
      "43/43 [==============================] - 1s 28ms/step - loss: 0.9119 - accuracy: 0.4766 - val_loss: 1.0989 - val_accuracy: 0.5673\n",
      "Epoch 3/5\n",
      "43/43 [==============================] - 1s 26ms/step - loss: 0.8650 - accuracy: 0.4956 - val_loss: 1.1651 - val_accuracy: 0.5409\n",
      "Epoch 4/5\n",
      "43/43 [==============================] - 1s 27ms/step - loss: 0.8487 - accuracy: 0.5168 - val_loss: 1.3199 - val_accuracy: 0.4094\n",
      "Epoch 5/5\n",
      "43/43 [==============================] - 1s 29ms/step - loss: 0.8312 - accuracy: 0.5073 - val_loss: 0.9583 - val_accuracy: 0.6784\n",
      "Epoch 1/5\n",
      "43/43 [==============================] - 3s 36ms/step - loss: 0.9900 - accuracy: 0.4327 - val_loss: 1.1157 - val_accuracy: 0.5322\n",
      "Epoch 2/5\n",
      "43/43 [==============================] - 1s 29ms/step - loss: 0.8766 - accuracy: 0.5058 - val_loss: 0.8504 - val_accuracy: 0.7076\n",
      "Epoch 3/5\n",
      "43/43 [==============================] - 1s 29ms/step - loss: 0.8443 - accuracy: 0.5197 - val_loss: 0.8800 - val_accuracy: 0.7018\n",
      "Epoch 4/5\n",
      "43/43 [==============================] - 1s 29ms/step - loss: 0.8313 - accuracy: 0.4949 - val_loss: 0.7101 - val_accuracy: 0.7719\n",
      "Epoch 5/5\n",
      "43/43 [==============================] - 1s 29ms/step - loss: 0.8228 - accuracy: 0.5256 - val_loss: 0.9124 - val_accuracy: 0.6696\n",
      "Epoch 1/5\n",
      "43/43 [==============================] - 3s 36ms/step - loss: 1.0970 - accuracy: 0.4269 - val_loss: 1.6691 - val_accuracy: 0.0000e+00\n",
      "Epoch 2/5\n",
      "43/43 [==============================] - 1s 28ms/step - loss: 0.9729 - accuracy: 0.4898 - val_loss: 1.3988 - val_accuracy: 0.0000e+00\n",
      "Epoch 3/5\n",
      "43/43 [==============================] - 1s 26ms/step - loss: 0.9221 - accuracy: 0.4985 - val_loss: 1.3436 - val_accuracy: 0.3333\n",
      "Epoch 4/5\n"
     ]
    },
    {
     "name": "stdout",
     "output_type": "stream",
     "text": [
      "43/43 [==============================] - 1s 27ms/step - loss: 0.8951 - accuracy: 0.5373 - val_loss: 1.4415 - val_accuracy: 0.3801\n",
      "Epoch 5/5\n",
      "43/43 [==============================] - 1s 29ms/step - loss: 0.8676 - accuracy: 0.5753 - val_loss: 1.4379 - val_accuracy: 0.3509\n",
      "Epoch 1/5\n",
      "43/43 [==============================] - 3s 40ms/step - loss: 0.9867 - accuracy: 0.5124 - val_loss: 2.7617 - val_accuracy: 0.0848\n",
      "Epoch 2/5\n",
      "43/43 [==============================] - 1s 32ms/step - loss: 0.8001 - accuracy: 0.6111 - val_loss: 1.2424 - val_accuracy: 0.6170\n",
      "Epoch 3/5\n",
      "43/43 [==============================] - 1s 32ms/step - loss: 0.6938 - accuracy: 0.7178 - val_loss: 1.0584 - val_accuracy: 0.5906\n",
      "Epoch 4/5\n",
      "43/43 [==============================] - 1s 32ms/step - loss: 0.6070 - accuracy: 0.7383 - val_loss: 0.9995 - val_accuracy: 0.6462\n",
      "Epoch 5/5\n",
      "43/43 [==============================] - 1s 30ms/step - loss: 0.5476 - accuracy: 0.7792 - val_loss: 1.3142 - val_accuracy: 0.3655\n",
      "Epoch 1/5\n",
      "43/43 [==============================] - 3s 38ms/step - loss: 0.9802 - accuracy: 0.5139 - val_loss: 0.7429 - val_accuracy: 0.7807\n",
      "Epoch 2/5\n",
      "43/43 [==============================] - 1s 27ms/step - loss: 0.7090 - accuracy: 0.6842 - val_loss: 1.4086 - val_accuracy: 0.5731\n",
      "Epoch 3/5\n",
      "43/43 [==============================] - 1s 27ms/step - loss: 0.6589 - accuracy: 0.7266 - val_loss: 1.4645 - val_accuracy: 0.4123\n",
      "Epoch 4/5\n",
      "43/43 [==============================] - 1s 30ms/step - loss: 0.6739 - accuracy: 0.7091 - val_loss: 1.5745 - val_accuracy: 0.4561\n",
      "Epoch 5/5\n",
      "43/43 [==============================] - 1s 31ms/step - loss: 0.5144 - accuracy: 0.7705 - val_loss: 0.9880 - val_accuracy: 0.5789\n",
      "Epoch 1/5\n",
      "43/43 [==============================] - 4s 51ms/step - loss: 0.9172 - accuracy: 0.5585 - val_loss: 1.6279 - val_accuracy: 0.5702\n",
      "Epoch 2/5\n",
      "43/43 [==============================] - 2s 38ms/step - loss: 0.7353 - accuracy: 0.6455 - val_loss: 1.1960 - val_accuracy: 0.5614\n",
      "Epoch 3/5\n",
      "43/43 [==============================] - 2s 39ms/step - loss: 0.6850 - accuracy: 0.6864 - val_loss: 0.8655 - val_accuracy: 0.7251\n",
      "Epoch 4/5\n",
      "43/43 [==============================] - 2s 39ms/step - loss: 0.6590 - accuracy: 0.6835 - val_loss: 0.8279 - val_accuracy: 0.7193\n",
      "Epoch 5/5\n",
      "43/43 [==============================] - 2s 36ms/step - loss: 0.6052 - accuracy: 0.7230 - val_loss: 0.5491 - val_accuracy: 0.8538\n",
      "Epoch 1/5\n",
      "43/43 [==============================] - 3s 41ms/step - loss: 0.9457 - accuracy: 0.5219 - val_loss: 1.4400 - val_accuracy: 0.5468\n",
      "Epoch 2/5\n",
      "43/43 [==============================] - 2s 37ms/step - loss: 0.7485 - accuracy: 0.6469 - val_loss: 1.3414 - val_accuracy: 0.5848\n",
      "Epoch 3/5\n",
      "43/43 [==============================] - 2s 37ms/step - loss: 0.7507 - accuracy: 0.6477 - val_loss: 1.1505 - val_accuracy: 0.6871\n",
      "Epoch 4/5\n",
      "43/43 [==============================] - 2s 36ms/step - loss: 0.7193 - accuracy: 0.6652 - val_loss: 1.5794 - val_accuracy: 0.5234\n",
      "Epoch 5/5\n",
      "43/43 [==============================] - 2s 38ms/step - loss: 0.6600 - accuracy: 0.6893 - val_loss: 1.0491 - val_accuracy: 0.6930\n",
      "Epoch 1/5\n",
      "43/43 [==============================] - 2s 22ms/step - loss: 1.0829 - accuracy: 0.4386 - val_loss: 1.3851 - val_accuracy: 0.4883\n",
      "Epoch 2/5\n",
      "43/43 [==============================] - 1s 19ms/step - loss: 0.8423 - accuracy: 0.6104 - val_loss: 1.8697 - val_accuracy: 0.2368\n",
      "Epoch 3/5\n",
      "43/43 [==============================] - 2s 39ms/step - loss: 0.7424 - accuracy: 0.6813 - val_loss: 1.0125 - val_accuracy: 0.7164\n",
      "Epoch 4/5\n",
      "43/43 [==============================] - 2s 40ms/step - loss: 0.7011 - accuracy: 0.6966 - val_loss: 1.4936 - val_accuracy: 0.5292\n",
      "Epoch 5/5\n",
      "43/43 [==============================] - 1s 34ms/step - loss: 0.6883 - accuracy: 0.6952 - val_loss: 2.4016 - val_accuracy: 0.1667\n",
      "Epoch 1/5\n",
      "43/43 [==============================] - 3s 45ms/step - loss: 0.9952 - accuracy: 0.4503 - val_loss: 1.8735 - val_accuracy: 0.0000e+00\n",
      "Epoch 2/5\n",
      "43/43 [==============================] - 2s 36ms/step - loss: 0.9011 - accuracy: 0.5249 - val_loss: 1.2419 - val_accuracy: 0.4912\n",
      "Epoch 3/5\n",
      "43/43 [==============================] - 2s 36ms/step - loss: 0.8441 - accuracy: 0.6089 - val_loss: 1.4112 - val_accuracy: 0.4620\n",
      "Epoch 4/5\n",
      "43/43 [==============================] - 1s 34ms/step - loss: 0.7996 - accuracy: 0.6608 - val_loss: 1.5742 - val_accuracy: 0.5292\n",
      "Epoch 5/5\n",
      "43/43 [==============================] - 1s 27ms/step - loss: 0.7748 - accuracy: 0.6455 - val_loss: 1.7404 - val_accuracy: 0.3216\n",
      "Epoch 1/5\n",
      "43/43 [==============================] - 1s 18ms/step - loss: 1.0301 - accuracy: 0.4203 - val_loss: 1.7222 - val_accuracy: 0.0643\n",
      "Epoch 2/5\n",
      "43/43 [==============================] - 1s 29ms/step - loss: 0.9036 - accuracy: 0.5526 - val_loss: 1.4389 - val_accuracy: 0.3275\n",
      "Epoch 3/5\n",
      "43/43 [==============================] - 2s 39ms/step - loss: 0.8243 - accuracy: 0.5965 - val_loss: 1.3503 - val_accuracy: 0.5146\n",
      "Epoch 4/5\n",
      "43/43 [==============================] - 2s 38ms/step - loss: 0.7751 - accuracy: 0.6557 - val_loss: 1.3516 - val_accuracy: 0.5702\n",
      "Epoch 5/5\n",
      "43/43 [==============================] - 1s 34ms/step - loss: 0.7527 - accuracy: 0.6535 - val_loss: 1.6102 - val_accuracy: 0.4474\n",
      "Epoch 1/5\n",
      "43/43 [==============================] - 4s 46ms/step - loss: 1.0176 - accuracy: 0.4868 - val_loss: 2.0015 - val_accuracy: 0.0000e+00\n",
      "Epoch 2/5\n",
      "43/43 [==============================] - 2s 37ms/step - loss: 0.9190 - accuracy: 0.5819 - val_loss: 1.2513 - val_accuracy: 0.1023\n",
      "Epoch 3/5\n",
      "43/43 [==============================] - 2s 36ms/step - loss: 0.8186 - accuracy: 0.6447 - val_loss: 1.0839 - val_accuracy: 0.3246\n",
      "Epoch 4/5\n",
      "43/43 [==============================] - 2s 37ms/step - loss: 0.7345 - accuracy: 0.6776 - val_loss: 0.7439 - val_accuracy: 0.7602\n",
      "Epoch 5/5\n",
      "43/43 [==============================] - 2s 36ms/step - loss: 0.6958 - accuracy: 0.7083 - val_loss: 0.8167 - val_accuracy: 0.6754\n",
      "Epoch 1/5\n",
      "43/43 [==============================] - 3s 45ms/step - loss: 1.0012 - accuracy: 0.4276 - val_loss: 1.1401 - val_accuracy: 0.4006\n",
      "Epoch 2/5\n",
      "43/43 [==============================] - 1s 32ms/step - loss: 0.8751 - accuracy: 0.5402 - val_loss: 1.2078 - val_accuracy: 0.5585\n",
      "Epoch 3/5\n",
      "43/43 [==============================] - 1s 32ms/step - loss: 0.8092 - accuracy: 0.6031 - val_loss: 1.0917 - val_accuracy: 0.6696\n",
      "Epoch 4/5\n",
      "43/43 [==============================] - 1s 33ms/step - loss: 0.7767 - accuracy: 0.6323 - val_loss: 1.0366 - val_accuracy: 0.7251\n",
      "Epoch 5/5\n",
      "43/43 [==============================] - 2s 37ms/step - loss: 0.7532 - accuracy: 0.6404 - val_loss: 1.3451 - val_accuracy: 0.5731\n",
      "Epoch 1/5\n",
      "43/43 [==============================] - 3s 44ms/step - loss: 1.0564 - accuracy: 0.4408 - val_loss: 1.5002 - val_accuracy: 0.0000e+00\n",
      "Epoch 2/5\n",
      "43/43 [==============================] - 1s 35ms/step - loss: 0.9441 - accuracy: 0.4993 - val_loss: 1.8025 - val_accuracy: 0.0000e+00\n",
      "Epoch 3/5\n",
      "43/43 [==============================] - 2s 37ms/step - loss: 0.8826 - accuracy: 0.5614 - val_loss: 1.2788 - val_accuracy: 0.5380\n",
      "Epoch 4/5\n",
      "43/43 [==============================] - 2s 36ms/step - loss: 0.8379 - accuracy: 0.6096 - val_loss: 1.3836 - val_accuracy: 0.5146\n",
      "Epoch 5/5\n",
      "43/43 [==============================] - 2s 35ms/step - loss: 0.7885 - accuracy: 0.6287 - val_loss: 1.0822 - val_accuracy: 0.6842\n",
      "Epoch 1/5\n",
      "43/43 [==============================] - 3s 41ms/step - loss: 1.0323 - accuracy: 0.5066 - val_loss: 1.6678 - val_accuracy: 0.2485\n",
      "Epoch 2/5\n",
      "43/43 [==============================] - 2s 37ms/step - loss: 0.7643 - accuracy: 0.6228 - val_loss: 1.2940 - val_accuracy: 0.5585\n",
      "Epoch 3/5\n",
      "43/43 [==============================] - 2s 37ms/step - loss: 0.6398 - accuracy: 0.7215 - val_loss: 1.7313 - val_accuracy: 0.3655\n",
      "Epoch 4/5\n",
      "43/43 [==============================] - 2s 37ms/step - loss: 0.6334 - accuracy: 0.7244 - val_loss: 1.5011 - val_accuracy: 0.4912\n",
      "Epoch 5/5\n",
      "43/43 [==============================] - 2s 37ms/step - loss: 0.5836 - accuracy: 0.7449 - val_loss: 0.9166 - val_accuracy: 0.6433\n",
      "Epoch 1/5\n",
      "43/43 [==============================] - 3s 44ms/step - loss: 0.9905 - accuracy: 0.5351 - val_loss: 0.8942 - val_accuracy: 0.7251\n",
      "Epoch 2/5\n"
     ]
    },
    {
     "name": "stdout",
     "output_type": "stream",
     "text": [
      "43/43 [==============================] - 2s 37ms/step - loss: 0.7470 - accuracy: 0.6572 - val_loss: 1.7735 - val_accuracy: 0.4737\n",
      "Epoch 3/5\n",
      "43/43 [==============================] - 2s 38ms/step - loss: 0.6841 - accuracy: 0.6959 - val_loss: 1.6680 - val_accuracy: 0.3041\n",
      "Epoch 4/5\n",
      "43/43 [==============================] - 1s 33ms/step - loss: 0.6321 - accuracy: 0.7259 - val_loss: 0.7784 - val_accuracy: 0.6725\n",
      "Epoch 5/5\n",
      "43/43 [==============================] - 1s 31ms/step - loss: 0.5501 - accuracy: 0.7785 - val_loss: 0.8499 - val_accuracy: 0.6082\n",
      "Epoch 1/5\n",
      "43/43 [==============================] - 3s 44ms/step - loss: 1.0142 - accuracy: 0.5161 - val_loss: 1.3035 - val_accuracy: 0.7047\n",
      "Epoch 2/5\n",
      "43/43 [==============================] - 2s 37ms/step - loss: 0.7575 - accuracy: 0.6425 - val_loss: 1.2030 - val_accuracy: 0.6228\n",
      "Epoch 3/5\n",
      "43/43 [==============================] - 2s 37ms/step - loss: 0.6324 - accuracy: 0.7288 - val_loss: 1.0718 - val_accuracy: 0.5643\n",
      "Epoch 4/5\n",
      "43/43 [==============================] - 2s 37ms/step - loss: 0.6210 - accuracy: 0.7120 - val_loss: 1.2868 - val_accuracy: 0.5088\n",
      "Epoch 5/5\n",
      "43/43 [==============================] - 2s 36ms/step - loss: 0.5424 - accuracy: 0.7580 - val_loss: 0.8455 - val_accuracy: 0.6023\n",
      "Epoch 1/5\n",
      "43/43 [==============================] - 3s 41ms/step - loss: 1.0759 - accuracy: 0.4868 - val_loss: 2.2910 - val_accuracy: 0.2398\n",
      "Epoch 2/5\n",
      "43/43 [==============================] - 1s 33ms/step - loss: 0.7746 - accuracy: 0.6345 - val_loss: 0.7801 - val_accuracy: 0.7632\n",
      "Epoch 3/5\n",
      "43/43 [==============================] - 1s 30ms/step - loss: 0.6889 - accuracy: 0.6930 - val_loss: 0.7179 - val_accuracy: 0.7924\n",
      "Epoch 4/5\n",
      "43/43 [==============================] - 1s 32ms/step - loss: 0.5540 - accuracy: 0.7624 - val_loss: 0.8570 - val_accuracy: 0.6520\n",
      "Epoch 5/5\n",
      "43/43 [==============================] - 1s 35ms/step - loss: 0.5548 - accuracy: 0.7792 - val_loss: 0.8232 - val_accuracy: 0.7018\n",
      "Epoch 1/5\n",
      "43/43 [==============================] - 3s 44ms/step - loss: 0.9663 - accuracy: 0.5205 - val_loss: 0.7920 - val_accuracy: 0.8012\n",
      "Epoch 2/5\n",
      "43/43 [==============================] - 2s 39ms/step - loss: 0.7522 - accuracy: 0.6623 - val_loss: 1.4069 - val_accuracy: 0.4006\n",
      "Epoch 3/5\n",
      "43/43 [==============================] - 2s 40ms/step - loss: 0.6800 - accuracy: 0.7003 - val_loss: 1.1302 - val_accuracy: 0.5848\n",
      "Epoch 4/5\n",
      "43/43 [==============================] - 1s 22ms/step - loss: 0.5594 - accuracy: 0.7580 - val_loss: 1.3853 - val_accuracy: 0.5117\n",
      "Epoch 5/5\n",
      "43/43 [==============================] - 1s 21ms/step - loss: 0.5142 - accuracy: 0.7683 - val_loss: 0.7130 - val_accuracy: 0.7193\n",
      "Epoch 1/5\n",
      "43/43 [==============================] - 4s 47ms/step - loss: 0.9834 - accuracy: 0.4671 - val_loss: 1.1007 - val_accuracy: 0.6257\n",
      "Epoch 2/5\n",
      "43/43 [==============================] - 2s 40ms/step - loss: 0.8023 - accuracy: 0.6016 - val_loss: 1.4256 - val_accuracy: 0.4708\n",
      "Epoch 3/5\n",
      "43/43 [==============================] - 2s 41ms/step - loss: 0.7458 - accuracy: 0.6711 - val_loss: 1.0802 - val_accuracy: 0.6725\n",
      "Epoch 4/5\n",
      "43/43 [==============================] - 2s 42ms/step - loss: 0.6853 - accuracy: 0.7076 - val_loss: 1.0686 - val_accuracy: 0.6988\n",
      "Epoch 5/5\n",
      "43/43 [==============================] - 2s 39ms/step - loss: 0.6303 - accuracy: 0.7456 - val_loss: 1.1779 - val_accuracy: 0.6374\n",
      "Epoch 1/5\n",
      "43/43 [==============================] - 3s 47ms/step - loss: 0.9262 - accuracy: 0.5468 - val_loss: 1.0709 - val_accuracy: 0.6199\n",
      "Epoch 2/5\n",
      "43/43 [==============================] - 2s 40ms/step - loss: 0.7644 - accuracy: 0.6711 - val_loss: 1.1467 - val_accuracy: 0.6228\n",
      "Epoch 3/5\n",
      "43/43 [==============================] - 2s 41ms/step - loss: 0.6771 - accuracy: 0.7156 - val_loss: 0.9350 - val_accuracy: 0.7105\n",
      "Epoch 4/5\n",
      "43/43 [==============================] - 2s 35ms/step - loss: 0.6202 - accuracy: 0.7500 - val_loss: 1.1023 - val_accuracy: 0.6491\n",
      "Epoch 5/5\n",
      "43/43 [==============================] - 1s 34ms/step - loss: 0.5639 - accuracy: 0.7756 - val_loss: 1.1891 - val_accuracy: 0.5877\n",
      "Epoch 1/5\n",
      "43/43 [==============================] - 3s 47ms/step - loss: 1.0735 - accuracy: 0.4488 - val_loss: 1.8201 - val_accuracy: 0.0117\n",
      "Epoch 2/5\n",
      "43/43 [==============================] - 2s 40ms/step - loss: 0.8715 - accuracy: 0.6023 - val_loss: 1.1270 - val_accuracy: 0.5848\n",
      "Epoch 3/5\n",
      "43/43 [==============================] - 2s 40ms/step - loss: 0.7536 - accuracy: 0.6944 - val_loss: 1.1717 - val_accuracy: 0.6082\n",
      "Epoch 4/5\n",
      "43/43 [==============================] - 2s 40ms/step - loss: 0.6805 - accuracy: 0.7376 - val_loss: 1.4730 - val_accuracy: 0.4854\n",
      "Epoch 5/5\n",
      "43/43 [==============================] - 2s 39ms/step - loss: 0.6027 - accuracy: 0.7756 - val_loss: 1.1515 - val_accuracy: 0.6287\n",
      "Epoch 1/5\n",
      "43/43 [==============================] - 3s 45ms/step - loss: 0.9631 - accuracy: 0.4890 - val_loss: 1.1946 - val_accuracy: 0.3567\n",
      "Epoch 2/5\n",
      "43/43 [==============================] - 1s 34ms/step - loss: 0.7681 - accuracy: 0.6637 - val_loss: 0.9154 - val_accuracy: 0.6871\n",
      "Epoch 3/5\n",
      "43/43 [==============================] - 2s 38ms/step - loss: 0.6648 - accuracy: 0.7420 - val_loss: 1.5694 - val_accuracy: 0.4503\n",
      "Epoch 4/5\n",
      "43/43 [==============================] - 2s 39ms/step - loss: 0.6119 - accuracy: 0.7485 - val_loss: 1.1139 - val_accuracy: 0.6199\n",
      "Epoch 5/5\n",
      "43/43 [==============================] - 2s 40ms/step - loss: 0.5683 - accuracy: 0.7668 - val_loss: 0.9777 - val_accuracy: 0.6930\n",
      "Epoch 1/5\n",
      "43/43 [==============================] - 3s 46ms/step - loss: 1.0938 - accuracy: 0.4203 - val_loss: 1.2765 - val_accuracy: 0.2339\n",
      "Epoch 2/5\n",
      "43/43 [==============================] - 2s 37ms/step - loss: 0.8910 - accuracy: 0.6082 - val_loss: 1.2292 - val_accuracy: 0.4444\n",
      "Epoch 3/5\n",
      "43/43 [==============================] - 2s 39ms/step - loss: 0.7690 - accuracy: 0.6864 - val_loss: 1.5748 - val_accuracy: 0.3567\n",
      "Epoch 4/5\n",
      "43/43 [==============================] - 2s 39ms/step - loss: 0.6983 - accuracy: 0.7076 - val_loss: 1.2122 - val_accuracy: 0.6140\n",
      "Epoch 5/5\n",
      "43/43 [==============================] - 1s 33ms/step - loss: 0.6411 - accuracy: 0.7427 - val_loss: 1.7302 - val_accuracy: 0.3070\n",
      "Epoch 1/5\n",
      "43/43 [==============================] - 3s 48ms/step - loss: 1.1829 - accuracy: 0.4276 - val_loss: 2.0451 - val_accuracy: 0.0000e+00\n",
      "Epoch 2/5\n",
      "43/43 [==============================] - 2s 40ms/step - loss: 1.0690 - accuracy: 0.4108 - val_loss: 1.4796 - val_accuracy: 0.0000e+00\n",
      "Epoch 3/5\n",
      "43/43 [==============================] - 2s 40ms/step - loss: 1.0190 - accuracy: 0.4423 - val_loss: 2.1986 - val_accuracy: 0.0000e+00\n",
      "Epoch 4/5\n",
      "43/43 [==============================] - 2s 41ms/step - loss: 0.9979 - accuracy: 0.4883 - val_loss: 2.4156 - val_accuracy: 0.0000e+00\n",
      "Epoch 5/5\n",
      "43/43 [==============================] - 2s 42ms/step - loss: 1.0152 - accuracy: 0.4744 - val_loss: 1.4040 - val_accuracy: 0.1813\n",
      "Epoch 1/5\n",
      "43/43 [==============================] - 4s 49ms/step - loss: 1.2004 - accuracy: 0.4115 - val_loss: 1.5233 - val_accuracy: 0.0000e+00\n",
      "Epoch 2/5\n",
      "43/43 [==============================] - 2s 38ms/step - loss: 1.0274 - accuracy: 0.4795 - val_loss: 1.8962 - val_accuracy: 0.0000e+00\n",
      "Epoch 3/5\n",
      "43/43 [==============================] - 2s 39ms/step - loss: 1.0191 - accuracy: 0.4693 - val_loss: 2.4564 - val_accuracy: 0.0000e+00\n",
      "Epoch 4/5\n",
      "43/43 [==============================] - 2s 41ms/step - loss: 0.9563 - accuracy: 0.4963 - val_loss: 1.9469 - val_accuracy: 0.2690\n",
      "Epoch 5/5\n",
      "43/43 [==============================] - 2s 41ms/step - loss: 0.8530 - accuracy: 0.5950 - val_loss: 1.4845 - val_accuracy: 0.5585\n",
      "Epoch 1/5\n",
      "43/43 [==============================] - 3s 48ms/step - loss: 1.0676 - accuracy: 0.5154 - val_loss: 1.6311 - val_accuracy: 0.4766\n",
      "Epoch 2/5\n",
      "43/43 [==============================] - 2s 41ms/step - loss: 0.8316 - accuracy: 0.5972 - val_loss: 1.9310 - val_accuracy: 0.4327\n",
      "Epoch 3/5\n",
      "43/43 [==============================] - 2s 41ms/step - loss: 0.7642 - accuracy: 0.6499 - val_loss: 2.0966 - val_accuracy: 0.4474\n",
      "Epoch 4/5\n",
      "43/43 [==============================] - 2s 41ms/step - loss: 0.7468 - accuracy: 0.6842 - val_loss: 1.5131 - val_accuracy: 0.6199\n",
      "Epoch 5/5\n"
     ]
    },
    {
     "name": "stdout",
     "output_type": "stream",
     "text": [
      "43/43 [==============================] - 2s 39ms/step - loss: 0.7079 - accuracy: 0.6901 - val_loss: 1.6440 - val_accuracy: 0.5117\n",
      "Epoch 1/5\n",
      "43/43 [==============================] - 3s 49ms/step - loss: 1.2989 - accuracy: 0.4298 - val_loss: 1.3034 - val_accuracy: 0.0000e+00\n",
      "Epoch 2/5\n",
      "43/43 [==============================] - 2s 41ms/step - loss: 1.0555 - accuracy: 0.4313 - val_loss: 1.7072 - val_accuracy: 0.0000e+00\n",
      "Epoch 3/5\n",
      "43/43 [==============================] - 2s 40ms/step - loss: 1.0431 - accuracy: 0.4130 - val_loss: 1.5395 - val_accuracy: 0.0000e+00\n",
      "Epoch 4/5\n",
      "43/43 [==============================] - 2s 40ms/step - loss: 1.0410 - accuracy: 0.4203 - val_loss: 2.0890 - val_accuracy: 0.0000e+00\n",
      "Epoch 5/5\n",
      "43/43 [==============================] - 2s 40ms/step - loss: 1.0379 - accuracy: 0.4357 - val_loss: 1.9872 - val_accuracy: 0.0000e+00\n",
      "Epoch 1/5\n",
      "43/43 [==============================] - 3s 48ms/step - loss: 1.1032 - accuracy: 0.4569 - val_loss: 1.4631 - val_accuracy: 0.5058\n",
      "Epoch 2/5\n",
      "43/43 [==============================] - 2s 39ms/step - loss: 0.8197 - accuracy: 0.6287 - val_loss: 1.0112 - val_accuracy: 0.7632\n",
      "Epoch 3/5\n",
      "43/43 [==============================] - 2s 37ms/step - loss: 0.6892 - accuracy: 0.6966 - val_loss: 0.7696 - val_accuracy: 0.8099\n",
      "Epoch 4/5\n",
      "43/43 [==============================] - 2s 40ms/step - loss: 0.6229 - accuracy: 0.7339 - val_loss: 1.9882 - val_accuracy: 0.5731\n",
      "Epoch 5/5\n",
      "43/43 [==============================] - 2s 42ms/step - loss: 0.6050 - accuracy: 0.7566 - val_loss: 0.8453 - val_accuracy: 0.7836\n",
      "Epoch 1/5\n",
      "43/43 [==============================] - 4s 48ms/step - loss: 0.9691 - accuracy: 0.5307 - val_loss: 1.2129 - val_accuracy: 0.2865\n",
      "Epoch 2/5\n",
      "43/43 [==============================] - 2s 42ms/step - loss: 0.8866 - accuracy: 0.5621 - val_loss: 1.4686 - val_accuracy: 0.0351\n",
      "Epoch 3/5\n",
      "43/43 [==============================] - 2s 41ms/step - loss: 0.8388 - accuracy: 0.6031 - val_loss: 1.9477 - val_accuracy: 0.0058\n",
      "Epoch 4/5\n",
      "43/43 [==============================] - 2s 42ms/step - loss: 0.8116 - accuracy: 0.6294 - val_loss: 1.2425 - val_accuracy: 0.5409\n",
      "Epoch 5/5\n",
      "43/43 [==============================] - 2s 40ms/step - loss: 0.7762 - accuracy: 0.6557 - val_loss: 1.5562 - val_accuracy: 0.3480\n",
      "Epoch 1/5\n",
      "43/43 [==============================] - 3s 49ms/step - loss: 1.0494 - accuracy: 0.4327 - val_loss: 1.7049 - val_accuracy: 0.1257\n",
      "Epoch 2/5\n",
      "43/43 [==============================] - 2s 40ms/step - loss: 0.9063 - accuracy: 0.5497 - val_loss: 1.3246 - val_accuracy: 0.5526\n",
      "Epoch 3/5\n",
      "43/43 [==============================] - 2s 42ms/step - loss: 0.8536 - accuracy: 0.5673 - val_loss: 2.0546 - val_accuracy: 0.3012\n",
      "Epoch 4/5\n",
      "43/43 [==============================] - 2s 43ms/step - loss: 0.8065 - accuracy: 0.6447 - val_loss: 1.4479 - val_accuracy: 0.5848\n",
      "Epoch 5/5\n",
      "43/43 [==============================] - 2s 42ms/step - loss: 0.7672 - accuracy: 0.6623 - val_loss: 2.1550 - val_accuracy: 0.3070\n",
      "Epoch 1/5\n",
      "43/43 [==============================] - 4s 49ms/step - loss: 1.0223 - accuracy: 0.4481 - val_loss: 1.0855 - val_accuracy: 0.6053\n",
      "Epoch 2/5\n",
      "43/43 [==============================] - 2s 38ms/step - loss: 0.8486 - accuracy: 0.5855 - val_loss: 1.8153 - val_accuracy: 0.3304\n",
      "Epoch 3/5\n",
      "43/43 [==============================] - 2s 40ms/step - loss: 0.7917 - accuracy: 0.6506 - val_loss: 1.2914 - val_accuracy: 0.6316\n",
      "Epoch 4/5\n",
      "43/43 [==============================] - 2s 40ms/step - loss: 0.7655 - accuracy: 0.6769 - val_loss: 1.8256 - val_accuracy: 0.3801\n",
      "Epoch 5/5\n",
      "43/43 [==============================] - 2s 41ms/step - loss: 0.7249 - accuracy: 0.7091 - val_loss: 1.2655 - val_accuracy: 0.6199\n",
      "Epoch 1/5\n",
      "43/43 [==============================] - 4s 49ms/step - loss: 1.0053 - accuracy: 0.4861 - val_loss: 1.7323 - val_accuracy: 0.0000e+00\n",
      "Epoch 2/5\n",
      "43/43 [==============================] - 2s 41ms/step - loss: 0.8933 - accuracy: 0.5585 - val_loss: 1.3781 - val_accuracy: 0.0731\n",
      "Epoch 3/5\n",
      "43/43 [==============================] - 2s 42ms/step - loss: 0.8867 - accuracy: 0.5760 - val_loss: 1.2078 - val_accuracy: 0.3187\n",
      "Epoch 4/5\n",
      "43/43 [==============================] - 2s 41ms/step - loss: 0.8453 - accuracy: 0.6053 - val_loss: 1.3657 - val_accuracy: 0.1462\n",
      "Epoch 5/5\n",
      "43/43 [==============================] - 2s 39ms/step - loss: 0.8070 - accuracy: 0.6330 - val_loss: 1.4057 - val_accuracy: 0.1520\n",
      "Epoch 1/5\n",
      "43/43 [==============================] - 3s 48ms/step - loss: 0.9463 - accuracy: 0.5300 - val_loss: 0.8876 - val_accuracy: 0.6257\n",
      "Epoch 2/5\n",
      "43/43 [==============================] - 2s 40ms/step - loss: 0.8096 - accuracy: 0.6316 - val_loss: 1.1883 - val_accuracy: 0.5965\n",
      "Epoch 3/5\n",
      "43/43 [==============================] - 2s 41ms/step - loss: 0.7789 - accuracy: 0.6374 - val_loss: 1.4430 - val_accuracy: 0.4971\n",
      "Epoch 4/5\n",
      "43/43 [==============================] - 2s 41ms/step - loss: 0.7347 - accuracy: 0.6732 - val_loss: 1.2411 - val_accuracy: 0.5965\n",
      "Epoch 5/5\n",
      "43/43 [==============================] - 2s 41ms/step - loss: 0.7072 - accuracy: 0.6952 - val_loss: 1.4104 - val_accuracy: 0.5731\n",
      "Epoch 1/5\n",
      "43/43 [==============================] - 4s 66ms/step - loss: 1.4743 - accuracy: 0.3940 - val_loss: 2.1657 - val_accuracy: 0.0000e+00\n",
      "Epoch 2/5\n",
      "43/43 [==============================] - 2s 48ms/step - loss: 1.0435 - accuracy: 0.4218 - val_loss: 2.4183 - val_accuracy: 0.0000e+00\n",
      "Epoch 3/5\n",
      "43/43 [==============================] - 2s 56ms/step - loss: 1.0497 - accuracy: 0.4437 - val_loss: 1.7655 - val_accuracy: 0.0000e+00\n",
      "Epoch 4/5\n",
      "43/43 [==============================] - 2s 57ms/step - loss: 1.0606 - accuracy: 0.4174 - val_loss: 1.6299 - val_accuracy: 0.0000e+00\n",
      "Epoch 5/5\n",
      "43/43 [==============================] - 2s 56ms/step - loss: 1.0590 - accuracy: 0.4174 - val_loss: 1.5451 - val_accuracy: 0.0000e+00\n",
      "Epoch 1/5\n",
      "43/43 [==============================] - 4s 65ms/step - loss: 1.4183 - accuracy: 0.4269 - val_loss: 1.9596 - val_accuracy: 0.0000e+00\n",
      "Epoch 2/5\n",
      "43/43 [==============================] - 2s 55ms/step - loss: 1.0364 - accuracy: 0.4174 - val_loss: 1.5160 - val_accuracy: 0.0000e+00\n",
      "Epoch 3/5\n",
      "43/43 [==============================] - 2s 47ms/step - loss: 1.0493 - accuracy: 0.4094 - val_loss: 2.2796 - val_accuracy: 0.0000e+00\n",
      "Epoch 4/5\n",
      "43/43 [==============================] - 2s 56ms/step - loss: 1.0557 - accuracy: 0.4028 - val_loss: 1.2475 - val_accuracy: 0.0000e+00\n",
      "Epoch 5/5\n",
      "43/43 [==============================] - 2s 56ms/step - loss: 1.0460 - accuracy: 0.4115 - val_loss: 1.4846 - val_accuracy: 0.0000e+00\n",
      "Epoch 1/5\n",
      "43/43 [==============================] - 4s 61ms/step - loss: 1.2479 - accuracy: 0.3874 - val_loss: 1.3706 - val_accuracy: 0.0000e+00\n",
      "Epoch 2/5\n",
      "43/43 [==============================] - 2s 56ms/step - loss: 1.0486 - accuracy: 0.4181 - val_loss: 2.0484 - val_accuracy: 0.0000e+00\n",
      "Epoch 3/5\n",
      "43/43 [==============================] - 2s 56ms/step - loss: 1.0353 - accuracy: 0.4108 - val_loss: 1.9228 - val_accuracy: 0.0000e+00\n",
      "Epoch 4/5\n",
      "43/43 [==============================] - 2s 48ms/step - loss: 1.0482 - accuracy: 0.4218 - val_loss: 2.1950 - val_accuracy: 0.0000e+00\n",
      "Epoch 5/5\n",
      "43/43 [==============================] - 2s 54ms/step - loss: 1.0503 - accuracy: 0.4181 - val_loss: 1.8596 - val_accuracy: 0.0000e+00\n",
      "Epoch 1/5\n",
      "43/43 [==============================] - 4s 63ms/step - loss: 1.6059 - accuracy: 0.4035 - val_loss: 2.1242 - val_accuracy: 0.0000e+00\n",
      "Epoch 2/5\n",
      "43/43 [==============================] - 2s 56ms/step - loss: 1.0457 - accuracy: 0.4137 - val_loss: 1.3925 - val_accuracy: 0.0000e+00\n",
      "Epoch 3/5\n",
      "43/43 [==============================] - 2s 53ms/step - loss: 1.0403 - accuracy: 0.3977 - val_loss: 2.3729 - val_accuracy: 0.0000e+00\n",
      "Epoch 4/5\n",
      "43/43 [==============================] - 2s 52ms/step - loss: 1.0468 - accuracy: 0.4196 - val_loss: 1.8793 - val_accuracy: 0.0000e+00\n",
      "Epoch 5/5\n",
      "43/43 [==============================] - 2s 47ms/step - loss: 1.0482 - accuracy: 0.4298 - val_loss: 1.9046 - val_accuracy: 0.0000e+00\n",
      "Epoch 1/5\n",
      "43/43 [==============================] - 4s 64ms/step - loss: 1.2502 - accuracy: 0.3867 - val_loss: 1.4684 - val_accuracy: 0.0000e+00\n",
      "Epoch 2/5\n",
      "43/43 [==============================] - 2s 53ms/step - loss: 1.0378 - accuracy: 0.4137 - val_loss: 1.6210 - val_accuracy: 0.0000e+00\n"
     ]
    },
    {
     "name": "stdout",
     "output_type": "stream",
     "text": [
      "Epoch 3/5\n",
      "43/43 [==============================] - 2s 54ms/step - loss: 1.0529 - accuracy: 0.3947 - val_loss: 2.5940 - val_accuracy: 0.0000e+00\n",
      "Epoch 4/5\n",
      "43/43 [==============================] - 2s 54ms/step - loss: 1.0514 - accuracy: 0.4298 - val_loss: 1.9751 - val_accuracy: 0.0000e+00\n",
      "Epoch 5/5\n",
      "43/43 [==============================] - 2s 54ms/step - loss: 1.0443 - accuracy: 0.4159 - val_loss: 1.2351 - val_accuracy: 0.0000e+00\n",
      "Epoch 1/5\n",
      "43/43 [==============================] - 4s 57ms/step - loss: 0.9582 - accuracy: 0.5285 - val_loss: 1.0618 - val_accuracy: 0.5702\n",
      "Epoch 2/5\n",
      "43/43 [==============================] - 2s 51ms/step - loss: 0.7303 - accuracy: 0.6901 - val_loss: 1.4846 - val_accuracy: 0.4971\n",
      "Epoch 3/5\n",
      "43/43 [==============================] - 2s 50ms/step - loss: 0.6874 - accuracy: 0.7076 - val_loss: 0.8355 - val_accuracy: 0.7398\n",
      "Epoch 4/5\n",
      "43/43 [==============================] - 2s 53ms/step - loss: 0.6385 - accuracy: 0.7595 - val_loss: 0.9968 - val_accuracy: 0.6754\n",
      "Epoch 5/5\n",
      "43/43 [==============================] - 2s 54ms/step - loss: 0.5932 - accuracy: 0.7624 - val_loss: 1.2183 - val_accuracy: 0.6082\n",
      "Epoch 1/5\n",
      "43/43 [==============================] - 4s 60ms/step - loss: 1.0156 - accuracy: 0.5227 - val_loss: 1.8539 - val_accuracy: 0.0731\n",
      "Epoch 2/5\n",
      "43/43 [==============================] - 2s 46ms/step - loss: 0.8136 - accuracy: 0.6279 - val_loss: 1.6617 - val_accuracy: 0.4240\n",
      "Epoch 3/5\n",
      "43/43 [==============================] - 2s 51ms/step - loss: 0.7785 - accuracy: 0.6374 - val_loss: 1.3693 - val_accuracy: 0.5556\n",
      "Epoch 4/5\n",
      "43/43 [==============================] - 2s 51ms/step - loss: 0.7479 - accuracy: 0.6893 - val_loss: 1.8957 - val_accuracy: 0.3918\n",
      "Epoch 5/5\n",
      "43/43 [==============================] - 2s 51ms/step - loss: 0.7057 - accuracy: 0.7047 - val_loss: 1.6306 - val_accuracy: 0.3860\n",
      "Epoch 1/5\n",
      "43/43 [==============================] - 4s 61ms/step - loss: 0.9419 - accuracy: 0.5482 - val_loss: 1.7506 - val_accuracy: 0.4269\n",
      "Epoch 2/5\n",
      "43/43 [==============================] - 2s 53ms/step - loss: 0.7770 - accuracy: 0.6374 - val_loss: 1.4776 - val_accuracy: 0.5673\n",
      "Epoch 3/5\n",
      "43/43 [==============================] - 2s 49ms/step - loss: 0.7180 - accuracy: 0.6842 - val_loss: 1.4695 - val_accuracy: 0.5234\n",
      "Epoch 4/5\n",
      "43/43 [==============================] - 2s 47ms/step - loss: 0.6914 - accuracy: 0.7003 - val_loss: 1.6184 - val_accuracy: 0.3713\n",
      "Epoch 5/5\n",
      "43/43 [==============================] - 2s 51ms/step - loss: 0.6338 - accuracy: 0.7332 - val_loss: 1.0749 - val_accuracy: 0.5936\n",
      "Epoch 1/5\n",
      "43/43 [==============================] - 4s 56ms/step - loss: 0.9057 - accuracy: 0.5585 - val_loss: 1.9610 - val_accuracy: 0.3450\n",
      "Epoch 2/5\n",
      "43/43 [==============================] - 2s 49ms/step - loss: 0.7310 - accuracy: 0.6981 - val_loss: 1.4900 - val_accuracy: 0.5205\n",
      "Epoch 3/5\n",
      "43/43 [==============================] - 2s 49ms/step - loss: 0.6651 - accuracy: 0.7383 - val_loss: 1.2294 - val_accuracy: 0.6228\n",
      "Epoch 4/5\n",
      "43/43 [==============================] - 2s 48ms/step - loss: 0.5843 - accuracy: 0.7880 - val_loss: 1.2650 - val_accuracy: 0.5702\n",
      "Epoch 5/5\n",
      "43/43 [==============================] - 2s 46ms/step - loss: 0.5162 - accuracy: 0.8268 - val_loss: 1.1268 - val_accuracy: 0.6111\n",
      "Epoch 1/5\n",
      "43/43 [==============================] - 5s 74ms/step - loss: 0.9132 - accuracy: 0.5336 - val_loss: 1.2794 - val_accuracy: 0.5702\n",
      "Epoch 2/5\n",
      "43/43 [==============================] - 3s 59ms/step - loss: 0.7780 - accuracy: 0.6308 - val_loss: 0.8644 - val_accuracy: 0.7719\n",
      "Epoch 3/5\n",
      "43/43 [==============================] - 3s 59ms/step - loss: 0.7022 - accuracy: 0.6820 - val_loss: 1.0310 - val_accuracy: 0.6433\n",
      "Epoch 4/5\n",
      "43/43 [==============================] - 3s 60ms/step - loss: 0.7029 - accuracy: 0.6835 - val_loss: 1.1671 - val_accuracy: 0.5673\n",
      "Epoch 5/5\n",
      "43/43 [==============================] - 2s 56ms/step - loss: 0.6310 - accuracy: 0.7442 - val_loss: 1.1284 - val_accuracy: 0.6111\n",
      "Epoch 1/5\n",
      "43/43 [==============================] - 5s 90ms/step - loss: 1.4302 - accuracy: 0.3845 - val_loss: 2.0880 - val_accuracy: 0.0000e+00\n",
      "Epoch 2/5\n",
      "43/43 [==============================] - 4s 83ms/step - loss: 1.0459 - accuracy: 0.4064 - val_loss: 2.4096 - val_accuracy: 0.0000e+00\n",
      "Epoch 3/5\n",
      "43/43 [==============================] - 4s 82ms/step - loss: 1.0479 - accuracy: 0.4108 - val_loss: 1.9541 - val_accuracy: 0.0000e+00\n",
      "Epoch 4/5\n",
      "43/43 [==============================] - 3s 80ms/step - loss: 1.0442 - accuracy: 0.4159 - val_loss: 1.5989 - val_accuracy: 0.0000e+00\n",
      "Epoch 5/5\n",
      "43/43 [==============================] - 3s 80ms/step - loss: 1.0413 - accuracy: 0.4240 - val_loss: 1.9972 - val_accuracy: 0.0000e+00\n",
      "Epoch 1/5\n",
      "43/43 [==============================] - 5s 90ms/step - loss: 1.5956 - accuracy: 0.3845 - val_loss: 2.3556 - val_accuracy: 0.0000e+00\n",
      "Epoch 2/5\n",
      "43/43 [==============================] - 4s 86ms/step - loss: 1.0468 - accuracy: 0.4320 - val_loss: 1.4160 - val_accuracy: 0.0000e+00\n",
      "Epoch 3/5\n",
      "43/43 [==============================] - 4s 83ms/step - loss: 1.0544 - accuracy: 0.4115 - val_loss: 1.4108 - val_accuracy: 0.0000e+00\n",
      "Epoch 4/5\n",
      "43/43 [==============================] - 3s 79ms/step - loss: 1.0420 - accuracy: 0.4240 - val_loss: 2.0229 - val_accuracy: 0.0000e+00\n",
      "Epoch 5/5\n",
      "43/43 [==============================] - 4s 89ms/step - loss: 1.0457 - accuracy: 0.4466 - val_loss: 1.3178 - val_accuracy: 0.0000e+00\n",
      "Epoch 1/5\n",
      "43/43 [==============================] - 6s 103ms/step - loss: 1.5165 - accuracy: 0.3626 - val_loss: 2.5811 - val_accuracy: 0.0000e+00\n",
      "Epoch 2/5\n",
      "43/43 [==============================] - 4s 89ms/step - loss: 1.0586 - accuracy: 0.4152 - val_loss: 1.5208 - val_accuracy: 0.0000e+00\n",
      "Epoch 3/5\n",
      "43/43 [==============================] - 3s 79ms/step - loss: 1.0673 - accuracy: 0.4072 - val_loss: 1.6204 - val_accuracy: 0.0000e+00\n",
      "Epoch 4/5\n",
      "43/43 [==============================] - 4s 86ms/step - loss: 1.0535 - accuracy: 0.4123 - val_loss: 1.2166 - val_accuracy: 0.0000e+00\n",
      "Epoch 5/5\n",
      "43/43 [==============================] - 4s 85ms/step - loss: 1.0756 - accuracy: 0.4211 - val_loss: 1.5743 - val_accuracy: 0.0000e+00\n",
      "Epoch 1/5\n",
      "43/43 [==============================] - 5s 84ms/step - loss: 1.5726 - accuracy: 0.4050 - val_loss: 2.0696 - val_accuracy: 0.0000e+00\n",
      "Epoch 2/5\n",
      "43/43 [==============================] - 3s 80ms/step - loss: 1.0564 - accuracy: 0.4064 - val_loss: 1.7914 - val_accuracy: 0.0000e+00\n",
      "Epoch 3/5\n",
      "43/43 [==============================] - 4s 85ms/step - loss: 1.0468 - accuracy: 0.4247 - val_loss: 1.7840 - val_accuracy: 0.0000e+00\n",
      "Epoch 4/5\n",
      "43/43 [==============================] - 4s 81ms/step - loss: 1.0532 - accuracy: 0.4357 - val_loss: 2.1071 - val_accuracy: 0.0000e+00\n",
      "Epoch 5/5\n",
      "43/43 [==============================] - 3s 80ms/step - loss: 1.0673 - accuracy: 0.3977 - val_loss: 2.8180 - val_accuracy: 0.0000e+00\n",
      "Epoch 1/5\n",
      "43/43 [==============================] - 5s 89ms/step - loss: 1.4771 - accuracy: 0.3947 - val_loss: 1.6096 - val_accuracy: 0.0000e+00\n",
      "Epoch 2/5\n",
      "43/43 [==============================] - 4s 82ms/step - loss: 1.0585 - accuracy: 0.4072 - val_loss: 1.4505 - val_accuracy: 0.0000e+00\n",
      "Epoch 3/5\n",
      "43/43 [==============================] - 4s 82ms/step - loss: 1.0476 - accuracy: 0.4291 - val_loss: 1.5918 - val_accuracy: 0.0000e+00\n",
      "Epoch 4/5\n",
      "43/43 [==============================] - 3s 77ms/step - loss: 1.0425 - accuracy: 0.4320 - val_loss: 1.7534 - val_accuracy: 0.0000e+00\n",
      "Epoch 5/5\n",
      "43/43 [==============================] - 3s 71ms/step - loss: 1.0429 - accuracy: 0.4276 - val_loss: 1.8276 - val_accuracy: 0.0000e+00\n",
      "Epoch 1/5\n",
      "43/43 [==============================] - 5s 85ms/step - loss: 1.0611 - accuracy: 0.5490 - val_loss: 1.9197 - val_accuracy: 0.4181\n",
      "Epoch 2/5\n",
      "43/43 [==============================] - 3s 82ms/step - loss: 0.6847 - accuracy: 0.7208 - val_loss: 1.2160 - val_accuracy: 0.5906\n",
      "Epoch 3/5\n",
      "43/43 [==============================] - 4s 82ms/step - loss: 0.5973 - accuracy: 0.7792 - val_loss: 0.8366 - val_accuracy: 0.7076\n",
      "Epoch 4/5\n",
      "43/43 [==============================] - 3s 76ms/step - loss: 0.5381 - accuracy: 0.7975 - val_loss: 1.1003 - val_accuracy: 0.6404\n",
      "Epoch 5/5\n",
      "43/43 [==============================] - 3s 75ms/step - loss: 0.4707 - accuracy: 0.8392 - val_loss: 1.2974 - val_accuracy: 0.5380\n"
     ]
    },
    {
     "name": "stdout",
     "output_type": "stream",
     "text": [
      "Epoch 1/5\n",
      "43/43 [==============================] - 5s 88ms/step - loss: 1.0415 - accuracy: 0.5161 - val_loss: 1.3767 - val_accuracy: 0.4561\n",
      "Epoch 2/5\n",
      "43/43 [==============================] - 3s 79ms/step - loss: 0.7126 - accuracy: 0.6923 - val_loss: 1.3857 - val_accuracy: 0.4766\n",
      "Epoch 3/5\n",
      "43/43 [==============================] - 3s 74ms/step - loss: 0.6422 - accuracy: 0.7317 - val_loss: 1.5899 - val_accuracy: 0.4415\n",
      "Epoch 4/5\n",
      "43/43 [==============================] - 3s 73ms/step - loss: 0.5516 - accuracy: 0.7844 - val_loss: 1.2199 - val_accuracy: 0.5380\n",
      "Epoch 5/5\n",
      "43/43 [==============================] - 3s 80ms/step - loss: 0.4964 - accuracy: 0.8202 - val_loss: 0.8513 - val_accuracy: 0.7193\n",
      "Epoch 1/5\n",
      "43/43 [==============================] - 5s 87ms/step - loss: 1.0942 - accuracy: 0.5534 - val_loss: 1.4363 - val_accuracy: 0.5731\n",
      "Epoch 2/5\n",
      "43/43 [==============================] - 3s 76ms/step - loss: 0.7046 - accuracy: 0.7098 - val_loss: 1.2452 - val_accuracy: 0.5614\n",
      "Epoch 3/5\n",
      "43/43 [==============================] - 3s 74ms/step - loss: 0.7167 - accuracy: 0.6827 - val_loss: 1.9021 - val_accuracy: 0.4591\n",
      "Epoch 4/5\n",
      "43/43 [==============================] - 3s 78ms/step - loss: 0.5971 - accuracy: 0.7537 - val_loss: 1.5115 - val_accuracy: 0.4883\n",
      "Epoch 5/5\n",
      "43/43 [==============================] - 3s 80ms/step - loss: 0.5386 - accuracy: 0.7924 - val_loss: 1.0553 - val_accuracy: 0.6140\n",
      "Epoch 1/5\n",
      "43/43 [==============================] - 5s 86ms/step - loss: 1.0544 - accuracy: 0.5263 - val_loss: 1.9196 - val_accuracy: 0.2778\n",
      "Epoch 2/5\n",
      "43/43 [==============================] - 3s 71ms/step - loss: 0.8161 - accuracy: 0.6170 - val_loss: 1.3071 - val_accuracy: 0.6140\n",
      "Epoch 3/5\n",
      "43/43 [==============================] - 3s 78ms/step - loss: 0.7239 - accuracy: 0.7039 - val_loss: 1.0741 - val_accuracy: 0.6696\n",
      "Epoch 4/5\n",
      "43/43 [==============================] - 3s 79ms/step - loss: 0.6501 - accuracy: 0.7434 - val_loss: 1.9245 - val_accuracy: 0.4269\n",
      "Epoch 5/5\n",
      "43/43 [==============================] - 3s 81ms/step - loss: 0.6720 - accuracy: 0.7113 - val_loss: 1.4404 - val_accuracy: 0.4912\n",
      "Epoch 1/5\n",
      "43/43 [==============================] - 5s 78ms/step - loss: 1.3196 - accuracy: 0.4211 - val_loss: 1.8011 - val_accuracy: 0.0000e+00\n",
      "Epoch 2/5\n",
      "43/43 [==============================] - 3s 79ms/step - loss: 0.8573 - accuracy: 0.5972 - val_loss: 1.4118 - val_accuracy: 0.5205\n",
      "Epoch 3/5\n",
      "43/43 [==============================] - 3s 76ms/step - loss: 0.7574 - accuracy: 0.6645 - val_loss: 1.4256 - val_accuracy: 0.4854\n",
      "Epoch 4/5\n",
      "43/43 [==============================] - 3s 79ms/step - loss: 0.6826 - accuracy: 0.7149 - val_loss: 1.3449 - val_accuracy: 0.5760\n",
      "Epoch 5/5\n",
      "43/43 [==============================] - 3s 75ms/step - loss: 0.6553 - accuracy: 0.7193 - val_loss: 0.9540 - val_accuracy: 0.7135\n",
      "Epoch 1/5\n",
      "43/43 [==============================] - 3s 50ms/step - loss: 1.0408 - accuracy: 0.4466 - val_loss: 1.5792 - val_accuracy: 0.4269\n",
      "Epoch 2/5\n",
      "43/43 [==============================] - 2s 43ms/step - loss: 0.8704 - accuracy: 0.5607 - val_loss: 1.0877 - val_accuracy: 0.6550\n",
      "Epoch 3/5\n",
      "43/43 [==============================] - 2s 42ms/step - loss: 0.8276 - accuracy: 0.6060 - val_loss: 1.1625 - val_accuracy: 0.7485\n",
      "Epoch 4/5\n",
      "43/43 [==============================] - 2s 41ms/step - loss: 0.7965 - accuracy: 0.6089 - val_loss: 1.7690 - val_accuracy: 0.3421\n",
      "Epoch 5/5\n",
      "43/43 [==============================] - 2s 41ms/step - loss: 0.8102 - accuracy: 0.6308 - val_loss: 0.9797 - val_accuracy: 0.8333\n",
      "Epoch 1/5\n",
      "43/43 [==============================] - 3s 48ms/step - loss: 1.0983 - accuracy: 0.4262 - val_loss: 2.1064 - val_accuracy: 0.2485\n",
      "Epoch 2/5\n",
      "43/43 [==============================] - 2s 40ms/step - loss: 0.8802 - accuracy: 0.5461 - val_loss: 1.3267 - val_accuracy: 0.7047\n",
      "Epoch 3/5\n",
      "43/43 [==============================] - 2s 38ms/step - loss: 0.8184 - accuracy: 0.6082 - val_loss: 1.7388 - val_accuracy: 0.5088\n",
      "Epoch 4/5\n",
      "43/43 [==============================] - 2s 42ms/step - loss: 0.7896 - accuracy: 0.6477 - val_loss: 1.5133 - val_accuracy: 0.5205\n",
      "Epoch 5/5\n",
      "43/43 [==============================] - 2s 42ms/step - loss: 0.7056 - accuracy: 0.6937 - val_loss: 1.3704 - val_accuracy: 0.5556\n",
      "Epoch 1/5\n",
      "43/43 [==============================] - 4s 47ms/step - loss: 1.1109 - accuracy: 0.4064 - val_loss: 1.7850 - val_accuracy: 0.3012\n",
      "Epoch 2/5\n",
      "43/43 [==============================] - 2s 39ms/step - loss: 0.9168 - accuracy: 0.5037 - val_loss: 1.0156 - val_accuracy: 0.8070\n",
      "Epoch 3/5\n",
      "43/43 [==============================] - 2s 39ms/step - loss: 0.9244 - accuracy: 0.5022 - val_loss: 1.9363 - val_accuracy: 0.4883\n",
      "Epoch 4/5\n",
      "43/43 [==============================] - 2s 39ms/step - loss: 0.8415 - accuracy: 0.5570 - val_loss: 1.7373 - val_accuracy: 0.5760\n",
      "Epoch 5/5\n",
      "43/43 [==============================] - 2s 38ms/step - loss: 0.8077 - accuracy: 0.5972 - val_loss: 1.4108 - val_accuracy: 0.5497\n",
      "Epoch 1/5\n",
      "43/43 [==============================] - 3s 46ms/step - loss: 1.0656 - accuracy: 0.4532 - val_loss: 1.9568 - val_accuracy: 0.0994\n",
      "Epoch 2/5\n",
      "43/43 [==============================] - 2s 39ms/step - loss: 0.9672 - accuracy: 0.5344 - val_loss: 1.7603 - val_accuracy: 0.3596\n",
      "Epoch 3/5\n",
      "43/43 [==============================] - 2s 39ms/step - loss: 0.9078 - accuracy: 0.5183 - val_loss: 1.7054 - val_accuracy: 0.4620\n",
      "Epoch 4/5\n",
      "43/43 [==============================] - 2s 39ms/step - loss: 0.8484 - accuracy: 0.5863 - val_loss: 1.9706 - val_accuracy: 0.4649\n",
      "Epoch 5/5\n",
      "43/43 [==============================] - 2s 39ms/step - loss: 0.8135 - accuracy: 0.6287 - val_loss: 2.9061 - val_accuracy: 0.1871\n",
      "Epoch 1/5\n",
      "43/43 [==============================] - 3s 47ms/step - loss: 1.0757 - accuracy: 0.4715 - val_loss: 1.3756 - val_accuracy: 0.6520\n",
      "Epoch 2/5\n",
      "43/43 [==============================] - 2s 39ms/step - loss: 0.8375 - accuracy: 0.5950 - val_loss: 1.7372 - val_accuracy: 0.4708\n",
      "Epoch 3/5\n",
      "43/43 [==============================] - 2s 36ms/step - loss: 0.7903 - accuracy: 0.6367 - val_loss: 1.4500 - val_accuracy: 0.4883\n",
      "Epoch 4/5\n",
      "43/43 [==============================] - 2s 36ms/step - loss: 0.8028 - accuracy: 0.6235 - val_loss: 1.1618 - val_accuracy: 0.7193\n",
      "Epoch 5/5\n",
      "43/43 [==============================] - 2s 39ms/step - loss: 0.8099 - accuracy: 0.6148 - val_loss: 1.6145 - val_accuracy: 0.4737\n",
      "Epoch 1/5\n",
      "43/43 [==============================] - 3s 47ms/step - loss: 0.9361 - accuracy: 0.5044 - val_loss: 1.5240 - val_accuracy: 0.4795\n",
      "Epoch 2/5\n",
      "43/43 [==============================] - 2s 39ms/step - loss: 0.8374 - accuracy: 0.5958 - val_loss: 1.5700 - val_accuracy: 0.5614\n",
      "Epoch 3/5\n",
      "43/43 [==============================] - 2s 38ms/step - loss: 0.8121 - accuracy: 0.6374 - val_loss: 1.9664 - val_accuracy: 0.4620\n",
      "Epoch 4/5\n",
      "43/43 [==============================] - 2s 40ms/step - loss: 0.8001 - accuracy: 0.6148 - val_loss: 1.4483 - val_accuracy: 0.6491\n",
      "Epoch 5/5\n",
      "43/43 [==============================] - 2s 39ms/step - loss: 0.8035 - accuracy: 0.6257 - val_loss: 1.5182 - val_accuracy: 0.6140\n",
      "Epoch 1/5\n",
      "43/43 [==============================] - 3s 45ms/step - loss: 0.9984 - accuracy: 0.5044 - val_loss: 1.7912 - val_accuracy: 0.0000e+00\n",
      "Epoch 2/5\n",
      "43/43 [==============================] - 2s 38ms/step - loss: 0.9400 - accuracy: 0.5446 - val_loss: 1.5473 - val_accuracy: 0.0322\n",
      "Epoch 3/5\n",
      "43/43 [==============================] - 2s 38ms/step - loss: 0.8936 - accuracy: 0.5556 - val_loss: 1.3374 - val_accuracy: 0.2778\n",
      "Epoch 4/5\n",
      "43/43 [==============================] - 2s 39ms/step - loss: 0.8425 - accuracy: 0.6009 - val_loss: 1.3923 - val_accuracy: 0.1813\n",
      "Epoch 5/5\n",
      "43/43 [==============================] - 2s 39ms/step - loss: 0.8199 - accuracy: 0.6118 - val_loss: 1.5033 - val_accuracy: 0.2515\n",
      "Epoch 1/5\n",
      "43/43 [==============================] - 3s 46ms/step - loss: 0.9365 - accuracy: 0.4715 - val_loss: 1.4352 - val_accuracy: 0.4152\n",
      "Epoch 2/5\n",
      "43/43 [==============================] - 2s 38ms/step - loss: 0.8721 - accuracy: 0.5577 - val_loss: 1.5026 - val_accuracy: 0.4152\n",
      "Epoch 3/5\n",
      "43/43 [==============================] - 2s 38ms/step - loss: 0.8454 - accuracy: 0.5760 - val_loss: 1.0962 - val_accuracy: 0.6491\n",
      "Epoch 4/5\n"
     ]
    },
    {
     "name": "stdout",
     "output_type": "stream",
     "text": [
      "43/43 [==============================] - 2s 36ms/step - loss: 0.8277 - accuracy: 0.5680 - val_loss: 1.2843 - val_accuracy: 0.5205\n",
      "Epoch 5/5\n",
      "43/43 [==============================] - 2s 37ms/step - loss: 0.8144 - accuracy: 0.5775 - val_loss: 1.4566 - val_accuracy: 0.4912\n",
      "Epoch 1/5\n",
      "43/43 [==============================] - 3s 47ms/step - loss: 1.0210 - accuracy: 0.4503 - val_loss: 1.5493 - val_accuracy: 0.2339\n",
      "Epoch 2/5\n",
      "43/43 [==============================] - 2s 39ms/step - loss: 0.9191 - accuracy: 0.5270 - val_loss: 1.8969 - val_accuracy: 0.3538\n",
      "Epoch 3/5\n",
      "43/43 [==============================] - 2s 39ms/step - loss: 0.8753 - accuracy: 0.5292 - val_loss: 1.4942 - val_accuracy: 0.5702\n",
      "Epoch 4/5\n",
      "43/43 [==============================] - 2s 38ms/step - loss: 0.8573 - accuracy: 0.5563 - val_loss: 1.6411 - val_accuracy: 0.5643\n",
      "Epoch 5/5\n",
      "43/43 [==============================] - 2s 40ms/step - loss: 0.8412 - accuracy: 0.5512 - val_loss: 1.5941 - val_accuracy: 0.5380\n",
      "Epoch 1/5\n",
      "43/43 [==============================] - 3s 44ms/step - loss: 1.0754 - accuracy: 0.4678 - val_loss: 1.8483 - val_accuracy: 0.0000e+00\n",
      "Epoch 2/5\n",
      "43/43 [==============================] - 2s 37ms/step - loss: 0.9172 - accuracy: 0.5585 - val_loss: 1.1919 - val_accuracy: 0.1199\n",
      "Epoch 3/5\n",
      "43/43 [==============================] - 2s 39ms/step - loss: 0.8811 - accuracy: 0.5914 - val_loss: 1.8436 - val_accuracy: 0.0000e+00\n",
      "Epoch 4/5\n",
      "43/43 [==============================] - 2s 39ms/step - loss: 0.8539 - accuracy: 0.5848 - val_loss: 1.1584 - val_accuracy: 0.3626\n",
      "Epoch 5/5\n",
      "43/43 [==============================] - 2s 39ms/step - loss: 0.8462 - accuracy: 0.5899 - val_loss: 1.3631 - val_accuracy: 0.0673\n",
      "Epoch 1/5\n",
      "43/43 [==============================] - 4s 57ms/step - loss: 1.2308 - accuracy: 0.4108 - val_loss: 1.5919 - val_accuracy: 0.0000e+00\n",
      "Epoch 2/5\n",
      "43/43 [==============================] - 2s 47ms/step - loss: 1.0470 - accuracy: 0.4291 - val_loss: 2.1790 - val_accuracy: 0.0000e+00\n",
      "Epoch 3/5\n",
      "43/43 [==============================] - 2s 49ms/step - loss: 0.9975 - accuracy: 0.4444 - val_loss: 1.5864 - val_accuracy: 0.0000e+00\n",
      "Epoch 4/5\n",
      "43/43 [==============================] - 2s 41ms/step - loss: 0.9991 - accuracy: 0.4561 - val_loss: 1.2073 - val_accuracy: 0.4444\n",
      "Epoch 5/5\n",
      "43/43 [==============================] - 2s 42ms/step - loss: 0.8709 - accuracy: 0.5446 - val_loss: 1.4173 - val_accuracy: 0.5058\n",
      "Epoch 1/5\n",
      "43/43 [==============================] - 4s 55ms/step - loss: 1.0591 - accuracy: 0.4949 - val_loss: 0.8648 - val_accuracy: 0.7193\n",
      "Epoch 2/5\n",
      "43/43 [==============================] - 2s 47ms/step - loss: 0.8590 - accuracy: 0.5621 - val_loss: 0.9418 - val_accuracy: 0.7427\n",
      "Epoch 3/5\n",
      "43/43 [==============================] - 2s 49ms/step - loss: 0.7386 - accuracy: 0.6455 - val_loss: 1.5544 - val_accuracy: 0.4298\n",
      "Epoch 4/5\n",
      "43/43 [==============================] - 2s 50ms/step - loss: 0.7203 - accuracy: 0.6623 - val_loss: 0.9501 - val_accuracy: 0.6111\n",
      "Epoch 5/5\n",
      "43/43 [==============================] - 2s 48ms/step - loss: 0.6895 - accuracy: 0.6754 - val_loss: 1.4046 - val_accuracy: 0.4620\n",
      "Epoch 1/5\n",
      "43/43 [==============================] - 4s 53ms/step - loss: 1.2046 - accuracy: 0.4839 - val_loss: 2.1500 - val_accuracy: 0.0000e+00\n",
      "Epoch 2/5\n",
      "43/43 [==============================] - 2s 50ms/step - loss: 0.8555 - accuracy: 0.5892 - val_loss: 1.6384 - val_accuracy: 0.5439\n",
      "Epoch 3/5\n",
      "43/43 [==============================] - 2s 50ms/step - loss: 0.7621 - accuracy: 0.6528 - val_loss: 2.5958 - val_accuracy: 0.3099\n",
      "Epoch 4/5\n",
      "43/43 [==============================] - 2s 49ms/step - loss: 0.7293 - accuracy: 0.6689 - val_loss: 1.1736 - val_accuracy: 0.5322\n",
      "Epoch 5/5\n",
      "43/43 [==============================] - 2s 48ms/step - loss: 0.6164 - accuracy: 0.7259 - val_loss: 0.9657 - val_accuracy: 0.6579\n",
      "Epoch 1/5\n",
      "43/43 [==============================] - 4s 55ms/step - loss: 1.2861 - accuracy: 0.3911 - val_loss: 1.7768 - val_accuracy: 0.0000e+00\n",
      "Epoch 2/5\n",
      "43/43 [==============================] - 2s 40ms/step - loss: 1.0355 - accuracy: 0.4598 - val_loss: 1.6633 - val_accuracy: 0.0000e+00\n",
      "Epoch 3/5\n",
      "43/43 [==============================] - 2s 40ms/step - loss: 1.0253 - accuracy: 0.4664 - val_loss: 1.8295 - val_accuracy: 0.0000e+00\n",
      "Epoch 4/5\n",
      "43/43 [==============================] - 2s 47ms/step - loss: 1.0106 - accuracy: 0.5183 - val_loss: 1.3593 - val_accuracy: 0.0000e+00\n",
      "Epoch 5/5\n",
      "43/43 [==============================] - 2s 47ms/step - loss: 0.9931 - accuracy: 0.5351 - val_loss: 1.3397 - val_accuracy: 0.0000e+00\n",
      "Epoch 1/5\n",
      "43/43 [==============================] - 5s 61ms/step - loss: 1.1429 - accuracy: 0.4781 - val_loss: 1.2531 - val_accuracy: 0.4620\n",
      "Epoch 2/5\n",
      "43/43 [==============================] - 2s 54ms/step - loss: 0.8431 - accuracy: 0.5921 - val_loss: 1.2971 - val_accuracy: 0.5614\n",
      "Epoch 3/5\n",
      "43/43 [==============================] - 2s 50ms/step - loss: 0.7976 - accuracy: 0.6162 - val_loss: 1.3917 - val_accuracy: 0.5731\n",
      "Epoch 4/5\n",
      "43/43 [==============================] - 2s 44ms/step - loss: 0.6477 - accuracy: 0.7325 - val_loss: 1.0665 - val_accuracy: 0.6696\n",
      "Epoch 5/5\n",
      "43/43 [==============================] - 2s 54ms/step - loss: 0.6955 - accuracy: 0.6857 - val_loss: 2.6609 - val_accuracy: 0.0497\n",
      "Epoch 1/5\n",
      "43/43 [==============================] - 4s 60ms/step - loss: 0.9663 - accuracy: 0.4730 - val_loss: 1.1591 - val_accuracy: 0.5146\n",
      "Epoch 2/5\n",
      "43/43 [==============================] - 2s 55ms/step - loss: 0.8270 - accuracy: 0.6206 - val_loss: 0.7488 - val_accuracy: 0.8129\n",
      "Epoch 3/5\n",
      "43/43 [==============================] - 2s 53ms/step - loss: 0.7732 - accuracy: 0.6520 - val_loss: 1.3995 - val_accuracy: 0.4912\n",
      "Epoch 4/5\n",
      "43/43 [==============================] - 2s 52ms/step - loss: 0.7520 - accuracy: 0.6557 - val_loss: 1.2948 - val_accuracy: 0.4678\n",
      "Epoch 5/5\n",
      "43/43 [==============================] - 2s 44ms/step - loss: 0.7144 - accuracy: 0.6784 - val_loss: 1.0197 - val_accuracy: 0.6520\n",
      "Epoch 1/5\n",
      "43/43 [==============================] - 4s 60ms/step - loss: 1.0162 - accuracy: 0.5044 - val_loss: 2.1322 - val_accuracy: 0.0000e+00\n",
      "Epoch 2/5\n",
      "43/43 [==============================] - 2s 51ms/step - loss: 0.8688 - accuracy: 0.5782 - val_loss: 1.4552 - val_accuracy: 0.3363\n",
      "Epoch 3/5\n",
      "43/43 [==============================] - 2s 52ms/step - loss: 0.7750 - accuracy: 0.6433 - val_loss: 1.0629 - val_accuracy: 0.7222\n",
      "Epoch 4/5\n",
      "43/43 [==============================] - 2s 51ms/step - loss: 0.7520 - accuracy: 0.6637 - val_loss: 1.3828 - val_accuracy: 0.5731\n",
      "Epoch 5/5\n",
      "43/43 [==============================] - 2s 50ms/step - loss: 0.6945 - accuracy: 0.6944 - val_loss: 1.3264 - val_accuracy: 0.5497\n",
      "Epoch 1/5\n",
      "43/43 [==============================] - 3s 48ms/step - loss: 0.9577 - accuracy: 0.5482 - val_loss: 1.5467 - val_accuracy: 0.2719\n",
      "Epoch 2/5\n",
      "43/43 [==============================] - 2s 51ms/step - loss: 0.7962 - accuracy: 0.6615 - val_loss: 2.2884 - val_accuracy: 0.2047\n",
      "Epoch 3/5\n",
      "43/43 [==============================] - 2s 51ms/step - loss: 0.7645 - accuracy: 0.6520 - val_loss: 2.0276 - val_accuracy: 0.3070\n",
      "Epoch 4/5\n",
      "43/43 [==============================] - 2s 51ms/step - loss: 0.6994 - accuracy: 0.7164 - val_loss: 1.6453 - val_accuracy: 0.4737\n",
      "Epoch 5/5\n",
      "43/43 [==============================] - 2s 51ms/step - loss: 0.6758 - accuracy: 0.7244 - val_loss: 1.7385 - val_accuracy: 0.4474\n",
      "Epoch 1/5\n",
      "43/43 [==============================] - 4s 58ms/step - loss: 1.0008 - accuracy: 0.4730 - val_loss: 1.3852 - val_accuracy: 0.1345\n",
      "Epoch 2/5\n",
      "43/43 [==============================] - 2s 43ms/step - loss: 0.8122 - accuracy: 0.6199 - val_loss: 1.0254 - val_accuracy: 0.6228\n",
      "Epoch 3/5\n",
      "43/43 [==============================] - 2s 42ms/step - loss: 0.7307 - accuracy: 0.6806 - val_loss: 1.5518 - val_accuracy: 0.4298\n",
      "Epoch 4/5\n",
      "43/43 [==============================] - 2s 50ms/step - loss: 0.7167 - accuracy: 0.6769 - val_loss: 1.0837 - val_accuracy: 0.6520\n",
      "Epoch 5/5\n",
      "43/43 [==============================] - 2s 50ms/step - loss: 0.6586 - accuracy: 0.7339 - val_loss: 1.1904 - val_accuracy: 0.6082\n",
      "Epoch 1/5\n",
      "43/43 [==============================] - 4s 56ms/step - loss: 0.9351 - accuracy: 0.5599 - val_loss: 1.7666 - val_accuracy: 0.1725\n",
      "Epoch 2/5\n"
     ]
    },
    {
     "name": "stdout",
     "output_type": "stream",
     "text": [
      "43/43 [==============================] - 2s 48ms/step - loss: 0.7818 - accuracy: 0.6506 - val_loss: 1.6993 - val_accuracy: 0.3304\n",
      "Epoch 3/5\n",
      "43/43 [==============================] - 2s 48ms/step - loss: 0.7304 - accuracy: 0.6908 - val_loss: 0.9934 - val_accuracy: 0.6520\n",
      "Epoch 4/5\n",
      "43/43 [==============================] - 2s 42ms/step - loss: 0.6839 - accuracy: 0.7091 - val_loss: 1.1205 - val_accuracy: 0.5702\n",
      "Epoch 5/5\n",
      "43/43 [==============================] - 2s 43ms/step - loss: 0.6574 - accuracy: 0.7156 - val_loss: 1.8803 - val_accuracy: 0.3509\n",
      "Epoch 1/5\n",
      "43/43 [==============================] - 4s 60ms/step - loss: 1.2973 - accuracy: 0.4152 - val_loss: 2.2044 - val_accuracy: 0.0000e+00\n",
      "Epoch 2/5\n",
      "43/43 [==============================] - 2s 55ms/step - loss: 1.0447 - accuracy: 0.4371 - val_loss: 1.9521 - val_accuracy: 0.0000e+00\n",
      "Epoch 3/5\n",
      "43/43 [==============================] - 2s 54ms/step - loss: 1.0489 - accuracy: 0.4174 - val_loss: 1.5993 - val_accuracy: 0.0000e+00\n",
      "Epoch 4/5\n",
      "43/43 [==============================] - 2s 54ms/step - loss: 1.0437 - accuracy: 0.4291 - val_loss: 1.6952 - val_accuracy: 0.0000e+00\n",
      "Epoch 5/5\n",
      "43/43 [==============================] - 2s 56ms/step - loss: 1.0695 - accuracy: 0.3889 - val_loss: 2.3405 - val_accuracy: 0.0000e+00\n",
      "Epoch 1/5\n",
      "43/43 [==============================] - 4s 62ms/step - loss: 1.3437 - accuracy: 0.4064 - val_loss: 1.4146 - val_accuracy: 0.0000e+00\n",
      "Epoch 2/5\n",
      "43/43 [==============================] - 2s 54ms/step - loss: 1.0411 - accuracy: 0.4189 - val_loss: 1.5257 - val_accuracy: 0.0000e+00\n",
      "Epoch 3/5\n",
      "43/43 [==============================] - 2s 55ms/step - loss: 1.0547 - accuracy: 0.4035 - val_loss: 1.4537 - val_accuracy: 0.0000e+00\n",
      "Epoch 4/5\n",
      "43/43 [==============================] - 2s 55ms/step - loss: 1.0730 - accuracy: 0.4159 - val_loss: 1.7949 - val_accuracy: 0.0000e+00\n",
      "Epoch 5/5\n",
      "43/43 [==============================] - 2s 52ms/step - loss: 1.0442 - accuracy: 0.4254 - val_loss: 1.9662 - val_accuracy: 0.0000e+00\n",
      "Epoch 1/5\n",
      "43/43 [==============================] - 4s 55ms/step - loss: 1.5403 - accuracy: 0.4181 - val_loss: 1.5247 - val_accuracy: 0.0000e+00\n",
      "Epoch 2/5\n",
      "43/43 [==============================] - 2s 53ms/step - loss: 1.0598 - accuracy: 0.4086 - val_loss: 1.6315 - val_accuracy: 0.0000e+00\n",
      "Epoch 3/5\n",
      "43/43 [==============================] - 2s 52ms/step - loss: 1.0556 - accuracy: 0.4042 - val_loss: 1.9653 - val_accuracy: 0.0000e+00\n",
      "Epoch 4/5\n",
      "43/43 [==============================] - 2s 52ms/step - loss: 1.0385 - accuracy: 0.4152 - val_loss: 1.7693 - val_accuracy: 0.0000e+00\n",
      "Epoch 5/5\n",
      "43/43 [==============================] - 2s 51ms/step - loss: 1.0618 - accuracy: 0.4152 - val_loss: 1.7647 - val_accuracy: 0.0000e+00\n",
      "Epoch 1/5\n",
      "43/43 [==============================] - 4s 64ms/step - loss: 1.5263 - accuracy: 0.3882 - val_loss: 2.1578 - val_accuracy: 0.0000e+00\n",
      "Epoch 2/5\n",
      "43/43 [==============================] - 2s 45ms/step - loss: 1.0870 - accuracy: 0.4189 - val_loss: 1.3556 - val_accuracy: 0.0000e+00\n",
      "Epoch 3/5\n",
      "43/43 [==============================] - 2s 36ms/step - loss: 1.0522 - accuracy: 0.4072 - val_loss: 1.8391 - val_accuracy: 0.0000e+00\n",
      "Epoch 4/5\n",
      "43/43 [==============================] - 2s 51ms/step - loss: 1.0379 - accuracy: 0.4057 - val_loss: 2.0632 - val_accuracy: 0.0000e+00\n",
      "Epoch 5/5\n",
      "43/43 [==============================] - 2s 57ms/step - loss: 1.0360 - accuracy: 0.4408 - val_loss: 1.4861 - val_accuracy: 0.0000e+00\n",
      "Epoch 1/5\n",
      "43/43 [==============================] - 4s 62ms/step - loss: 1.6141 - accuracy: 0.4320 - val_loss: 1.6419 - val_accuracy: 0.0000e+00\n",
      "Epoch 2/5\n",
      "43/43 [==============================] - 2s 52ms/step - loss: 1.0462 - accuracy: 0.4006 - val_loss: 2.1526 - val_accuracy: 0.0000e+00\n",
      "Epoch 3/5\n",
      "43/43 [==============================] - 2s 51ms/step - loss: 1.0472 - accuracy: 0.4240 - val_loss: 1.6864 - val_accuracy: 0.0000e+00\n",
      "Epoch 4/5\n",
      "43/43 [==============================] - 2s 48ms/step - loss: 1.0569 - accuracy: 0.4159 - val_loss: 2.1983 - val_accuracy: 0.0000e+00\n",
      "Epoch 5/5\n",
      "43/43 [==============================] - 2s 52ms/step - loss: 1.0523 - accuracy: 0.4159 - val_loss: 1.4693 - val_accuracy: 0.0000e+00\n",
      "Epoch 1/5\n",
      "43/43 [==============================] - 4s 60ms/step - loss: 1.0009 - accuracy: 0.5066 - val_loss: 1.8110 - val_accuracy: 0.2573\n",
      "Epoch 2/5\n",
      "43/43 [==============================] - 2s 51ms/step - loss: 0.7926 - accuracy: 0.6455 - val_loss: 1.4501 - val_accuracy: 0.5088\n",
      "Epoch 3/5\n",
      "43/43 [==============================] - 2s 51ms/step - loss: 0.7028 - accuracy: 0.7039 - val_loss: 1.3526 - val_accuracy: 0.5877\n",
      "Epoch 4/5\n",
      "43/43 [==============================] - 2s 51ms/step - loss: 0.6623 - accuracy: 0.7164 - val_loss: 1.6628 - val_accuracy: 0.4269\n",
      "Epoch 5/5\n",
      "43/43 [==============================] - 2s 49ms/step - loss: 0.6557 - accuracy: 0.7237 - val_loss: 1.0910 - val_accuracy: 0.6667\n",
      "Epoch 1/5\n",
      "43/43 [==============================] - 4s 73ms/step - loss: 0.9321 - accuracy: 0.5300 - val_loss: 1.5658 - val_accuracy: 0.4211\n",
      "Epoch 2/5\n",
      "43/43 [==============================] - 3s 60ms/step - loss: 0.7852 - accuracy: 0.6433 - val_loss: 1.5897 - val_accuracy: 0.5000\n",
      "Epoch 3/5\n",
      "43/43 [==============================] - 3s 63ms/step - loss: 0.6886 - accuracy: 0.7237 - val_loss: 2.1076 - val_accuracy: 0.3275\n",
      "Epoch 4/5\n",
      "43/43 [==============================] - 3s 62ms/step - loss: 0.6314 - accuracy: 0.7405 - val_loss: 0.9934 - val_accuracy: 0.6696\n",
      "Epoch 5/5\n",
      "43/43 [==============================] - 2s 55ms/step - loss: 0.5699 - accuracy: 0.7654 - val_loss: 1.0779 - val_accuracy: 0.6257\n",
      "Epoch 1/5\n",
      "43/43 [==============================] - 4s 67ms/step - loss: 1.0043 - accuracy: 0.5190 - val_loss: 1.8140 - val_accuracy: 0.3099\n",
      "Epoch 2/5\n",
      "43/43 [==============================] - 3s 61ms/step - loss: 0.7987 - accuracy: 0.6652 - val_loss: 1.5962 - val_accuracy: 0.5029\n",
      "Epoch 3/5\n",
      "43/43 [==============================] - 3s 60ms/step - loss: 0.7244 - accuracy: 0.6747 - val_loss: 1.8787 - val_accuracy: 0.4503\n",
      "Epoch 4/5\n",
      "43/43 [==============================] - 3s 60ms/step - loss: 0.6504 - accuracy: 0.7281 - val_loss: 1.0995 - val_accuracy: 0.6842\n",
      "Epoch 5/5\n",
      "43/43 [==============================] - 3s 62ms/step - loss: 0.6557 - accuracy: 0.7325 - val_loss: 2.2827 - val_accuracy: 0.2836\n",
      "Epoch 1/5\n",
      "43/43 [==============================] - 4s 70ms/step - loss: 0.9019 - accuracy: 0.5417 - val_loss: 1.8976 - val_accuracy: 0.3450\n",
      "Epoch 2/5\n",
      "43/43 [==============================] - 3s 61ms/step - loss: 0.7564 - accuracy: 0.6667 - val_loss: 1.5785 - val_accuracy: 0.4854\n",
      "Epoch 3/5\n",
      "43/43 [==============================] - 3s 61ms/step - loss: 0.6689 - accuracy: 0.7259 - val_loss: 1.3611 - val_accuracy: 0.5292\n",
      "Epoch 4/5\n",
      "43/43 [==============================] - 3s 59ms/step - loss: 0.6246 - accuracy: 0.7427 - val_loss: 0.8882 - val_accuracy: 0.7105\n",
      "Epoch 5/5\n",
      "43/43 [==============================] - 3s 60ms/step - loss: 0.5829 - accuracy: 0.7719 - val_loss: 1.1096 - val_accuracy: 0.6579\n",
      "Epoch 1/5\n",
      "43/43 [==============================] - 4s 58ms/step - loss: 0.9007 - accuracy: 0.5395 - val_loss: 2.0103 - val_accuracy: 0.3509\n",
      "Epoch 2/5\n",
      "43/43 [==============================] - 2s 58ms/step - loss: 0.7409 - accuracy: 0.6959 - val_loss: 1.5940 - val_accuracy: 0.4240\n",
      "Epoch 3/5\n",
      "43/43 [==============================] - 2s 57ms/step - loss: 0.6809 - accuracy: 0.7164 - val_loss: 1.8870 - val_accuracy: 0.3918\n",
      "Epoch 4/5\n",
      "43/43 [==============================] - 3s 60ms/step - loss: 0.6383 - accuracy: 0.7346 - val_loss: 1.3097 - val_accuracy: 0.5351\n",
      "Epoch 5/5\n",
      "43/43 [==============================] - 3s 58ms/step - loss: 0.5814 - accuracy: 0.7661 - val_loss: 0.9333 - val_accuracy: 0.6754\n",
      "Epoch 1/5\n",
      "43/43 [==============================] - 3s 45ms/step - loss: 0.9666 - accuracy: 0.4993 - val_loss: 1.0598 - val_accuracy: 0.4503\n",
      "Epoch 2/5\n",
      "43/43 [==============================] - 2s 36ms/step - loss: 0.8293 - accuracy: 0.5855 - val_loss: 0.9993 - val_accuracy: 0.7076\n",
      "Epoch 3/5\n",
      "43/43 [==============================] - 2s 38ms/step - loss: 0.8347 - accuracy: 0.5841 - val_loss: 1.8476 - val_accuracy: 0.1579\n",
      "Epoch 4/5\n",
      "43/43 [==============================] - 2s 38ms/step - loss: 0.7319 - accuracy: 0.6674 - val_loss: 1.2455 - val_accuracy: 0.5994\n"
     ]
    },
    {
     "name": "stdout",
     "output_type": "stream",
     "text": [
      "Epoch 5/5\n",
      "43/43 [==============================] - 2s 38ms/step - loss: 0.7748 - accuracy: 0.6104 - val_loss: 3.1771 - val_accuracy: 0.0936\n",
      "Epoch 1/5\n",
      "43/43 [==============================] - 3s 46ms/step - loss: 1.0006 - accuracy: 0.4693 - val_loss: 2.4480 - val_accuracy: 0.2018\n",
      "Epoch 2/5\n",
      "43/43 [==============================] - 2s 38ms/step - loss: 0.8783 - accuracy: 0.5629 - val_loss: 1.0961 - val_accuracy: 0.7485\n",
      "Epoch 3/5\n",
      "43/43 [==============================] - 2s 38ms/step - loss: 0.8637 - accuracy: 0.5746 - val_loss: 1.7236 - val_accuracy: 0.5088\n",
      "Epoch 4/5\n",
      "43/43 [==============================] - 2s 38ms/step - loss: 0.8318 - accuracy: 0.5914 - val_loss: 1.3753 - val_accuracy: 0.6287\n",
      "Epoch 5/5\n",
      "43/43 [==============================] - 2s 38ms/step - loss: 0.7943 - accuracy: 0.6294 - val_loss: 1.9268 - val_accuracy: 0.3567\n",
      "Epoch 1/5\n",
      "43/43 [==============================] - 3s 47ms/step - loss: 1.0000 - accuracy: 0.4854 - val_loss: 1.8584 - val_accuracy: 0.0000e+00\n",
      "Epoch 2/5\n",
      "43/43 [==============================] - 2s 38ms/step - loss: 0.8963 - accuracy: 0.5497 - val_loss: 1.4238 - val_accuracy: 0.0029\n",
      "Epoch 3/5\n",
      "43/43 [==============================] - 2s 38ms/step - loss: 0.8010 - accuracy: 0.6184 - val_loss: 0.8945 - val_accuracy: 0.6374\n",
      "Epoch 4/5\n",
      "43/43 [==============================] - 2s 39ms/step - loss: 0.8041 - accuracy: 0.6009 - val_loss: 1.2797 - val_accuracy: 0.2865\n",
      "Epoch 5/5\n",
      "43/43 [==============================] - 2s 38ms/step - loss: 0.7772 - accuracy: 0.6170 - val_loss: 0.6669 - val_accuracy: 0.8421\n",
      "Epoch 1/5\n",
      "43/43 [==============================] - 3s 46ms/step - loss: 0.9671 - accuracy: 0.4620 - val_loss: 1.5880 - val_accuracy: 0.3216\n",
      "Epoch 2/5\n",
      "43/43 [==============================] - 2s 39ms/step - loss: 0.8102 - accuracy: 0.5548 - val_loss: 1.1763 - val_accuracy: 0.6082\n",
      "Epoch 3/5\n",
      "43/43 [==============================] - 2s 36ms/step - loss: 0.8177 - accuracy: 0.5738 - val_loss: 0.7267 - val_accuracy: 0.8216\n",
      "Epoch 4/5\n",
      "43/43 [==============================] - 2s 38ms/step - loss: 0.7622 - accuracy: 0.6023 - val_loss: 1.4938 - val_accuracy: 0.4766\n",
      "Epoch 5/5\n",
      "43/43 [==============================] - 2s 38ms/step - loss: 0.7390 - accuracy: 0.6330 - val_loss: 0.7621 - val_accuracy: 0.8333\n",
      "Epoch 1/5\n",
      "43/43 [==============================] - 3s 46ms/step - loss: 1.0370 - accuracy: 0.4452 - val_loss: 1.0832 - val_accuracy: 0.6784\n",
      "Epoch 2/5\n",
      "43/43 [==============================] - 2s 38ms/step - loss: 0.9212 - accuracy: 0.5161 - val_loss: 1.5339 - val_accuracy: 0.4708\n",
      "Epoch 3/5\n",
      "43/43 [==============================] - 2s 39ms/step - loss: 0.8516 - accuracy: 0.5636 - val_loss: 1.6389 - val_accuracy: 0.4561\n",
      "Epoch 4/5\n",
      "43/43 [==============================] - 2s 38ms/step - loss: 0.8389 - accuracy: 0.5592 - val_loss: 1.7003 - val_accuracy: 0.4620\n",
      "Epoch 5/5\n",
      "43/43 [==============================] - 2s 38ms/step - loss: 0.8192 - accuracy: 0.6082 - val_loss: 1.1211 - val_accuracy: 0.6725\n",
      "Epoch 1/5\n",
      "43/43 [==============================] - 3s 44ms/step - loss: 1.0452 - accuracy: 0.4437 - val_loss: 1.7598 - val_accuracy: 0.0000e+00\n",
      "Epoch 2/5\n",
      "43/43 [==============================] - 2s 39ms/step - loss: 0.9845 - accuracy: 0.5314 - val_loss: 1.3176 - val_accuracy: 0.0000e+00\n",
      "Epoch 3/5\n",
      "43/43 [==============================] - 2s 37ms/step - loss: 0.9288 - accuracy: 0.5819 - val_loss: 1.5776 - val_accuracy: 0.0000e+00\n",
      "Epoch 4/5\n",
      "43/43 [==============================] - 2s 38ms/step - loss: 0.8933 - accuracy: 0.5848 - val_loss: 1.2055 - val_accuracy: 0.3041\n",
      "Epoch 5/5\n",
      "43/43 [==============================] - 2s 38ms/step - loss: 0.8749 - accuracy: 0.5943 - val_loss: 1.3494 - val_accuracy: 0.0146\n",
      "Epoch 1/5\n",
      "43/43 [==============================] - 3s 47ms/step - loss: 1.1125 - accuracy: 0.3911 - val_loss: 1.6854 - val_accuracy: 0.0000e+00\n",
      "Epoch 2/5\n",
      "43/43 [==============================] - 2s 39ms/step - loss: 1.0246 - accuracy: 0.4072 - val_loss: 1.7876 - val_accuracy: 0.0000e+00\n",
      "Epoch 3/5\n",
      "43/43 [==============================] - 2s 38ms/step - loss: 0.9769 - accuracy: 0.4832 - val_loss: 1.6541 - val_accuracy: 0.0000e+00\n",
      "Epoch 4/5\n",
      "43/43 [==============================] - 2s 36ms/step - loss: 0.9191 - accuracy: 0.5461 - val_loss: 1.3029 - val_accuracy: 0.2047\n",
      "Epoch 5/5\n",
      "43/43 [==============================] - 2s 37ms/step - loss: 0.8646 - accuracy: 0.5738 - val_loss: 1.3122 - val_accuracy: 0.1959\n",
      "Epoch 1/5\n",
      "43/43 [==============================] - 3s 46ms/step - loss: 0.9979 - accuracy: 0.4730 - val_loss: 1.8696 - val_accuracy: 0.0000e+00\n",
      "Epoch 2/5\n",
      "43/43 [==============================] - 2s 39ms/step - loss: 0.9605 - accuracy: 0.5461 - val_loss: 1.1386 - val_accuracy: 0.0819\n",
      "Epoch 3/5\n",
      "43/43 [==============================] - 2s 38ms/step - loss: 0.9203 - accuracy: 0.5687 - val_loss: 1.7829 - val_accuracy: 0.0000e+00\n",
      "Epoch 4/5\n",
      "43/43 [==============================] - 2s 38ms/step - loss: 0.8884 - accuracy: 0.5797 - val_loss: 1.1301 - val_accuracy: 0.3918\n",
      "Epoch 5/5\n",
      "43/43 [==============================] - 2s 38ms/step - loss: 0.8725 - accuracy: 0.6082 - val_loss: 1.6728 - val_accuracy: 0.0000e+00\n",
      "Epoch 1/5\n",
      "43/43 [==============================] - 3s 44ms/step - loss: 1.0985 - accuracy: 0.4291 - val_loss: 1.5409 - val_accuracy: 0.0000e+00\n",
      "Epoch 2/5\n",
      "43/43 [==============================] - 2s 36ms/step - loss: 1.0270 - accuracy: 0.4832 - val_loss: 1.4387 - val_accuracy: 0.0000e+00\n",
      "Epoch 3/5\n",
      "43/43 [==============================] - 2s 38ms/step - loss: 0.9899 - accuracy: 0.4890 - val_loss: 1.3545 - val_accuracy: 0.0000e+00\n",
      "Epoch 4/5\n",
      "43/43 [==============================] - 2s 38ms/step - loss: 0.9644 - accuracy: 0.4810 - val_loss: 1.4861 - val_accuracy: 0.0000e+00\n",
      "Epoch 5/5\n",
      "43/43 [==============================] - 2s 38ms/step - loss: 0.9151 - accuracy: 0.5621 - val_loss: 1.5112 - val_accuracy: 0.0000e+00\n",
      "Epoch 1/5\n",
      "43/43 [==============================] - 3s 47ms/step - loss: 1.0904 - accuracy: 0.3787 - val_loss: 1.8006 - val_accuracy: 0.0000e+00\n",
      "Epoch 2/5\n",
      "43/43 [==============================] - 2s 38ms/step - loss: 0.9745 - accuracy: 0.4737 - val_loss: 1.5704 - val_accuracy: 0.0351\n",
      "Epoch 3/5\n",
      "43/43 [==============================] - 2s 38ms/step - loss: 0.9061 - accuracy: 0.5629 - val_loss: 1.3878 - val_accuracy: 0.3450\n",
      "Epoch 4/5\n",
      "43/43 [==============================] - 2s 39ms/step - loss: 0.8727 - accuracy: 0.5563 - val_loss: 1.6051 - val_accuracy: 0.4327\n",
      "Epoch 5/5\n",
      "43/43 [==============================] - 2s 37ms/step - loss: 0.8500 - accuracy: 0.5972 - val_loss: 1.6060 - val_accuracy: 0.4942\n",
      "Epoch 1/5\n",
      "43/43 [==============================] - 4s 59ms/step - loss: 1.0023 - accuracy: 0.5044 - val_loss: 1.0900 - val_accuracy: 0.6316\n",
      "Epoch 2/5\n",
      "43/43 [==============================] - 2s 51ms/step - loss: 0.7793 - accuracy: 0.6550 - val_loss: 1.8454 - val_accuracy: 0.2865\n",
      "Epoch 3/5\n",
      "43/43 [==============================] - 2s 49ms/step - loss: 0.6852 - accuracy: 0.6937 - val_loss: 1.3181 - val_accuracy: 0.6140\n",
      "Epoch 4/5\n",
      "43/43 [==============================] - 2s 49ms/step - loss: 0.6625 - accuracy: 0.7281 - val_loss: 0.8047 - val_accuracy: 0.6930\n",
      "Epoch 5/5\n",
      "43/43 [==============================] - 2s 51ms/step - loss: 0.6687 - accuracy: 0.7083 - val_loss: 2.3474 - val_accuracy: 0.2076\n",
      "Epoch 1/5\n",
      "43/43 [==============================] - 4s 50ms/step - loss: 1.0061 - accuracy: 0.4920 - val_loss: 2.5306 - val_accuracy: 0.1140\n",
      "Epoch 2/5\n",
      "43/43 [==============================] - 2s 50ms/step - loss: 0.7785 - accuracy: 0.6294 - val_loss: 1.3611 - val_accuracy: 0.5789\n",
      "Epoch 3/5\n",
      "43/43 [==============================] - 2s 50ms/step - loss: 0.7369 - accuracy: 0.6520 - val_loss: 0.8977 - val_accuracy: 0.7661\n",
      "Epoch 4/5\n",
      "43/43 [==============================] - 2s 51ms/step - loss: 0.6901 - accuracy: 0.6944 - val_loss: 1.5553 - val_accuracy: 0.4678\n",
      "Epoch 5/5\n",
      "43/43 [==============================] - 2s 50ms/step - loss: 0.6633 - accuracy: 0.7076 - val_loss: 1.3309 - val_accuracy: 0.5819\n",
      "Epoch 1/5\n",
      "43/43 [==============================] - 4s 58ms/step - loss: 0.9394 - accuracy: 0.5322 - val_loss: 3.2773 - val_accuracy: 0.1287\n",
      "Epoch 2/5\n",
      "43/43 [==============================] - 2s 44ms/step - loss: 0.8240 - accuracy: 0.6316 - val_loss: 1.4717 - val_accuracy: 0.2661\n",
      "Epoch 3/5\n"
     ]
    },
    {
     "name": "stdout",
     "output_type": "stream",
     "text": [
      "43/43 [==============================] - 2s 42ms/step - loss: 0.6854 - accuracy: 0.6981 - val_loss: 1.0344 - val_accuracy: 0.5643\n",
      "Epoch 4/5\n",
      "43/43 [==============================] - 2s 50ms/step - loss: 0.6277 - accuracy: 0.7368 - val_loss: 0.8728 - val_accuracy: 0.6374\n",
      "Epoch 5/5\n",
      "43/43 [==============================] - 2s 52ms/step - loss: 0.5524 - accuracy: 0.7741 - val_loss: 0.7365 - val_accuracy: 0.7164\n",
      "Epoch 1/5\n",
      "43/43 [==============================] - 4s 59ms/step - loss: 1.0650 - accuracy: 0.4708 - val_loss: 0.9711 - val_accuracy: 0.7047\n",
      "Epoch 2/5\n",
      "43/43 [==============================] - 2s 49ms/step - loss: 0.7875 - accuracy: 0.6089 - val_loss: 0.8273 - val_accuracy: 0.8187\n",
      "Epoch 3/5\n",
      "43/43 [==============================] - 2s 50ms/step - loss: 0.7503 - accuracy: 0.6586 - val_loss: 0.6278 - val_accuracy: 0.8860\n",
      "Epoch 4/5\n",
      "43/43 [==============================] - 2s 47ms/step - loss: 0.7085 - accuracy: 0.6937 - val_loss: 0.9041 - val_accuracy: 0.8158\n",
      "Epoch 5/5\n",
      "43/43 [==============================] - 2s 44ms/step - loss: 0.6278 - accuracy: 0.7485 - val_loss: 1.7492 - val_accuracy: 0.5029\n",
      "Epoch 1/5\n",
      "43/43 [==============================] - 4s 56ms/step - loss: 1.1015 - accuracy: 0.4627 - val_loss: 1.2039 - val_accuracy: 0.1813\n",
      "Epoch 2/5\n",
      "43/43 [==============================] - 2s 47ms/step - loss: 0.7842 - accuracy: 0.6323 - val_loss: 1.1920 - val_accuracy: 0.6170\n",
      "Epoch 3/5\n",
      "43/43 [==============================] - 2s 44ms/step - loss: 0.6952 - accuracy: 0.7047 - val_loss: 2.0684 - val_accuracy: 0.3450\n",
      "Epoch 4/5\n",
      "43/43 [==============================] - 2s 43ms/step - loss: 0.6796 - accuracy: 0.6981 - val_loss: 1.0982 - val_accuracy: 0.5760\n",
      "Epoch 5/5\n",
      "43/43 [==============================] - 2s 45ms/step - loss: 0.5804 - accuracy: 0.7602 - val_loss: 0.9875 - val_accuracy: 0.6287\n",
      "Epoch 1/5\n",
      "43/43 [==============================] - 3s 49ms/step - loss: 1.0465 - accuracy: 0.5029 - val_loss: 1.6105 - val_accuracy: 0.0000e+00\n",
      "Epoch 2/5\n",
      "43/43 [==============================] - 2s 43ms/step - loss: 0.9319 - accuracy: 0.5811 - val_loss: 1.4172 - val_accuracy: 0.0526\n",
      "Epoch 3/5\n",
      "43/43 [==============================] - 2s 44ms/step - loss: 0.8152 - accuracy: 0.6382 - val_loss: 0.8707 - val_accuracy: 0.6082\n",
      "Epoch 4/5\n",
      "43/43 [==============================] - 2s 43ms/step - loss: 0.7636 - accuracy: 0.6374 - val_loss: 0.9637 - val_accuracy: 0.5702\n",
      "Epoch 5/5\n",
      "43/43 [==============================] - 2s 43ms/step - loss: 0.7245 - accuracy: 0.6835 - val_loss: 0.9731 - val_accuracy: 0.6608\n",
      "Epoch 1/5\n",
      "43/43 [==============================] - 2s 29ms/step - loss: 1.0028 - accuracy: 0.4751 - val_loss: 1.5121 - val_accuracy: 0.1199\n",
      "Epoch 2/5\n",
      "43/43 [==============================] - 2s 39ms/step - loss: 0.8585 - accuracy: 0.5848 - val_loss: 1.0529 - val_accuracy: 0.6579\n",
      "Epoch 3/5\n",
      "43/43 [==============================] - 2s 48ms/step - loss: 0.7830 - accuracy: 0.6747 - val_loss: 0.8859 - val_accuracy: 0.7251\n",
      "Epoch 4/5\n",
      "43/43 [==============================] - 2s 45ms/step - loss: 0.7180 - accuracy: 0.6871 - val_loss: 1.2009 - val_accuracy: 0.5760\n",
      "Epoch 5/5\n",
      "43/43 [==============================] - 2s 43ms/step - loss: 0.6584 - accuracy: 0.7354 - val_loss: 1.0621 - val_accuracy: 0.6550\n",
      "Epoch 1/5\n",
      "43/43 [==============================] - 4s 53ms/step - loss: 0.9782 - accuracy: 0.4671 - val_loss: 1.4411 - val_accuracy: 0.2807\n",
      "Epoch 2/5\n",
      "43/43 [==============================] - 2s 47ms/step - loss: 0.8472 - accuracy: 0.5928 - val_loss: 1.2423 - val_accuracy: 0.4854\n",
      "Epoch 3/5\n",
      "43/43 [==============================] - 2s 44ms/step - loss: 0.8023 - accuracy: 0.5994 - val_loss: 1.3708 - val_accuracy: 0.4883\n",
      "Epoch 4/5\n",
      "43/43 [==============================] - 2s 45ms/step - loss: 0.7597 - accuracy: 0.6520 - val_loss: 1.2031 - val_accuracy: 0.6345\n",
      "Epoch 5/5\n",
      "43/43 [==============================] - 2s 43ms/step - loss: 0.7077 - accuracy: 0.7076 - val_loss: 1.7081 - val_accuracy: 0.3860\n",
      "Epoch 1/5\n",
      "43/43 [==============================] - 3s 51ms/step - loss: 1.1027 - accuracy: 0.3940 - val_loss: 1.6002 - val_accuracy: 0.0000e+00\n",
      "Epoch 2/5\n",
      "43/43 [==============================] - 2s 43ms/step - loss: 0.9443 - accuracy: 0.5526 - val_loss: 1.3959 - val_accuracy: 0.0614\n",
      "Epoch 3/5\n",
      "43/43 [==============================] - 2s 43ms/step - loss: 0.8423 - accuracy: 0.6184 - val_loss: 1.3408 - val_accuracy: 0.2310\n",
      "Epoch 4/5\n",
      "43/43 [==============================] - 2s 43ms/step - loss: 0.7899 - accuracy: 0.6352 - val_loss: 0.8825 - val_accuracy: 0.6608\n",
      "Epoch 5/5\n",
      "43/43 [==============================] - 2s 44ms/step - loss: 0.7538 - accuracy: 0.6528 - val_loss: 0.9502 - val_accuracy: 0.6491\n",
      "Epoch 1/5\n",
      "43/43 [==============================] - 4s 51ms/step - loss: 1.0419 - accuracy: 0.4181 - val_loss: 1.2536 - val_accuracy: 0.1257\n",
      "Epoch 2/5\n",
      "43/43 [==============================] - 2s 40ms/step - loss: 0.8919 - accuracy: 0.5629 - val_loss: 1.2283 - val_accuracy: 0.4357\n",
      "Epoch 3/5\n",
      "43/43 [==============================] - 2s 38ms/step - loss: 0.7745 - accuracy: 0.6857 - val_loss: 1.4660 - val_accuracy: 0.4123\n",
      "Epoch 4/5\n",
      "43/43 [==============================] - 2s 45ms/step - loss: 0.7074 - accuracy: 0.7113 - val_loss: 0.9759 - val_accuracy: 0.6637\n",
      "Epoch 5/5\n",
      "43/43 [==============================] - 2s 42ms/step - loss: 0.6582 - accuracy: 0.7405 - val_loss: 0.8277 - val_accuracy: 0.7368\n",
      "Epoch 1/5\n",
      "43/43 [==============================] - 4s 52ms/step - loss: 1.5793 - accuracy: 0.3896 - val_loss: 2.7297 - val_accuracy: 0.0000e+00\n",
      "Epoch 2/5\n",
      "43/43 [==============================] - 2s 44ms/step - loss: 1.0488 - accuracy: 0.4225 - val_loss: 1.6390 - val_accuracy: 0.0000e+00\n",
      "Epoch 3/5\n",
      "43/43 [==============================] - 2s 44ms/step - loss: 1.0400 - accuracy: 0.4254 - val_loss: 1.4958 - val_accuracy: 0.0000e+00\n",
      "Epoch 4/5\n",
      "43/43 [==============================] - 2s 43ms/step - loss: 1.0277 - accuracy: 0.4773 - val_loss: 1.4391 - val_accuracy: 0.0000e+00\n",
      "Epoch 5/5\n",
      "43/43 [==============================] - 2s 40ms/step - loss: 1.0322 - accuracy: 0.4284 - val_loss: 1.6010 - val_accuracy: 0.0000e+00\n",
      "Epoch 1/5\n",
      "43/43 [==============================] - 4s 49ms/step - loss: 1.1473 - accuracy: 0.4554 - val_loss: 1.4986 - val_accuracy: 0.3538\n",
      "Epoch 2/5\n",
      "43/43 [==============================] - 2s 52ms/step - loss: 0.8395 - accuracy: 0.5950 - val_loss: 0.8848 - val_accuracy: 0.7690\n",
      "Epoch 3/5\n",
      "43/43 [==============================] - 2s 52ms/step - loss: 0.7547 - accuracy: 0.6696 - val_loss: 1.2359 - val_accuracy: 0.6608\n",
      "Epoch 4/5\n",
      "43/43 [==============================] - 2s 52ms/step - loss: 0.6270 - accuracy: 0.7427 - val_loss: 1.8876 - val_accuracy: 0.1930\n",
      "Epoch 5/5\n",
      "43/43 [==============================] - 2s 53ms/step - loss: 0.6213 - accuracy: 0.7434 - val_loss: 1.2526 - val_accuracy: 0.4678\n",
      "Epoch 1/5\n",
      "43/43 [==============================] - 3s 51ms/step - loss: 1.1047 - accuracy: 0.4605 - val_loss: 2.0744 - val_accuracy: 0.1725\n",
      "Epoch 2/5\n",
      "43/43 [==============================] - 2s 52ms/step - loss: 0.7382 - accuracy: 0.6572 - val_loss: 1.4732 - val_accuracy: 0.4620\n",
      "Epoch 3/5\n",
      "43/43 [==============================] - 2s 52ms/step - loss: 0.6783 - accuracy: 0.7091 - val_loss: 0.9177 - val_accuracy: 0.7076\n",
      "Epoch 4/5\n",
      "43/43 [==============================] - 2s 51ms/step - loss: 0.5851 - accuracy: 0.7463 - val_loss: 0.9436 - val_accuracy: 0.6959\n",
      "Epoch 5/5\n",
      "43/43 [==============================] - 2s 52ms/step - loss: 0.5363 - accuracy: 0.7792 - val_loss: 0.8802 - val_accuracy: 0.6374\n",
      "Epoch 1/5\n",
      "43/43 [==============================] - 4s 58ms/step - loss: 1.1255 - accuracy: 0.4737 - val_loss: 2.7822 - val_accuracy: 0.0994\n",
      "Epoch 2/5\n",
      "43/43 [==============================] - 2s 44ms/step - loss: 0.8168 - accuracy: 0.5826 - val_loss: 1.4316 - val_accuracy: 0.4737\n",
      "Epoch 3/5\n",
      "43/43 [==============================] - 2s 44ms/step - loss: 0.7193 - accuracy: 0.6711 - val_loss: 0.7875 - val_accuracy: 0.7105\n",
      "Epoch 4/5\n",
      "43/43 [==============================] - 2s 51ms/step - loss: 0.6545 - accuracy: 0.6981 - val_loss: 0.8219 - val_accuracy: 0.7222\n",
      "Epoch 5/5\n",
      "43/43 [==============================] - 2s 41ms/step - loss: 0.6444 - accuracy: 0.7156 - val_loss: 0.7663 - val_accuracy: 0.7427\n",
      "Epoch 1/5\n"
     ]
    },
    {
     "name": "stdout",
     "output_type": "stream",
     "text": [
      "43/43 [==============================] - 2s 32ms/step - loss: 1.3074 - accuracy: 0.4123 - val_loss: 2.3513 - val_accuracy: 0.0000e+00\n",
      "Epoch 2/5\n",
      "43/43 [==============================] - 1s 29ms/step - loss: 1.0593 - accuracy: 0.4240 - val_loss: 2.0916 - val_accuracy: 0.0000e+00\n",
      "Epoch 3/5\n",
      "43/43 [==============================] - 1s 27ms/step - loss: 1.0580 - accuracy: 0.4094 - val_loss: 2.4339 - val_accuracy: 0.0000e+00\n",
      "Epoch 4/5\n",
      "43/43 [==============================] - 1s 28ms/step - loss: 1.0615 - accuracy: 0.4152 - val_loss: 1.6932 - val_accuracy: 0.0000e+00\n",
      "Epoch 5/5\n",
      "43/43 [==============================] - 1s 27ms/step - loss: 1.0409 - accuracy: 0.4313 - val_loss: 1.7064 - val_accuracy: 0.0000e+00\n",
      "Epoch 1/5\n",
      "43/43 [==============================] - 2s 30ms/step - loss: 1.0023 - accuracy: 0.4744 - val_loss: 1.1171 - val_accuracy: 0.5380\n",
      "Epoch 2/5\n",
      "43/43 [==============================] - 1s 26ms/step - loss: 0.8134 - accuracy: 0.6316 - val_loss: 1.2755 - val_accuracy: 0.5409\n",
      "Epoch 3/5\n",
      "43/43 [==============================] - 1s 24ms/step - loss: 0.7047 - accuracy: 0.7164 - val_loss: 1.4813 - val_accuracy: 0.4649\n",
      "Epoch 4/5\n",
      "43/43 [==============================] - 1s 26ms/step - loss: 0.6386 - accuracy: 0.7346 - val_loss: 1.0525 - val_accuracy: 0.6520\n",
      "Epoch 5/5\n",
      "43/43 [==============================] - 1s 28ms/step - loss: 0.5742 - accuracy: 0.7770 - val_loss: 1.0889 - val_accuracy: 0.6433\n",
      "Epoch 1/5\n",
      "43/43 [==============================] - 2s 29ms/step - loss: 0.9463 - accuracy: 0.5066 - val_loss: 0.8919 - val_accuracy: 0.7251\n",
      "Epoch 2/5\n",
      "43/43 [==============================] - 1s 27ms/step - loss: 0.7787 - accuracy: 0.6499 - val_loss: 1.0764 - val_accuracy: 0.6462\n",
      "Epoch 3/5\n",
      "43/43 [==============================] - 1s 25ms/step - loss: 0.6837 - accuracy: 0.7193 - val_loss: 1.3131 - val_accuracy: 0.5789\n",
      "Epoch 4/5\n",
      "43/43 [==============================] - 1s 28ms/step - loss: 0.6089 - accuracy: 0.7661 - val_loss: 1.3435 - val_accuracy: 0.5380\n",
      "Epoch 5/5\n",
      "43/43 [==============================] - 1s 27ms/step - loss: 0.6119 - accuracy: 0.7463 - val_loss: 1.4435 - val_accuracy: 0.5380\n",
      "Epoch 1/5\n",
      "43/43 [==============================] - 2s 28ms/step - loss: 1.0184 - accuracy: 0.4327 - val_loss: 0.7861 - val_accuracy: 0.7632\n",
      "Epoch 2/5\n",
      "43/43 [==============================] - 1s 27ms/step - loss: 0.8764 - accuracy: 0.5409 - val_loss: 1.0559 - val_accuracy: 0.6901\n",
      "Epoch 3/5\n",
      "43/43 [==============================] - 1s 26ms/step - loss: 0.7808 - accuracy: 0.6425 - val_loss: 1.2331 - val_accuracy: 0.6462\n",
      "Epoch 4/5\n",
      "43/43 [==============================] - 1s 24ms/step - loss: 0.7185 - accuracy: 0.7076 - val_loss: 1.0154 - val_accuracy: 0.6959\n",
      "Epoch 5/5\n",
      "43/43 [==============================] - 1s 23ms/step - loss: 0.6404 - accuracy: 0.7493 - val_loss: 1.1757 - val_accuracy: 0.6433\n",
      "Epoch 1/5\n",
      "43/43 [==============================] - 2s 30ms/step - loss: 1.0744 - accuracy: 0.4349 - val_loss: 0.7098 - val_accuracy: 0.9240\n",
      "Epoch 2/5\n",
      "43/43 [==============================] - 1s 25ms/step - loss: 0.8732 - accuracy: 0.6001 - val_loss: 1.1518 - val_accuracy: 0.5848\n",
      "Epoch 3/5\n",
      "43/43 [==============================] - 1s 26ms/step - loss: 0.7331 - accuracy: 0.7003 - val_loss: 1.3721 - val_accuracy: 0.5556\n",
      "Epoch 4/5\n",
      "43/43 [==============================] - 1s 25ms/step - loss: 0.6896 - accuracy: 0.7230 - val_loss: 1.5510 - val_accuracy: 0.4825\n",
      "Epoch 5/5\n",
      "43/43 [==============================] - 1s 25ms/step - loss: 0.6250 - accuracy: 0.7449 - val_loss: 1.5429 - val_accuracy: 0.4708\n",
      "Epoch 1/5\n",
      "43/43 [==============================] - 2s 29ms/step - loss: 0.9141 - accuracy: 0.5402 - val_loss: 1.8610 - val_accuracy: 0.2047\n",
      "Epoch 2/5\n",
      "43/43 [==============================] - 1s 26ms/step - loss: 0.7830 - accuracy: 0.6352 - val_loss: 1.2699 - val_accuracy: 0.5789\n",
      "Epoch 3/5\n",
      "43/43 [==============================] - 1s 26ms/step - loss: 0.7040 - accuracy: 0.7091 - val_loss: 1.2637 - val_accuracy: 0.5936\n",
      "Epoch 4/5\n",
      "43/43 [==============================] - 1s 26ms/step - loss: 0.6730 - accuracy: 0.7091 - val_loss: 1.3096 - val_accuracy: 0.6082\n",
      "Epoch 5/5\n",
      "43/43 [==============================] - 1s 28ms/step - loss: 0.6113 - accuracy: 0.7632 - val_loss: 1.2507 - val_accuracy: 0.5994\n"
     ]
    }
   ],
   "source": [
    "# Use this cell to tune your CNN model for network structure and learning rate\n",
    "num_trials = 5\n",
    "n_epochs = 5\n",
    "\n",
    "filter_size_list = [(3, 3), (5, 5)]\n",
    "pool_size_list = [(2, 2), (4, 4), (7, 7)]\n",
    "n_filters_list = [1, 4, 16]\n",
    "learning_rate_list = [0.01, 0.001]\n",
    "\n",
    "performance_dfs = []\n",
    "for filter_size in filter_size_list:\n",
    "    for pool_size in pool_size_list:\n",
    "        for n_filters in n_filters_list:\n",
    "            for learning_rate in learning_rate_list:\n",
    "                train_accs = []\n",
    "                val_accs = []\n",
    "\n",
    "                for trial in range(num_trials):\n",
    "                    model = create_cnn(n_filters = n_filters,\n",
    "                                       filter_size = filter_size,\n",
    "                                       pool_filter_size = pool_size)\n",
    "\n",
    "                    optimizer = Adam(learning_rate=learning_rate)\n",
    "                    model.compile(loss='categorical_crossentropy',\n",
    "                                  optimizer=optimizer,\n",
    "                                  metrics=['accuracy'])\n",
    "\n",
    "                    history = model.fit(X_train, y_train, epochs=n_epochs, validation_split=val_split)\n",
    "\n",
    "                    train_acc = history.history['accuracy'][-1]\n",
    "                    val_acc = history.history['val_accuracy'][-1]\n",
    "                    train_accs.append(train_acc)\n",
    "                    val_accs.append(val_acc)\n",
    "\n",
    "                performance_df = pd.DataFrame({'Trial': range(1, num_trials+1),\n",
    "                                               'Training Accuracy': train_accs,\n",
    "                                               'Validation Accuracy': val_accs})\n",
    "\n",
    "                performance_dfs.append(performance_df)\n",
    "\n",
    "all_performance_df = pd.concat(performance_dfs, ignore_index=True)"
   ]
  },
  {
   "cell_type": "code",
   "execution_count": 47,
   "metadata": {
    "scrolled": true
   },
   "outputs": [
    {
     "name": "stdout",
     "output_type": "stream",
     "text": [
      "Optimal Filter Size: (3, 3)\n",
      "Optimal Pool Size: (2, 2)\n",
      "Optimal Number of Filters: 4\n",
      "Optimal Learning Rate: 0.001\n",
      "Model Configuration 1\n",
      "   Trial  Training Accuracy  Validation Accuracy\n",
      "0      1           0.694444             0.371345\n",
      "1      2           0.467105             0.000000\n",
      "2      3           0.679825             0.517544\n",
      "3      4           0.630117             0.654971\n",
      "4      5           0.685673             0.722222\n",
      "\n",
      "Model Configuration 2\n",
      "   Trial  Training Accuracy  Validation Accuracy\n",
      "0      1           0.630117             0.230994\n",
      "1      2           0.682749             0.678363\n",
      "2      3           0.570906             0.119883\n",
      "3      4           0.632310             0.216374\n",
      "4      5           0.649854             0.491228\n",
      "\n",
      "Model Configuration 3\n",
      "   Trial  Training Accuracy  Validation Accuracy\n",
      "0      1           0.396199             0.000000\n",
      "1      2           0.421053             0.000000\n",
      "2      3           0.414474             0.000000\n",
      "3      4           0.451754             0.318713\n",
      "4      5           0.735380             0.479532\n",
      "\n",
      "Model Configuration 4\n",
      "   Trial  Training Accuracy  Validation Accuracy\n",
      "0      1           0.785819             0.494152\n",
      "1      2           0.752193             0.733918\n",
      "2      3           0.769737             0.529240\n",
      "3      4           0.733918             0.786550\n",
      "4      5           0.733918             0.783626\n",
      "\n",
      "Model Configuration 5\n",
      "   Trial  Training Accuracy  Validation Accuracy\n",
      "0      1           0.463450                  0.0\n",
      "1      2           0.418860                  0.0\n",
      "2      3           0.424708                  0.0\n",
      "3      4           0.413743                  0.0\n",
      "4      5           0.411550                  0.0\n",
      "\n",
      "Model Configuration 6\n",
      "   Trial  Training Accuracy  Validation Accuracy\n",
      "0      1           0.788743             0.576023\n",
      "1      2           0.714181             0.529240\n",
      "2      3           0.698830             0.608187\n",
      "3      4           0.771199             0.646199\n",
      "4      5           0.790205             0.605263\n",
      "\n",
      "Model Configuration 7\n",
      "   Trial  Training Accuracy  Validation Accuracy\n",
      "0      1           0.668129             0.839181\n",
      "1      2           0.641082             0.646199\n",
      "2      3           0.634503             0.567251\n",
      "3      4           0.673977             0.611111\n",
      "4      5           0.620614             0.760234\n",
      "\n",
      "Model Configuration 8\n",
      "   Trial  Training Accuracy  Validation Accuracy\n",
      "0      1           0.605263             0.535088\n",
      "1      2           0.594298             0.000000\n",
      "2      3           0.589912             0.008772\n",
      "3      4           0.577485             0.008772\n",
      "4      5           0.588450             0.049708\n",
      "\n",
      "Model Configuration 9\n",
      "   Trial  Training Accuracy  Validation Accuracy\n",
      "0      1           0.746345             0.836257\n",
      "1      2           0.730263             0.681287\n",
      "2      3           0.781433             0.488304\n",
      "3      4           0.694444             0.783626\n",
      "4      5           0.729532             0.596491\n",
      "\n",
      "Model Configuration 10\n",
      "   Trial  Training Accuracy  Validation Accuracy\n",
      "0      1           0.692982             0.783626\n",
      "1      2           0.696637             0.763158\n",
      "2      3           0.707602             0.643275\n",
      "3      4           0.681287             0.722222\n",
      "4      5           0.685673             0.263158\n",
      "\n",
      "Model Configuration 11\n",
      "   Trial  Training Accuracy  Validation Accuracy\n",
      "0      1           0.440789                  0.0\n",
      "1      2           0.409357                  0.0\n",
      "2      3           0.413012                  0.0\n",
      "3      4           0.404971                  0.0\n",
      "4      5           0.417398                  0.0\n",
      "\n",
      "Model Configuration 12\n",
      "   Trial  Training Accuracy  Validation Accuracy\n",
      "0      1           0.767544             0.719298\n",
      "1      2           0.777778             0.713450\n",
      "2      3           0.759503             0.593567\n",
      "3      4           0.764620             0.587719\n",
      "4      5           0.730994             0.722222\n",
      "\n",
      "Model Configuration 13\n",
      "   Trial  Training Accuracy  Validation Accuracy\n",
      "0      1           0.631579             0.681287\n",
      "1      2           0.581871             0.774854\n",
      "2      3           0.586257             0.473684\n",
      "3      4           0.631579             0.602339\n",
      "4      5           0.600877             0.695906\n",
      "\n",
      "Model Configuration 14\n",
      "   Trial  Training Accuracy  Validation Accuracy\n",
      "0      1           0.570175             0.005848\n",
      "1      2           0.557018             0.473684\n",
      "2      3           0.507310             0.678363\n",
      "3      4           0.525585             0.669591\n",
      "4      5           0.575292             0.350877\n",
      "\n",
      "Model Configuration 15\n",
      "   Trial  Training Accuracy  Validation Accuracy\n",
      "0      1           0.779240             0.365497\n",
      "1      2           0.770468             0.578947\n",
      "2      3           0.722953             0.853801\n",
      "3      4           0.689327             0.692982\n",
      "4      5           0.695175             0.166667\n",
      "\n",
      "Model Configuration 16\n",
      "   Trial  Training Accuracy  Validation Accuracy\n",
      "0      1           0.645468             0.321637\n",
      "1      2           0.653509             0.447368\n",
      "2      3           0.708333             0.675439\n",
      "3      4           0.640351             0.573099\n",
      "4      5           0.628655             0.684211\n",
      "\n",
      "Model Configuration 17\n",
      "   Trial  Training Accuracy  Validation Accuracy\n",
      "0      1           0.744883             0.643275\n",
      "1      2           0.778509             0.608187\n",
      "2      3           0.758041             0.602339\n",
      "3      4           0.779240             0.701754\n",
      "4      5           0.768275             0.719298\n",
      "\n",
      "Model Configuration 18\n",
      "   Trial  Training Accuracy  Validation Accuracy\n",
      "0      1           0.745614             0.637427\n",
      "1      2           0.775585             0.587719\n",
      "2      3           0.775585             0.628655\n",
      "3      4           0.766813             0.692982\n",
      "4      5           0.742690             0.307018\n",
      "\n",
      "Model Configuration 19\n",
      "   Trial  Training Accuracy  Validation Accuracy\n",
      "0      1           0.474415             0.181287\n",
      "1      2           0.595029             0.558480\n",
      "2      3           0.690058             0.511696\n",
      "3      4           0.435673             0.000000\n",
      "4      5           0.756579             0.783626\n",
      "\n",
      "Model Configuration 20\n",
      "   Trial  Training Accuracy  Validation Accuracy\n",
      "0      1           0.655702             0.347953\n",
      "1      2           0.662281             0.307018\n",
      "2      3           0.709064             0.619883\n",
      "3      4           0.633041             0.152047\n",
      "4      5           0.695175             0.573099\n",
      "\n",
      "Model Configuration 21\n",
      "   Trial  Training Accuracy  Validation Accuracy\n",
      "0      1           0.417398                  0.0\n",
      "1      2           0.411550                  0.0\n",
      "2      3           0.418129                  0.0\n",
      "3      4           0.429825                  0.0\n",
      "4      5           0.415936                  0.0\n",
      "\n",
      "Model Configuration 22\n",
      "   Trial  Training Accuracy  Validation Accuracy\n",
      "0      1           0.762427             0.608187\n",
      "1      2           0.704678             0.385965\n",
      "2      3           0.733187             0.593567\n",
      "3      4           0.826754             0.611111\n",
      "4      5           0.744152             0.611111\n",
      "\n",
      "Model Configuration 23\n",
      "   Trial  Training Accuracy  Validation Accuracy\n",
      "0      1           0.423977                  0.0\n",
      "1      2           0.446637                  0.0\n",
      "2      3           0.421053                  0.0\n",
      "3      4           0.397661                  0.0\n",
      "4      5           0.427632                  0.0\n",
      "\n",
      "Model Configuration 24\n",
      "   Trial  Training Accuracy  Validation Accuracy\n",
      "0      1           0.839181             0.538012\n",
      "1      2           0.820175             0.719298\n",
      "2      3           0.792398             0.614035\n",
      "3      4           0.711257             0.491228\n",
      "4      5           0.719298             0.713450\n",
      "\n",
      "Model Configuration 25\n",
      "   Trial  Training Accuracy  Validation Accuracy\n",
      "0      1           0.630848             0.833333\n",
      "1      2           0.693713             0.555556\n",
      "2      3           0.597222             0.549708\n",
      "3      4           0.628655             0.187135\n",
      "4      5           0.614766             0.473684\n",
      "\n",
      "Model Configuration 26\n",
      "   Trial  Training Accuracy  Validation Accuracy\n",
      "0      1           0.625731             0.614035\n",
      "1      2           0.611842             0.251462\n",
      "2      3           0.577485             0.491228\n",
      "3      4           0.551170             0.538012\n",
      "4      5           0.589912             0.067251\n",
      "\n",
      "Model Configuration 27\n",
      "   Trial  Training Accuracy  Validation Accuracy\n",
      "0      1           0.544591             0.505848\n",
      "1      2           0.675439             0.461988\n",
      "2      3           0.725877             0.657895\n",
      "3      4           0.535088             0.000000\n",
      "4      5           0.685673             0.049708\n",
      "\n",
      "Model Configuration 28\n",
      "   Trial  Training Accuracy  Validation Accuracy\n",
      "0      1           0.678363             0.652047\n",
      "1      2           0.694444             0.549708\n",
      "2      3           0.724415             0.447368\n",
      "3      4           0.733918             0.608187\n",
      "4      5           0.715643             0.350877\n",
      "\n",
      "Model Configuration 29\n",
      "   Trial  Training Accuracy  Validation Accuracy\n",
      "0      1           0.388889                  0.0\n",
      "1      2           0.425439                  0.0\n",
      "2      3           0.415205                  0.0\n",
      "3      4           0.440789                  0.0\n",
      "4      5           0.415936                  0.0\n",
      "\n",
      "Model Configuration 30\n",
      "   Trial  Training Accuracy  Validation Accuracy\n",
      "0      1           0.723684             0.666667\n",
      "1      2           0.765351             0.625731\n",
      "2      3           0.732456             0.283626\n",
      "3      4           0.771930             0.657895\n",
      "4      5           0.766082             0.675439\n",
      "\n",
      "Model Configuration 31\n",
      "   Trial  Training Accuracy  Validation Accuracy\n",
      "0      1           0.610380             0.093567\n",
      "1      2           0.629386             0.356725\n",
      "2      3           0.616959             0.842105\n",
      "3      4           0.633041             0.833333\n",
      "4      5           0.608187             0.672515\n",
      "\n",
      "Model Configuration 32\n",
      "   Trial  Training Accuracy  Validation Accuracy\n",
      "0      1           0.594298             0.014620\n",
      "1      2           0.573830             0.195906\n",
      "2      3           0.608187             0.000000\n",
      "3      4           0.562135             0.000000\n",
      "4      5           0.597222             0.494152\n",
      "\n",
      "Model Configuration 33\n",
      "   Trial  Training Accuracy  Validation Accuracy\n",
      "0      1           0.708333             0.207602\n",
      "1      2           0.707602             0.581871\n",
      "2      3           0.774123             0.716374\n",
      "3      4           0.748538             0.502924\n",
      "4      5           0.760234             0.628655\n",
      "\n",
      "Model Configuration 34\n",
      "   Trial  Training Accuracy  Validation Accuracy\n",
      "0      1           0.683480             0.660819\n",
      "1      2           0.735380             0.654971\n",
      "2      3           0.707602             0.385965\n",
      "3      4           0.652778             0.649123\n",
      "4      5           0.740497             0.736842\n",
      "\n",
      "Model Configuration 35\n",
      "   Trial  Training Accuracy  Validation Accuracy\n",
      "0      1           0.428363             0.000000\n",
      "1      2           0.743421             0.467836\n",
      "2      3           0.779240             0.637427\n",
      "3      4           0.715643             0.742690\n",
      "4      5           0.431287             0.000000\n",
      "\n",
      "Model Configuration 36\n",
      "   Trial  Training Accuracy  Validation Accuracy\n",
      "0      1           0.777047             0.643275\n",
      "1      2           0.746345             0.538012\n",
      "2      3           0.749269             0.643275\n",
      "3      4           0.744883             0.470760\n",
      "4      5           0.763158             0.599415\n",
      "\n"
     ]
    }
   ],
   "source": [
    "optimal_idx = all_performance_df['Validation Accuracy'].idxmax()\n",
    "optimal_filter_size = filter_size_list[optimal_idx // (len(pool_size_list) * len(n_filters_list) * len(learning_rate_list) * num_trials)]\n",
    "optimal_pool_size = pool_size_list[(optimal_idx % (len(n_filters_list) * len(learning_rate_list) * num_trials)) % len(pool_size_list)]\n",
    "optimal_n_filters = n_filters_list[((optimal_idx % (len(learning_rate_list) * num_trials)) % len(n_filters_list)) - 1]\n",
    "optimal_learning_rate = learning_rate_list[(optimal_idx % (len(learning_rate_list) * num_trials)) - 1]\n",
    "\n",
    "print(\"Optimal Filter Size:\", optimal_filter_size)\n",
    "print(\"Optimal Pool Size:\", optimal_pool_size)\n",
    "print(\"Optimal Number of Filters:\", optimal_n_filters)\n",
    "print(\"Optimal Learning Rate:\", optimal_learning_rate)\n",
    "\n",
    "for i, performance_df in enumerate(performance_dfs):\n",
    "    print(\"Model Configuration\", i+1)\n",
    "    print(performance_df)\n",
    "    print()"
   ]
  },
  {
   "cell_type": "markdown",
   "metadata": {
    "id": "LFmJJd_qNIt2"
   },
   "source": [
    "You should take some time and study the results of your hyperparameter tuning. Once you are satisfied with your analysis, decide on the optimal values of the hyperparameters to use."
   ]
  },
  {
   "cell_type": "code",
   "execution_count": 48,
   "metadata": {
    "id": "OA9OAEN8rV4i"
   },
   "outputs": [],
   "source": [
    "# Use this cell to specify your optimal hyperparameter values\n",
    "\n",
    "# Store the values of the optimal hyperparameters\n",
    "optimal_pool_size = optimal_pool_size\n",
    "optimal_filter_size = optimal_filter_size\n",
    "optimal_n_filters = optimal_n_filters\n",
    "optimal_learning_rate = optimal_learning_rate\n",
    "n_epochs = 10\n",
    "num_trials = 10"
   ]
  },
  {
   "cell_type": "markdown",
   "metadata": {
    "id": "bJYh8Z38SwzZ"
   },
   "source": [
    "### Checklist\n",
    "- Decided on the values of hyperparameters over which to tune the model\n",
    "- Trained multiple models for each combination of hyperparameters\n",
    "- The optimal model has good and consistent validation accuracy\n",
    "- The optimal model doesn't have more than 500,000 trainable parameters"
   ]
  },
  {
   "cell_type": "markdown",
   "metadata": {
    "id": "b3mjrlJJO3wM"
   },
   "source": [
    "# Stage 6 - Testing\n",
    "In this stage, you will train your optimal model multiple times on the augmented data set until you are satisfied with its performance on the validation data. You will then test your optimal model on the hold-out test data set, which has not been used up until this point."
   ]
  },
  {
   "cell_type": "markdown",
   "metadata": {
    "id": "MYbxPf5hO3wM"
   },
   "source": [
    "## Task 13 - Train your optimal model satisfactorily"
   ]
  },
  {
   "cell_type": "markdown",
   "metadata": {
    "id": "D8WpOBpX32lB"
   },
   "source": [
    "### Description\n",
    "\n",
    "In this section, you will train your optimal model on the augmented data set multiple times until you are satisfied with its performance on the validation data."
   ]
  },
  {
   "cell_type": "markdown",
   "metadata": {
    "id": "D1TzfQaU4JqX"
   },
   "source": [
    "### Requirements\n",
    "- Train a CNN model that has a good validation accuracy on the training data set using *optimal_layer_config* and *optimal_learning_rate*.\n",
    "- Evaluate the accuracy of this CNN model on the testing data set."
   ]
  },
  {
   "cell_type": "markdown",
   "metadata": {
    "id": "j7ka2wP_5Adz"
   },
   "source": [
    "### Recommendations\n",
    "- You can decide on a minimum validation accuracy that your model must exhibit based on the past performance of your model. You are advised to begin with 80% as a starting threshold.\n",
    "- Train your optimal model multiple times till you achieve the required validation accuracy."
   ]
  },
  {
   "cell_type": "code",
   "execution_count": 49,
   "metadata": {
    "id": "wk8XZrRqO3wM",
    "scrolled": true
   },
   "outputs": [
    {
     "name": "stdout",
     "output_type": "stream",
     "text": [
      "Epoch 1/10\n",
      "43/43 [==============================] - 2s 24ms/step - loss: 0.9262 - accuracy: 0.5563 - val_loss: 1.1859 - val_accuracy: 0.6053\n",
      "Epoch 2/10\n",
      "43/43 [==============================] - 1s 20ms/step - loss: 0.7698 - accuracy: 0.6520 - val_loss: 0.9381 - val_accuracy: 0.6637\n",
      "Epoch 3/10\n",
      "43/43 [==============================] - 1s 20ms/step - loss: 0.7077 - accuracy: 0.6835 - val_loss: 1.0064 - val_accuracy: 0.6374\n",
      "Epoch 4/10\n",
      "43/43 [==============================] - 1s 20ms/step - loss: 0.6326 - accuracy: 0.7288 - val_loss: 1.1675 - val_accuracy: 0.5877\n",
      "Epoch 5/10\n",
      "43/43 [==============================] - 1s 20ms/step - loss: 0.6009 - accuracy: 0.7442 - val_loss: 0.9726 - val_accuracy: 0.6404\n",
      "Epoch 6/10\n",
      "43/43 [==============================] - 1s 20ms/step - loss: 0.5708 - accuracy: 0.7624 - val_loss: 0.5171 - val_accuracy: 0.8509\n",
      "Epoch 7/10\n",
      "43/43 [==============================] - 1s 20ms/step - loss: 0.5613 - accuracy: 0.7617 - val_loss: 1.0317 - val_accuracy: 0.6140\n",
      "Epoch 8/10\n",
      "43/43 [==============================] - 1s 21ms/step - loss: 0.5256 - accuracy: 0.7887 - val_loss: 1.0519 - val_accuracy: 0.6579\n",
      "Epoch 9/10\n",
      "43/43 [==============================] - 1s 21ms/step - loss: 0.4805 - accuracy: 0.8136 - val_loss: 0.6792 - val_accuracy: 0.8041\n",
      "Epoch 10/10\n",
      "43/43 [==============================] - 1s 21ms/step - loss: 0.4707 - accuracy: 0.8173 - val_loss: 1.3177 - val_accuracy: 0.5409\n",
      "Epoch 1/10\n",
      "43/43 [==============================] - 2s 23ms/step - loss: 0.8570 - accuracy: 0.5950 - val_loss: 1.6164 - val_accuracy: 0.4620\n",
      "Epoch 2/10\n",
      "43/43 [==============================] - 1s 21ms/step - loss: 0.7242 - accuracy: 0.6966 - val_loss: 1.3768 - val_accuracy: 0.5614\n",
      "Epoch 3/10\n",
      "43/43 [==============================] - 1s 20ms/step - loss: 0.6574 - accuracy: 0.7288 - val_loss: 1.4532 - val_accuracy: 0.5556\n",
      "Epoch 4/10\n",
      "43/43 [==============================] - 1s 20ms/step - loss: 0.6053 - accuracy: 0.7376 - val_loss: 0.7724 - val_accuracy: 0.7368\n",
      "Epoch 5/10\n",
      "43/43 [==============================] - 1s 20ms/step - loss: 0.5763 - accuracy: 0.7792 - val_loss: 0.8704 - val_accuracy: 0.7193\n",
      "Epoch 6/10\n",
      "43/43 [==============================] - 1s 20ms/step - loss: 0.5113 - accuracy: 0.8026 - val_loss: 1.0609 - val_accuracy: 0.6520\n",
      "Epoch 7/10\n",
      "43/43 [==============================] - 1s 20ms/step - loss: 0.4678 - accuracy: 0.8348 - val_loss: 1.3000 - val_accuracy: 0.5702\n",
      "Epoch 8/10\n",
      "43/43 [==============================] - 1s 19ms/step - loss: 0.4318 - accuracy: 0.8553 - val_loss: 0.7793 - val_accuracy: 0.7632\n",
      "Epoch 9/10\n",
      "43/43 [==============================] - 1s 19ms/step - loss: 0.3949 - accuracy: 0.8706 - val_loss: 0.9435 - val_accuracy: 0.6842\n",
      "Epoch 10/10\n",
      "43/43 [==============================] - 1s 19ms/step - loss: 0.3687 - accuracy: 0.8735 - val_loss: 1.3813 - val_accuracy: 0.5439\n",
      "Epoch 1/10\n",
      "43/43 [==============================] - 2s 23ms/step - loss: 1.0214 - accuracy: 0.5139 - val_loss: 1.7886 - val_accuracy: 0.3713\n",
      "Epoch 2/10\n",
      "43/43 [==============================] - 1s 21ms/step - loss: 0.7697 - accuracy: 0.6564 - val_loss: 1.4176 - val_accuracy: 0.6140\n",
      "Epoch 3/10\n",
      "43/43 [==============================] - 1s 20ms/step - loss: 0.7198 - accuracy: 0.6930 - val_loss: 1.3500 - val_accuracy: 0.5760\n",
      "Epoch 4/10\n",
      "43/43 [==============================] - 1s 20ms/step - loss: 0.7052 - accuracy: 0.6871 - val_loss: 2.0831 - val_accuracy: 0.3158\n",
      "Epoch 5/10\n",
      "43/43 [==============================] - 1s 21ms/step - loss: 0.6937 - accuracy: 0.6915 - val_loss: 0.9173 - val_accuracy: 0.7602\n",
      "Epoch 6/10\n",
      "43/43 [==============================] - 1s 21ms/step - loss: 0.6184 - accuracy: 0.7420 - val_loss: 1.2634 - val_accuracy: 0.5789\n",
      "Epoch 7/10\n",
      "43/43 [==============================] - 1s 21ms/step - loss: 0.5808 - accuracy: 0.7507 - val_loss: 0.8176 - val_accuracy: 0.7602\n",
      "Epoch 8/10\n",
      "43/43 [==============================] - 1s 21ms/step - loss: 0.5811 - accuracy: 0.7551 - val_loss: 1.1488 - val_accuracy: 0.6550\n",
      "Epoch 9/10\n",
      "43/43 [==============================] - 1s 21ms/step - loss: 0.5164 - accuracy: 0.7953 - val_loss: 1.3340 - val_accuracy: 0.5848\n",
      "Epoch 10/10\n",
      "43/43 [==============================] - 1s 21ms/step - loss: 0.4978 - accuracy: 0.8041 - val_loss: 0.9345 - val_accuracy: 0.6842\n",
      "Epoch 1/10\n",
      "43/43 [==============================] - 2s 27ms/step - loss: 0.8788 - accuracy: 0.5768 - val_loss: 1.4551 - val_accuracy: 0.5614\n",
      "Epoch 2/10\n",
      "43/43 [==============================] - 1s 21ms/step - loss: 0.7429 - accuracy: 0.6615 - val_loss: 1.3810 - val_accuracy: 0.5468\n",
      "Epoch 3/10\n",
      "43/43 [==============================] - 1s 20ms/step - loss: 0.6439 - accuracy: 0.7463 - val_loss: 1.0721 - val_accuracy: 0.6725\n",
      "Epoch 4/10\n",
      "43/43 [==============================] - 1s 24ms/step - loss: 0.5810 - accuracy: 0.7800 - val_loss: 0.9186 - val_accuracy: 0.6988\n",
      "Epoch 5/10\n",
      "43/43 [==============================] - 1s 21ms/step - loss: 0.5616 - accuracy: 0.7880 - val_loss: 1.3137 - val_accuracy: 0.5877\n",
      "Epoch 6/10\n",
      "43/43 [==============================] - 1s 22ms/step - loss: 0.5123 - accuracy: 0.8114 - val_loss: 1.1309 - val_accuracy: 0.6228\n",
      "Epoch 7/10\n",
      "43/43 [==============================] - 1s 21ms/step - loss: 0.4711 - accuracy: 0.8450 - val_loss: 1.4015 - val_accuracy: 0.5614\n",
      "Epoch 8/10\n",
      "43/43 [==============================] - 1s 23ms/step - loss: 0.4463 - accuracy: 0.8392 - val_loss: 0.9131 - val_accuracy: 0.7281\n",
      "Epoch 9/10\n",
      "43/43 [==============================] - 1s 21ms/step - loss: 0.4127 - accuracy: 0.8545 - val_loss: 0.8039 - val_accuracy: 0.7661\n",
      "Epoch 10/10\n",
      "43/43 [==============================] - 1s 23ms/step - loss: 0.3753 - accuracy: 0.8779 - val_loss: 0.7081 - val_accuracy: 0.7924\n",
      "Epoch 1/10\n",
      "43/43 [==============================] - 2s 26ms/step - loss: 1.0122 - accuracy: 0.4985 - val_loss: 1.5042 - val_accuracy: 0.3977\n",
      "Epoch 2/10\n",
      "43/43 [==============================] - 1s 23ms/step - loss: 0.7894 - accuracy: 0.6491 - val_loss: 1.4180 - val_accuracy: 0.5789\n",
      "Epoch 3/10\n",
      "43/43 [==============================] - 1s 21ms/step - loss: 0.7516 - accuracy: 0.6528 - val_loss: 1.5227 - val_accuracy: 0.5556\n",
      "Epoch 4/10\n",
      "43/43 [==============================] - 1s 21ms/step - loss: 0.6891 - accuracy: 0.7281 - val_loss: 0.9844 - val_accuracy: 0.6842\n",
      "Epoch 5/10\n",
      "43/43 [==============================] - 1s 23ms/step - loss: 0.6679 - accuracy: 0.7098 - val_loss: 1.5260 - val_accuracy: 0.5351\n",
      "Epoch 6/10\n",
      "43/43 [==============================] - 1s 23ms/step - loss: 0.6049 - accuracy: 0.7719 - val_loss: 1.1712 - val_accuracy: 0.6404\n",
      "Epoch 7/10\n",
      "43/43 [==============================] - 1s 24ms/step - loss: 0.5740 - accuracy: 0.7800 - val_loss: 1.3539 - val_accuracy: 0.5965\n",
      "Epoch 8/10\n",
      "43/43 [==============================] - 1s 20ms/step - loss: 0.5261 - accuracy: 0.8099 - val_loss: 1.1951 - val_accuracy: 0.6257\n",
      "Epoch 9/10\n",
      "43/43 [==============================] - 1s 19ms/step - loss: 0.5014 - accuracy: 0.8158 - val_loss: 0.9045 - val_accuracy: 0.6901\n",
      "Epoch 10/10\n",
      "43/43 [==============================] - 1s 20ms/step - loss: 0.4543 - accuracy: 0.8311 - val_loss: 1.2024 - val_accuracy: 0.6257\n",
      "Epoch 1/10\n",
      "43/43 [==============================] - 2s 23ms/step - loss: 1.0463 - accuracy: 0.4898 - val_loss: 1.3789 - val_accuracy: 0.3187\n",
      "Epoch 2/10\n",
      "43/43 [==============================] - 1s 23ms/step - loss: 0.8246 - accuracy: 0.6170 - val_loss: 1.9852 - val_accuracy: 0.2632\n",
      "Epoch 3/10\n",
      "43/43 [==============================] - 1s 22ms/step - loss: 0.7562 - accuracy: 0.6776 - val_loss: 1.7362 - val_accuracy: 0.4327\n",
      "Epoch 4/10\n",
      "43/43 [==============================] - 1s 22ms/step - loss: 0.6739 - accuracy: 0.7215 - val_loss: 1.6184 - val_accuracy: 0.5088\n",
      "Epoch 5/10\n",
      "43/43 [==============================] - 1s 24ms/step - loss: 0.6315 - accuracy: 0.7398 - val_loss: 1.2748 - val_accuracy: 0.6111\n",
      "Epoch 6/10\n",
      "43/43 [==============================] - 1s 22ms/step - loss: 0.5951 - accuracy: 0.7573 - val_loss: 1.1610 - val_accuracy: 0.6404\n",
      "Epoch 7/10\n",
      "43/43 [==============================] - 1s 23ms/step - loss: 0.5545 - accuracy: 0.7931 - val_loss: 1.3348 - val_accuracy: 0.5965\n",
      "Epoch 8/10\n",
      "43/43 [==============================] - 1s 22ms/step - loss: 0.5006 - accuracy: 0.8085 - val_loss: 1.6045 - val_accuracy: 0.4971\n",
      "Epoch 9/10\n"
     ]
    },
    {
     "name": "stdout",
     "output_type": "stream",
     "text": [
      "43/43 [==============================] - 1s 23ms/step - loss: 0.4752 - accuracy: 0.8253 - val_loss: 0.7644 - val_accuracy: 0.7339\n",
      "Epoch 10/10\n",
      "43/43 [==============================] - 1s 24ms/step - loss: 0.4639 - accuracy: 0.8151 - val_loss: 0.8928 - val_accuracy: 0.7193\n",
      "Epoch 1/10\n",
      "43/43 [==============================] - 2s 27ms/step - loss: 0.9609 - accuracy: 0.5051 - val_loss: 1.6741 - val_accuracy: 0.4152\n",
      "Epoch 2/10\n",
      "43/43 [==============================] - 1s 23ms/step - loss: 0.7647 - accuracy: 0.6564 - val_loss: 1.5131 - val_accuracy: 0.6316\n",
      "Epoch 3/10\n",
      "43/43 [==============================] - 1s 26ms/step - loss: 0.6969 - accuracy: 0.7069 - val_loss: 1.8770 - val_accuracy: 0.3918\n",
      "Epoch 4/10\n",
      "43/43 [==============================] - 1s 28ms/step - loss: 0.6223 - accuracy: 0.7624 - val_loss: 1.6219 - val_accuracy: 0.4591\n",
      "Epoch 5/10\n",
      "43/43 [==============================] - 1s 28ms/step - loss: 0.5746 - accuracy: 0.7800 - val_loss: 1.0497 - val_accuracy: 0.6316\n",
      "Epoch 6/10\n",
      "43/43 [==============================] - 1s 28ms/step - loss: 0.5292 - accuracy: 0.8114 - val_loss: 1.2598 - val_accuracy: 0.5906\n",
      "Epoch 7/10\n",
      "43/43 [==============================] - 1s 30ms/step - loss: 0.4830 - accuracy: 0.8202 - val_loss: 1.1241 - val_accuracy: 0.6696\n",
      "Epoch 8/10\n",
      "43/43 [==============================] - 1s 25ms/step - loss: 0.4341 - accuracy: 0.8501 - val_loss: 0.9917 - val_accuracy: 0.6667\n",
      "Epoch 9/10\n",
      "43/43 [==============================] - 1s 25ms/step - loss: 0.3941 - accuracy: 0.8670 - val_loss: 1.3040 - val_accuracy: 0.6082\n",
      "Epoch 10/10\n",
      "43/43 [==============================] - 1s 26ms/step - loss: 0.3554 - accuracy: 0.8896 - val_loss: 0.8199 - val_accuracy: 0.7368\n",
      "Epoch 1/10\n",
      "43/43 [==============================] - 2s 25ms/step - loss: 0.9382 - accuracy: 0.5490 - val_loss: 1.0841 - val_accuracy: 0.6023\n",
      "Epoch 2/10\n",
      "43/43 [==============================] - 1s 21ms/step - loss: 0.7308 - accuracy: 0.6535 - val_loss: 1.1180 - val_accuracy: 0.6316\n",
      "Epoch 3/10\n",
      "43/43 [==============================] - 1s 23ms/step - loss: 0.6828 - accuracy: 0.6923 - val_loss: 0.8484 - val_accuracy: 0.7281\n",
      "Epoch 4/10\n",
      "43/43 [==============================] - 1s 23ms/step - loss: 0.6467 - accuracy: 0.7171 - val_loss: 0.8558 - val_accuracy: 0.7368\n",
      "Epoch 5/10\n",
      "43/43 [==============================] - 1s 24ms/step - loss: 0.6316 - accuracy: 0.7346 - val_loss: 1.0653 - val_accuracy: 0.6374\n",
      "Epoch 6/10\n",
      "43/43 [==============================] - 1s 27ms/step - loss: 0.6035 - accuracy: 0.7383 - val_loss: 1.0640 - val_accuracy: 0.6316\n",
      "Epoch 7/10\n",
      "43/43 [==============================] - 1s 27ms/step - loss: 0.5559 - accuracy: 0.7770 - val_loss: 1.0766 - val_accuracy: 0.6754\n",
      "Epoch 8/10\n",
      "43/43 [==============================] - 1s 27ms/step - loss: 0.5274 - accuracy: 0.7829 - val_loss: 1.0671 - val_accuracy: 0.6784\n",
      "Epoch 9/10\n",
      "43/43 [==============================] - 1s 29ms/step - loss: 0.4985 - accuracy: 0.8048 - val_loss: 1.0697 - val_accuracy: 0.6520\n",
      "Epoch 10/10\n",
      "43/43 [==============================] - 1s 26ms/step - loss: 0.4847 - accuracy: 0.8121 - val_loss: 0.6323 - val_accuracy: 0.8392\n",
      "Epoch 1/10\n",
      "43/43 [==============================] - 2s 28ms/step - loss: 1.0542 - accuracy: 0.4956 - val_loss: 1.8553 - val_accuracy: 0.0000e+00\n",
      "Epoch 2/10\n",
      "43/43 [==============================] - 1s 22ms/step - loss: 0.8774 - accuracy: 0.5658 - val_loss: 1.6486 - val_accuracy: 0.2836\n",
      "Epoch 3/10\n",
      "43/43 [==============================] - 1s 23ms/step - loss: 0.7956 - accuracy: 0.6564 - val_loss: 1.7550 - val_accuracy: 0.3450\n",
      "Epoch 4/10\n",
      "43/43 [==============================] - 1s 24ms/step - loss: 0.7351 - accuracy: 0.7018 - val_loss: 1.3430 - val_accuracy: 0.5673\n",
      "Epoch 5/10\n",
      "43/43 [==============================] - 1s 22ms/step - loss: 0.7000 - accuracy: 0.7091 - val_loss: 1.4535 - val_accuracy: 0.5351\n",
      "Epoch 6/10\n",
      "43/43 [==============================] - 1s 24ms/step - loss: 0.6643 - accuracy: 0.7361 - val_loss: 1.4057 - val_accuracy: 0.5614\n",
      "Epoch 7/10\n",
      "43/43 [==============================] - 1s 23ms/step - loss: 0.6109 - accuracy: 0.7507 - val_loss: 1.2247 - val_accuracy: 0.6257\n",
      "Epoch 8/10\n",
      "43/43 [==============================] - 1s 24ms/step - loss: 0.5734 - accuracy: 0.7602 - val_loss: 1.1587 - val_accuracy: 0.6491\n",
      "Epoch 9/10\n",
      "43/43 [==============================] - 1s 26ms/step - loss: 0.5315 - accuracy: 0.7865 - val_loss: 1.5388 - val_accuracy: 0.4094\n",
      "Epoch 10/10\n",
      "43/43 [==============================] - 1s 27ms/step - loss: 0.5180 - accuracy: 0.7961 - val_loss: 1.0963 - val_accuracy: 0.6140\n",
      "Epoch 1/10\n",
      "43/43 [==============================] - 3s 29ms/step - loss: 1.0326 - accuracy: 0.4868 - val_loss: 1.2568 - val_accuracy: 0.1170\n",
      "Epoch 2/10\n",
      "43/43 [==============================] - 1s 22ms/step - loss: 0.8130 - accuracy: 0.6243 - val_loss: 1.2557 - val_accuracy: 0.5906\n",
      "Epoch 3/10\n",
      "43/43 [==============================] - 1s 23ms/step - loss: 0.7460 - accuracy: 0.6674 - val_loss: 1.0562 - val_accuracy: 0.6667\n",
      "Epoch 4/10\n",
      "43/43 [==============================] - 1s 23ms/step - loss: 0.7134 - accuracy: 0.6908 - val_loss: 1.3178 - val_accuracy: 0.5994\n",
      "Epoch 5/10\n",
      "43/43 [==============================] - 1s 24ms/step - loss: 0.6802 - accuracy: 0.7244 - val_loss: 0.8204 - val_accuracy: 0.7632\n",
      "Epoch 6/10\n",
      "43/43 [==============================] - 1s 25ms/step - loss: 0.6595 - accuracy: 0.7135 - val_loss: 1.6248 - val_accuracy: 0.4825\n",
      "Epoch 7/10\n",
      "43/43 [==============================] - 1s 23ms/step - loss: 0.6395 - accuracy: 0.7339 - val_loss: 0.8611 - val_accuracy: 0.7339\n",
      "Epoch 8/10\n",
      "43/43 [==============================] - 1s 24ms/step - loss: 0.6028 - accuracy: 0.7427 - val_loss: 1.2737 - val_accuracy: 0.5760\n",
      "Epoch 9/10\n",
      "43/43 [==============================] - 1s 24ms/step - loss: 0.5818 - accuracy: 0.7646 - val_loss: 0.8926 - val_accuracy: 0.7135\n",
      "Epoch 10/10\n",
      "43/43 [==============================] - 1s 23ms/step - loss: 0.5804 - accuracy: 0.7566 - val_loss: 1.2843 - val_accuracy: 0.5497\n"
     ]
    }
   ],
   "source": [
    "# Use this cell to train your optimal model on the augment data set until you are satisfied with its validation performance\n",
    "\n",
    "performance_df = pd.DataFrame(columns=['Trial Number', 'Training Accuracy', 'Validation Accuracy'])\n",
    "\n",
    "for trial in range(1, num_trials+1):\n",
    "    cnn_model = create_cnn(n_filters=optimal_n_filters, filter_size=optimal_filter_size, pool_filter_size=optimal_pool_size)\n",
    "    \n",
    "    optimizer = Adam(learning_rate=optimal_learning_rate)\n",
    "    \n",
    "    cnn_model.compile(loss='categorical_crossentropy',\n",
    "                              optimizer=optimizer,\n",
    "                              metrics=['accuracy'])\n",
    "    history = cnn_model.fit(X_train, y_train, epochs=n_epochs, validation_split=val_split)\n",
    "    \n",
    "    training_acc = history.history['accuracy'][-1]\n",
    "    validation_acc = history.history['val_accuracy'][-1]\n",
    "    \n",
    "    performance_df = performance_df.append({\n",
    "        'Trial Number': trial,\n",
    "        'Training Accuracy': training_acc,\n",
    "        'Validation Accuracy': validation_acc\n",
    "    }, ignore_index=True)\n",
    "\n",
    "performance_df.loc[num_trials] = ['Mean', performance_df['Training Accuracy'].mean(), performance_df['Validation Accuracy'].mean()]\n",
    "performance_df.loc[num_trials+1] = ['Median', performance_df['Training Accuracy'].median(), performance_df['Validation Accuracy'].median()]\n",
    "performance_df.loc[num_trials+2] = ['Max', performance_df['Training Accuracy'].max(), performance_df['Validation Accuracy'].max()]"
   ]
  },
  {
   "cell_type": "code",
   "execution_count": 50,
   "metadata": {},
   "outputs": [
    {
     "data": {
      "text/html": [
       "<div>\n",
       "<style scoped>\n",
       "    .dataframe tbody tr th:only-of-type {\n",
       "        vertical-align: middle;\n",
       "    }\n",
       "\n",
       "    .dataframe tbody tr th {\n",
       "        vertical-align: top;\n",
       "    }\n",
       "\n",
       "    .dataframe thead th {\n",
       "        text-align: right;\n",
       "    }\n",
       "</style>\n",
       "<table border=\"1\" class=\"dataframe\">\n",
       "  <thead>\n",
       "    <tr style=\"text-align: right;\">\n",
       "      <th></th>\n",
       "      <th>Trial Number</th>\n",
       "      <th>Training Accuracy</th>\n",
       "      <th>Validation Accuracy</th>\n",
       "    </tr>\n",
       "  </thead>\n",
       "  <tbody>\n",
       "    <tr>\n",
       "      <th>0</th>\n",
       "      <td>1.0</td>\n",
       "      <td>0.817251</td>\n",
       "      <td>0.540936</td>\n",
       "    </tr>\n",
       "    <tr>\n",
       "      <th>1</th>\n",
       "      <td>2.0</td>\n",
       "      <td>0.873538</td>\n",
       "      <td>0.54386</td>\n",
       "    </tr>\n",
       "    <tr>\n",
       "      <th>2</th>\n",
       "      <td>3.0</td>\n",
       "      <td>0.804094</td>\n",
       "      <td>0.684211</td>\n",
       "    </tr>\n",
       "    <tr>\n",
       "      <th>3</th>\n",
       "      <td>4.0</td>\n",
       "      <td>0.877924</td>\n",
       "      <td>0.792398</td>\n",
       "    </tr>\n",
       "    <tr>\n",
       "      <th>4</th>\n",
       "      <td>5.0</td>\n",
       "      <td>0.83114</td>\n",
       "      <td>0.625731</td>\n",
       "    </tr>\n",
       "    <tr>\n",
       "      <th>5</th>\n",
       "      <td>6.0</td>\n",
       "      <td>0.815058</td>\n",
       "      <td>0.719298</td>\n",
       "    </tr>\n",
       "    <tr>\n",
       "      <th>6</th>\n",
       "      <td>7.0</td>\n",
       "      <td>0.88962</td>\n",
       "      <td>0.736842</td>\n",
       "    </tr>\n",
       "    <tr>\n",
       "      <th>7</th>\n",
       "      <td>8.0</td>\n",
       "      <td>0.812135</td>\n",
       "      <td>0.839181</td>\n",
       "    </tr>\n",
       "    <tr>\n",
       "      <th>8</th>\n",
       "      <td>9.0</td>\n",
       "      <td>0.796053</td>\n",
       "      <td>0.614035</td>\n",
       "    </tr>\n",
       "    <tr>\n",
       "      <th>9</th>\n",
       "      <td>10.0</td>\n",
       "      <td>0.756579</td>\n",
       "      <td>0.549708</td>\n",
       "    </tr>\n",
       "    <tr>\n",
       "      <th>10</th>\n",
       "      <td>Mean</td>\n",
       "      <td>0.827339</td>\n",
       "      <td>0.66462</td>\n",
       "    </tr>\n",
       "    <tr>\n",
       "      <th>11</th>\n",
       "      <td>Median</td>\n",
       "      <td>0.817251</td>\n",
       "      <td>0.66462</td>\n",
       "    </tr>\n",
       "    <tr>\n",
       "      <th>12</th>\n",
       "      <td>Max</td>\n",
       "      <td>0.88962</td>\n",
       "      <td>0.839181</td>\n",
       "    </tr>\n",
       "  </tbody>\n",
       "</table>\n",
       "</div>"
      ],
      "text/plain": [
       "   Trial Number Training Accuracy Validation Accuracy\n",
       "0           1.0          0.817251            0.540936\n",
       "1           2.0          0.873538             0.54386\n",
       "2           3.0          0.804094            0.684211\n",
       "3           4.0          0.877924            0.792398\n",
       "4           5.0           0.83114            0.625731\n",
       "5           6.0          0.815058            0.719298\n",
       "6           7.0           0.88962            0.736842\n",
       "7           8.0          0.812135            0.839181\n",
       "8           9.0          0.796053            0.614035\n",
       "9          10.0          0.756579            0.549708\n",
       "10         Mean          0.827339             0.66462\n",
       "11       Median          0.817251             0.66462\n",
       "12          Max           0.88962            0.839181"
      ]
     },
     "execution_count": 50,
     "metadata": {},
     "output_type": "execute_result"
    }
   ],
   "source": [
    "performance_df"
   ]
  },
  {
   "cell_type": "code",
   "execution_count": 51,
   "metadata": {
    "id": "kT-zaS3WO3wM"
   },
   "outputs": [
    {
     "name": "stdout",
     "output_type": "stream",
     "text": [
      "2/2 [==============================] - 0s 9ms/step - loss: 0.6283 - accuracy: 0.7333\n",
      "The accuracy of the model on the testing data is 0.7333333492279053\n"
     ]
    }
   ],
   "source": [
    "# Use this cell to test your optimal model on the hold-out test data set\n",
    "\n",
    "# Obtain the perfomance metrics of the optimal model on the testing data set using the \"evaluate()\" method\n",
    "performance_test = cnn_model.evaluate(X_test, y_test)\n",
    "\n",
    "print('The accuracy of the model on the testing data is {}'.format(performance_test[1]))"
   ]
  },
  {
   "cell_type": "markdown",
   "metadata": {
    "id": "nq0s4S5XXzbO"
   },
   "source": [
    "### Checklist\n",
    "- Decided on a minimum validation accuracy\n",
    "- Trained multiple models till that accuracy is achieved\n",
    "- Your optimal model does well on the testing data"
   ]
  },
  {
   "cell_type": "markdown",
   "metadata": {
    "id": "kEevkruUX70f"
   },
   "source": [
    "Now that you have completed all the tasks in the assignment, please move on to create your analysis report, and subsequently prepare to submit the required files to the platform."
   ]
  }
 ],
 "metadata": {
  "accelerator": "GPU",
  "colab": {
   "provenance": [],
   "toc_visible": true
  },
  "gpuClass": "standard",
  "kernelspec": {
   "display_name": "Python 3 (ipykernel)",
   "language": "python",
   "name": "python3"
  },
  "language_info": {
   "codemirror_mode": {
    "name": "ipython",
    "version": 3
   },
   "file_extension": ".py",
   "mimetype": "text/x-python",
   "name": "python",
   "nbconvert_exporter": "python",
   "pygments_lexer": "ipython3",
   "version": "3.9.12"
  }
 },
 "nbformat": 4,
 "nbformat_minor": 1
}
